{
 "cells": [
  {
   "cell_type": "markdown",
   "id": "92f561fd-3bea-41d1-97c6-c657110c2842",
   "metadata": {},
   "source": [
    "## Data Overview"
   ]
  },
  {
   "cell_type": "code",
   "execution_count": 2,
   "id": "f16c1fbc-db07-4dd0-83ad-5e400abe3bd6",
   "metadata": {},
   "outputs": [
    {
     "data": {
      "text/html": [
       "<div>\n",
       "<style scoped>\n",
       "    .dataframe tbody tr th:only-of-type {\n",
       "        vertical-align: middle;\n",
       "    }\n",
       "\n",
       "    .dataframe tbody tr th {\n",
       "        vertical-align: top;\n",
       "    }\n",
       "\n",
       "    .dataframe thead th {\n",
       "        text-align: right;\n",
       "    }\n",
       "</style>\n",
       "<table border=\"1\" class=\"dataframe\">\n",
       "  <thead>\n",
       "    <tr style=\"text-align: right;\">\n",
       "      <th></th>\n",
       "      <th>username</th>\n",
       "      <th>gender</th>\n",
       "      <th>country</th>\n",
       "      <th>age</th>\n",
       "      <th>ethnicity</th>\n",
       "      <th>tags</th>\n",
       "    </tr>\n",
       "  </thead>\n",
       "  <tbody>\n",
       "    <tr>\n",
       "      <th>0</th>\n",
       "      <td>Gimme</td>\n",
       "      <td>Female</td>\n",
       "      <td>United Kingdom</td>\n",
       "      <td>N/A</td>\n",
       "      <td>N/A</td>\n",
       "      <td>[N/A]</td>\n",
       "    </tr>\n",
       "    <tr>\n",
       "      <th>1</th>\n",
       "      <td>Flyerswife</td>\n",
       "      <td>N/A</td>\n",
       "      <td>N/A</td>\n",
       "      <td>N/A</td>\n",
       "      <td>N/A</td>\n",
       "      <td>[N/A]</td>\n",
       "    </tr>\n",
       "    <tr>\n",
       "      <th>2</th>\n",
       "      <td>Coachtrip</td>\n",
       "      <td>N/A</td>\n",
       "      <td>United Kingdom</td>\n",
       "      <td>N/A</td>\n",
       "      <td>N/A</td>\n",
       "      <td>[Lung disease, Oxygen Therapy, Respiratory fai...</td>\n",
       "    </tr>\n",
       "    <tr>\n",
       "      <th>3</th>\n",
       "      <td>Wegeners88</td>\n",
       "      <td>Woman</td>\n",
       "      <td>United Kingdom</td>\n",
       "      <td>N/A</td>\n",
       "      <td>White</td>\n",
       "      <td>[Vasculitis, Prednisolone, Overactive thyroid ...</td>\n",
       "    </tr>\n",
       "    <tr>\n",
       "      <th>4</th>\n",
       "      <td>Tumorboy20</td>\n",
       "      <td>Man</td>\n",
       "      <td>United States</td>\n",
       "      <td>54</td>\n",
       "      <td>White</td>\n",
       "      <td>[Meningioma, Neurosurgery]</td>\n",
       "    </tr>\n",
       "  </tbody>\n",
       "</table>\n",
       "</div>"
      ],
      "text/plain": [
       "     username  gender         country  age ethnicity  \\\n",
       "0       Gimme  Female  United Kingdom  N/A       N/A   \n",
       "1  Flyerswife     N/A             N/A  N/A       N/A   \n",
       "2   Coachtrip     N/A  United Kingdom  N/A       N/A   \n",
       "3  Wegeners88   Woman  United Kingdom  N/A     White   \n",
       "4  Tumorboy20     Man   United States   54     White   \n",
       "\n",
       "                                                tags  \n",
       "0                                              [N/A]  \n",
       "1                                              [N/A]  \n",
       "2  [Lung disease, Oxygen Therapy, Respiratory fai...  \n",
       "3  [Vasculitis, Prednisolone, Overactive thyroid ...  \n",
       "4                         [Meningioma, Neurosurgery]  "
      ]
     },
     "execution_count": 2,
     "metadata": {},
     "output_type": "execute_result"
    }
   ],
   "source": [
    "import json\n",
    "import pandas as pd\n",
    "import numpy as np\n",
    "import os\n",
    "\n",
    "base_dir = os.path.abspath(\"..\")\n",
    "file_path = os.path.join(base_dir, \"data\", \"scraped_data\", \"general_profiles_data.json\")\n",
    "\n",
    "# Load JSON file\n",
    "with open(file_path, \"r\", encoding=\"utf-8\") as file:\n",
    "    data = json.load(file)\n",
    "    \n",
    "# Convert JSON to DataFrame\n",
    "user_profiles = []\n",
    "\n",
    "for username, profile in data.items():\n",
    "    user_profiles.append({\n",
    "        \"username\": username,\n",
    "        \"gender\": profile[\"demographics\"].get(\"gender\", \"N/A\"),\n",
    "        \"country\": profile[\"demographics\"].get(\"country\", \"N/A\"),\n",
    "        \"age\": profile[\"demographics\"].get(\"age\", \"N/A\"),\n",
    "        \"ethnicity\": profile[\"demographics\"].get(\"ethnicity\", \"N/A\"),\n",
    "        \"tags\": profile.get(\"tags\", [\"N/A\"]),\n",
    "    })\n",
    "\n",
    "df = pd.DataFrame(user_profiles)\n",
    "df.head()"
   ]
  },
  {
   "cell_type": "markdown",
   "id": "0355c4b1-461c-47a9-9809-8717fe08ba40",
   "metadata": {},
   "source": [
    "## General Statistics"
   ]
  },
  {
   "cell_type": "code",
   "execution_count": 4,
   "id": "bf2adf87-e68b-46b7-a665-3f3bcd1e4866",
   "metadata": {},
   "outputs": [
    {
     "data": {
      "text/html": [
       "<div>\n",
       "<style scoped>\n",
       "    .dataframe tbody tr th:only-of-type {\n",
       "        vertical-align: middle;\n",
       "    }\n",
       "\n",
       "    .dataframe tbody tr th {\n",
       "        vertical-align: top;\n",
       "    }\n",
       "\n",
       "    .dataframe thead th {\n",
       "        text-align: right;\n",
       "    }\n",
       "</style>\n",
       "<table border=\"1\" class=\"dataframe\">\n",
       "  <thead>\n",
       "    <tr style=\"text-align: right;\">\n",
       "      <th></th>\n",
       "      <th>Metric</th>\n",
       "      <th>Value</th>\n",
       "    </tr>\n",
       "  </thead>\n",
       "  <tbody>\n",
       "    <tr>\n",
       "      <th>0</th>\n",
       "      <td>Gender Distribution</td>\n",
       "      <td>{'N/A': 4011, 'Female': 3934, 'Male': 1745, 'Woman': 1210, 'Man': 554, 'Other': 31, 'Prefer not to say': 23, 'Non-binary': 7, 'My pronouns are she/her.  Beyond that, I'm just me': 1, 'She/They/He': 1, 'She/they': 1}</td>\n",
       "    </tr>\n",
       "    <tr>\n",
       "      <th>1</th>\n",
       "      <td>Total Users</td>\n",
       "      <td>11518</td>\n",
       "    </tr>\n",
       "    <tr>\n",
       "      <th>2</th>\n",
       "      <td>Demographics Overview</td>\n",
       "      <td>{'gender': {'count': 11518, 'unique': 11, 'top': 'N/A', 'freq': 4011}, 'country': {'count': 11518, 'unique': 98, 'top': 'United Kingdom', 'freq': 4273}, 'age': {'count': 11518, 'unique': 76, 'top': 'N/A', 'freq': 7477}, 'ethnicity': {'count': 11518, 'unique': 18, 'top': 'N/A', 'freq': 5930}}</td>\n",
       "    </tr>\n",
       "    <tr>\n",
       "      <th>3</th>\n",
       "      <td>Total Unique Tags</td>\n",
       "      <td>2140</td>\n",
       "    </tr>\n",
       "    <tr>\n",
       "      <th>4</th>\n",
       "      <td>Users without Tags</td>\n",
       "      <td>2964</td>\n",
       "    </tr>\n",
       "    <tr>\n",
       "      <th>5</th>\n",
       "      <td>Average Tags per User</td>\n",
       "      <td>3.424379</td>\n",
       "    </tr>\n",
       "    <tr>\n",
       "      <th>6</th>\n",
       "      <td>Median Tags per User</td>\n",
       "      <td>2.0</td>\n",
       "    </tr>\n",
       "  </tbody>\n",
       "</table>\n",
       "</div>"
      ],
      "text/plain": [
       "                  Metric                                                                                                                                                                                                                                                                                                 Value\n",
       "0    Gender Distribution                                                                               {'N/A': 4011, 'Female': 3934, 'Male': 1745, 'Woman': 1210, 'Man': 554, 'Other': 31, 'Prefer not to say': 23, 'Non-binary': 7, 'My pronouns are she/her.  Beyond that, I'm just me': 1, 'She/They/He': 1, 'She/they': 1}\n",
       "1            Total Users                                                                                                                                                                                                                                                                                                 11518\n",
       "2  Demographics Overview  {'gender': {'count': 11518, 'unique': 11, 'top': 'N/A', 'freq': 4011}, 'country': {'count': 11518, 'unique': 98, 'top': 'United Kingdom', 'freq': 4273}, 'age': {'count': 11518, 'unique': 76, 'top': 'N/A', 'freq': 7477}, 'ethnicity': {'count': 11518, 'unique': 18, 'top': 'N/A', 'freq': 5930}}\n",
       "3      Total Unique Tags                                                                                                                                                                                                                                                                                                  2140\n",
       "4     Users without Tags                                                                                                                                                                                                                                                                                                  2964\n",
       "5  Average Tags per User                                                                                                                                                                                                                                                                                              3.424379\n",
       "6   Median Tags per User                                                                                                                                                                                                                                                                                                   2.0"
      ]
     },
     "execution_count": 4,
     "metadata": {},
     "output_type": "execute_result"
    }
   ],
   "source": [
    "# 1. Gender distribution\n",
    "gender_counts = df[\"gender\"].value_counts()\n",
    "\n",
    "# # 2. Demographics\n",
    "demographic_stats = df[[\"gender\", \"country\", \"age\", \"ethnicity\"]].describe(include=\"all\")\n",
    "\n",
    "# 3. Unique tags\n",
    "all_tags = [tag for tag_list in df[\"tags\"] for tag in tag_list if tag != 'N/A']\n",
    "unique_tags = set(all_tags)\n",
    "num_unique_tags = len(unique_tags)\n",
    "\n",
    "# 4. Users without any tags\n",
    "users_without_tags = [tags for tags in df[\"tags\"] if tags == ['N/A']]\n",
    "num_users_without_tags = len(users_without_tags)\n",
    "\n",
    "# # 5. Average / Median number of tags per user\n",
    "df[\"num_tags\"] = df[\"tags\"].apply(lambda tags: len(tags) if tags != ['N/A'] else 0)\n",
    "avg_tags_per_user = df[\"num_tags\"].mean()\n",
    "median_tags_per_user = df[\"num_tags\"].median()\n",
    "\n",
    "# --------------------\n",
    "# Visualize\n",
    "# --------------------\n",
    "results = {\n",
    "    \"Gender Distribution\": gender_counts.to_dict(),\n",
    "    \"Total Users\": len(df),\n",
    "    \"Demographics Overview\": demographic_stats.to_dict(),\n",
    "    \"Total Unique Tags\": num_unique_tags,\n",
    "    \"Users without Tags\": num_users_without_tags,\n",
    "    \"Average Tags per User\": avg_tags_per_user,\n",
    "    \"Median Tags per User\": median_tags_per_user,\n",
    "}\n",
    "\n",
    "pd.set_option(\"display.max_colwidth\", None)  # Show full content in each column\n",
    "pd.set_option(\"display.max_columns\", None)  # Show all columns\n",
    "pd.set_option(\"display.expand_frame_repr\", False)  # Prevent line wrapping-\n",
    "pd.set_option(\"display.max_rows\", None)  # Show all rows if needed\n",
    "\n",
    "# Convert results to DataFrame\n",
    "df_results = pd.DataFrame(list(results.items()), columns=[\"Metric\", \"Value\"])\n",
    "\n",
    "df_results"
   ]
  },
  {
   "cell_type": "markdown",
   "id": "677dd946-2116-4851-9421-3f487fbecd57",
   "metadata": {},
   "source": [
    "## Demographics"
   ]
  },
  {
   "cell_type": "code",
   "execution_count": 5,
   "id": "f585b256-9f59-4164-9443-cbea7f4c0ab7",
   "metadata": {},
   "outputs": [
    {
     "data": {
      "text/html": [
       "<div>\n",
       "<style scoped>\n",
       "    .dataframe tbody tr th:only-of-type {\n",
       "        vertical-align: middle;\n",
       "    }\n",
       "\n",
       "    .dataframe tbody tr th {\n",
       "        vertical-align: top;\n",
       "    }\n",
       "\n",
       "    .dataframe thead th {\n",
       "        text-align: right;\n",
       "    }\n",
       "</style>\n",
       "<table border=\"1\" class=\"dataframe\">\n",
       "  <thead>\n",
       "    <tr style=\"text-align: right;\">\n",
       "      <th></th>\n",
       "      <th>gender</th>\n",
       "      <th>country</th>\n",
       "      <th>age</th>\n",
       "      <th>ethnicity</th>\n",
       "    </tr>\n",
       "  </thead>\n",
       "  <tbody>\n",
       "    <tr>\n",
       "      <th>0</th>\n",
       "      <td>{'count': 11518, 'unique': 11, 'top': 'N/A', 'freq': 4011}</td>\n",
       "      <td>{'count': 11518, 'unique': 98, 'top': 'United Kingdom', 'freq': 4273}</td>\n",
       "      <td>{'count': 11518, 'unique': 76, 'top': 'N/A', 'freq': 7477}</td>\n",
       "      <td>{'count': 11518, 'unique': 18, 'top': 'N/A', 'freq': 5930}</td>\n",
       "    </tr>\n",
       "  </tbody>\n",
       "</table>\n",
       "</div>"
      ],
      "text/plain": [
       "                                                       gender                                                                country                                                         age                                                   ethnicity\n",
       "0  {'count': 11518, 'unique': 11, 'top': 'N/A', 'freq': 4011}  {'count': 11518, 'unique': 98, 'top': 'United Kingdom', 'freq': 4273}  {'count': 11518, 'unique': 76, 'top': 'N/A', 'freq': 7477}  {'count': 11518, 'unique': 18, 'top': 'N/A', 'freq': 5930}"
      ]
     },
     "execution_count": 5,
     "metadata": {},
     "output_type": "execute_result"
    }
   ],
   "source": [
    "# Extract demographics for better overview\n",
    "demographics_df = pd.DataFrame([df_results[df_results[\"Metric\"] == \"Demographics Overview\"][\"Value\"].values[0]])\n",
    "demographics_df"
   ]
  },
  {
   "cell_type": "markdown",
   "id": "fd860ef2-0ae8-4dea-90f8-3e6e7041453c",
   "metadata": {},
   "source": [
    "### Countries"
   ]
  },
  {
   "cell_type": "code",
   "execution_count": 12,
   "id": "5ce95dcc-136c-412f-9f50-805730eee4aa",
   "metadata": {},
   "outputs": [
    {
     "name": "stdout",
     "output_type": "stream",
     "text": [
      "          Country  Count  Percentage\n",
      "0  United Kingdom   4273   37.098455\n",
      "1             N/A   4050   35.162355\n",
      "2   United States   2203   19.126584\n"
     ]
    }
   ],
   "source": [
    "# Count occurrences of each country\n",
    "country_counts = df[\"country\"].value_counts()\n",
    "\n",
    "# Calculate percentage of each country\n",
    "country_percentage = (country_counts / len(df)) * 100\n",
    "\n",
    "# Filter countries with a percentage > 5%\n",
    "countries_above_5_percent = country_percentage[country_percentage > 5]\n",
    "\n",
    "# Convert to DataFrame\n",
    "country_percentage = pd.DataFrame({\n",
    "    \"Country\": countries_above_5_percent.index,\n",
    "    \"Count\": country_counts.loc[countries_above_5_percent.index].values,\n",
    "    \"Percentage\": countries_above_5_percent.values\n",
    "})\n",
    "\n",
    "print(country_percentage)"
   ]
  },
  {
   "cell_type": "markdown",
   "id": "0b239efd-cb82-44b8-b97c-f7aa8f0b26f6",
   "metadata": {},
   "source": [
    "### Age"
   ]
  },
  {
   "cell_type": "code",
   "execution_count": 13,
   "id": "087e08a1-6352-4654-8124-5297c68ecf52",
   "metadata": {
    "scrolled": true
   },
   "outputs": [
    {
     "name": "stdout",
     "output_type": "stream",
     "text": [
      "  Age Group  Count  Percentage\n",
      "0       nan   7477   64.915784\n",
      "1   Over 70    878    7.622851\n",
      "2     60-70    866    7.518666\n",
      "3     50-60    799    6.936968\n",
      "4     30-40    586    5.087689\n",
      "5     40-50    516    4.479944\n",
      "6     18-30    396    3.438097\n",
      "7  Under 18      0    0.000000\n"
     ]
    }
   ],
   "source": [
    "# Define age groups\n",
    "age_bins = [0, 18, 30, 40, 50, 60, 70, float(\"inf\")]\n",
    "age_labels = [\"Under 18\", \"18-30\", \"30-40\", \"40-50\", \"50-60\", \"60-70\", \"Over 70\"]\n",
    "\n",
    "# Convert age column to numeric, replacing \"N/A\" with NaN\n",
    "df[\"age\"] = pd.to_numeric(df[\"age\"], errors=\"coerce\")\n",
    "\n",
    "# Categorize users into age groups\n",
    "df[\"age_group\"] = pd.cut(df[\"age\"], bins=age_bins, labels=age_labels, right=False)\n",
    "\n",
    "# Count occurrences of each age group\n",
    "age_group_counts = df[\"age_group\"].value_counts(dropna=False)\n",
    "\n",
    "# Calculate percentage of each age group\n",
    "age_group_percentage = (age_group_counts / len(df)) * 100\n",
    "\n",
    "# Count \"N/A\" values and calculate their percentage\n",
    "na_count = df[\"age\"].isna().sum()\n",
    "na_percentage = (na_count / len(df)) * 100\n",
    "\n",
    "age_stats_df = pd.DataFrame({\n",
    "    \"Age Group\": age_group_counts.index.astype(str),\n",
    "    \"Count\": age_group_counts.values,\n",
    "    \"Percentage\": age_group_percentage.values\n",
    "})\n",
    "\n",
    "print(age_stats_df)"
   ]
  },
  {
   "cell_type": "markdown",
   "id": "116c10f6-2a3e-45b6-a1f5-11d6211b0105",
   "metadata": {},
   "source": [
    "### Gender"
   ]
  },
  {
   "cell_type": "code",
   "execution_count": 14,
   "id": "209e144f-62c5-4ba2-9b60-ee592d12e1d4",
   "metadata": {},
   "outputs": [
    {
     "name": "stdout",
     "output_type": "stream",
     "text": [
      "                                                Gender  Count  Percentage\n",
      "0                                                  N/A   4011   34.823754\n",
      "1                                               Female   3934   34.155235\n",
      "2                                                 Male   1745   15.150200\n",
      "3                                                Woman   1210   10.505296\n",
      "4                                                  Man    554    4.809863\n",
      "5                                                Other     31    0.269144\n",
      "6                                    Prefer not to say     23    0.199687\n",
      "7                                           Non-binary      7    0.060774\n",
      "8   My pronouns are she/her.  Beyond that, I'm just me      1    0.008682\n",
      "9                                          She/They/He      1    0.008682\n",
      "10                                            She/they      1    0.008682\n"
     ]
    }
   ],
   "source": [
    "# GENDER DISTRIBUTION (Original Groups)\n",
    "\n",
    "# Count occurrences of each gender\n",
    "gender_counts = df[\"gender\"].value_counts()\n",
    "\n",
    "# Calculate percentage of each gender\n",
    "gender_percentage = (gender_counts / len(df)) * 100\n",
    "\n",
    "gender_stats_df = pd.DataFrame({\n",
    "    \"Gender\": gender_counts.index,\n",
    "    \"Count\": gender_counts.values,\n",
    "    \"Percentage\": gender_percentage.values\n",
    "})\n",
    "\n",
    "print(gender_stats_df)"
   ]
  },
  {
   "cell_type": "code",
   "execution_count": 15,
   "id": "4152923c-23ad-41a5-9397-6dc73bb26b6e",
   "metadata": {},
   "outputs": [
    {
     "name": "stdout",
     "output_type": "stream",
     "text": [
      "   Gender  Count  Percentage\n",
      "0  Female   5144   44.660531\n",
      "1     N/A   4034   35.023442\n",
      "2    Male   2299   19.960063\n",
      "3  Others     41    0.355965\n"
     ]
    }
   ],
   "source": [
    "# GENDER DISTRIBUTION (4 Groups)\n",
    "\n",
    "# Define final gender mapping\n",
    "final_gender_mapping = {\n",
    "    \"N/A\": \"N/A\",\n",
    "    \"Prefer not to say\": \"N/A\",\n",
    "    \"Female\": \"Female\",\n",
    "    \"Woman\": \"Female\",\n",
    "    \"Male\": \"Male\",\n",
    "    \"Man\": \"Male\",\n",
    "    \"Others\" : \"Others\",\n",
    "    \"Non-binary\" : \"Others\",\n",
    "    \"My pronouns are she/her.  Beyond that, I'm just me\" : \"Others\", \n",
    "    \"She/They/He\": \"Others\",\n",
    "    \"She/they\" : \"Others\",\n",
    "}\n",
    "\n",
    "# Apply the mapping, defaulting to \"Other\" for any unspecified values\n",
    "df[\"gender\"] = df[\"gender\"].apply(lambda x: final_gender_mapping.get(x, \"Others\"))\n",
    "\n",
    "# Recalculate gender distribution\n",
    "final_gender_counts = df[\"gender\"].value_counts()\n",
    "final_gender_percentage = (final_gender_counts / len(df)) * 100\n",
    "\n",
    "final_gender_stats_df = pd.DataFrame({\n",
    "    \"Gender\": final_gender_counts.index,\n",
    "    \"Count\": final_gender_counts.values,\n",
    "    \"Percentage\": final_gender_percentage.values\n",
    "})\n",
    "\n",
    "print(final_gender_stats_df)"
   ]
  },
  {
   "cell_type": "markdown",
   "id": "13fece8f-1465-4d01-8d5f-b7256e1ee548",
   "metadata": {},
   "source": [
    "### Ethnicity"
   ]
  },
  {
   "cell_type": "code",
   "execution_count": 19,
   "id": "effaa746-0348-47fd-9e0f-61e823622a2f",
   "metadata": {},
   "outputs": [
    {
     "name": "stdout",
     "output_type": "stream",
     "text": [
      "                                      Ethnicity  Count  Percentage\n",
      "0                                           N/A   5930   51.484633\n",
      "1                                         White   3894   33.807953\n",
      "2                             White / Caucasian    899    7.805175\n",
      "3                                   South Asian    149    1.293627\n",
      "4                             Prefer not to say    137    1.189443\n",
      "5                Mixed / Multiple ethnic groups    114    0.989755\n",
      "6                   Hispanic / Latino / Spanish     70    0.607744\n",
      "7                      Black / African American     69    0.599062\n",
      "8                            Other ethnic group     49    0.425421\n",
      "9                   Black / African / Caribbean     43    0.373329\n",
      "10                                   East Asian     43    0.373329\n",
      "11                            Latino / Hispanic     36    0.312554\n",
      "12  Black / African / Caribbean / Black British     35    0.303872\n",
      "13                               Middle Eastern     22    0.191005\n",
      "14                        Asian / Asian British     16    0.138913\n",
      "15                                        Asian      7    0.060774\n",
      "16               Middle Eastern / North African      4    0.034728\n",
      "17   Native Hawaiians / Other Pacific Islanders      1    0.008682\n"
     ]
    }
   ],
   "source": [
    "# Count occurrences of each ethnicity\n",
    "ethnicity_counts = df[\"ethnicity\"].value_counts()\n",
    "\n",
    "# Calculate percentage of each ethnicity\n",
    "ethnicity_percentage = (ethnicity_counts / len(df)) * 100\n",
    "\n",
    "ethnicity_percentage = pd.DataFrame({\n",
    "    \"Ethnicity\": ethnicity_counts.index,\n",
    "    \"Count\": ethnicity_counts.values,\n",
    "    \"Percentage\": ethnicity_percentage.values\n",
    "})\n",
    "\n",
    "# Filter ethnicities with percentage above 5%\n",
    "# ethnicities_above_5_percent = ethnicity_stats_df[ethnicity_stats_df[\"Percentage\"] > 5]\n",
    "\n",
    "print(ethnicity_percentage)"
   ]
  },
  {
   "cell_type": "code",
   "execution_count": 17,
   "id": "c1c56525-4c8d-40db-b9f2-e4884636d386",
   "metadata": {},
   "outputs": [
    {
     "name": "stdout",
     "output_type": "stream",
     "text": [
      "           Ethnicity  Count  Percentage\n",
      "0                N/A   6067   52.674075\n",
      "1              White   3894   33.807953\n",
      "2  White / Caucasian    899    7.805175\n",
      "3             Others    658    5.712797\n"
     ]
    }
   ],
   "source": [
    "# Define ethnicity mapping to major groups\n",
    "ethnicity_mapping = {\n",
    "    \"N/A\": \"N/A\",\n",
    "    \"Prefer not to say\": \"N/A\",\n",
    "    \n",
    "    \"Latino\": \"Latino\",\n",
    "    \"Hispanic / Latino / Spanish\": \"Latino\",\n",
    "    \"Latino\": \"Latino / Hispanic\",\n",
    "    \n",
    "    \"Black\": \"Black\",\n",
    "    \"Black\": \"Black\",\n",
    "    \"Black\": \"Black\",\n",
    "    \"Black\": \"Black\",\n",
    "    \n",
    "    \n",
    "    \"White\": \"White\",\n",
    "    \n",
    "    \"Asian\": \"Asian\",\n",
    "    \n",
    "    \"Other ethnic group\" : \"Other ethnic group\"\n",
    "}\n",
    "\n",
    "# Apply the mapping, defaulting to the original value if not found\n",
    "df[\"ethnicity_mapped\"] = df[\"ethnicity\"].apply(lambda x: ethnicity_mapping.get(x, x))\n",
    "\n",
    "# Recalculate ethnicity distribution\n",
    "ethnicity_counts = df[\"ethnicity_mapped\"].value_counts()\n",
    "ethnicity_percentage = (ethnicity_counts / len(df)) * 100\n",
    "\n",
    "# Identify groups above 5% significance\n",
    "significant_ethnicities = ethnicity_percentage[ethnicity_percentage > 5].index.tolist()\n",
    "\n",
    "# Assign all other groups to \"Others\"\n",
    "df[\"ethnicity_final\"] = df[\"ethnicity_mapped\"].apply(lambda x: x if x in significant_ethnicities else \"Others\")\n",
    "\n",
    "# Recalculate final ethnicity distribution\n",
    "final_ethnicity_counts = df[\"ethnicity_final\"].value_counts()\n",
    "final_ethnicity_percentage = (final_ethnicity_counts / len(df)) * 100\n",
    "\n",
    "final_ethnicity_stats_df = pd.DataFrame({\n",
    "    \"Ethnicity\": final_ethnicity_counts.index,\n",
    "    \"Count\": final_ethnicity_counts.values,\n",
    "    \"Percentage\": final_ethnicity_percentage.values\n",
    "})\n",
    "\n",
    "# Display results\n",
    "print(final_ethnicity_stats_df)\n"
   ]
  },
  {
   "cell_type": "markdown",
   "id": "39ef73db-6fc5-4da3-a109-dbefcb327a58",
   "metadata": {
    "jp-MarkdownHeadingCollapsed": true
   },
   "source": [
    "## Tags"
   ]
  },
  {
   "cell_type": "code",
   "execution_count": 23,
   "id": "2db6b5ad-83e8-431b-b1f5-18e400a26be4",
   "metadata": {},
   "outputs": [],
   "source": [
    "# Unique tags\n",
    "all_tags = []\n",
    "for tag_list in df[\"tags\"]:\n",
    "    for tag in tag_list:\n",
    "        if tag != 'N/A':\n",
    "            all_tags.append(tag)\n",
    "unique_tags = set(all_tags)\n",
    "num_unique_tags = len(unique_tags)"
   ]
  },
  {
   "cell_type": "code",
   "execution_count": 52,
   "id": "9ea08b9f-6316-441d-b98a-f3d9bd7757c3",
   "metadata": {},
   "outputs": [
    {
     "name": "stdout",
     "output_type": "stream",
     "text": [
      "165\n"
     ]
    }
   ],
   "source": [
    "# Users without any tags\n",
    "users_without_tags = [tags for tags in df[\"tags\"] if tags == ['N/A']]\n",
    "num_users_without_tags = len(users_without_tags)"
   ]
  },
  {
   "cell_type": "code",
   "execution_count": null,
   "id": "3c855c60-8d85-4585-af0b-7d9a0a1d70e4",
   "metadata": {},
   "outputs": [],
   "source": [
    "# Average / Median number of tags per user\n",
    "# Add new column with number of tags per user\n",
    "df[\"num_tags\"] = df[\"tags\"].apply(lambda tags: len(tags) if tags != ['N/A'] else 0)\n",
    "\n",
    "avg_tags_per_user = df[\"num_tags\"].mean()\n",
    "median_tags_per_user = df[\"num_tags\"].median()"
   ]
  }
 ],
 "metadata": {
  "kernelspec": {
   "display_name": "Python 3 (ipykernel)",
   "language": "python",
   "name": "python3"
  },
  "language_info": {
   "codemirror_mode": {
    "name": "ipython",
    "version": 3
   },
   "file_extension": ".py",
   "mimetype": "text/x-python",
   "name": "python",
   "nbconvert_exporter": "python",
   "pygments_lexer": "ipython3",
   "version": "3.11.6"
  }
 },
 "nbformat": 4,
 "nbformat_minor": 5
}
