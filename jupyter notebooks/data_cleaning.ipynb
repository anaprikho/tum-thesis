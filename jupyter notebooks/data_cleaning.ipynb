{
 "cells": [
  {
   "cell_type": "markdown",
   "id": "875db3eb-55b0-4b42-84b1-353fa818c5a8",
   "metadata": {
    "jp-MarkdownHeadingCollapsed": true
   },
   "source": [
    "# General Pattern"
   ]
  },
  {
   "cell_type": "markdown",
   "id": "6c74c728-9501-4cea-931e-11e4e7ef12e0",
   "metadata": {
    "jp-MarkdownHeadingCollapsed": true
   },
   "source": [
    "## general profiles data"
   ]
  },
  {
   "cell_type": "markdown",
   "id": "f7062e8f-4419-4b93-b62f-3d2c15846056",
   "metadata": {},
   "source": [
    "Data preprocssing / cleaning:\n",
    "\n",
    "Filter out users with no tags: tags: [\"N/A\"]\n",
    "\n",
    "final_gender_mapping = {\n",
    "\n",
    "    \"N/A\": \"N/A\",\n",
    "    \"Prefer not to say\": \"N/A\",\n",
    "    \"Female\": \"Female\",\n",
    "    \"Woman\": \"Female\",\n",
    "    \"Male\": \"Male\",\n",
    "    \"Man\": \"Male\",\n",
    "    \"Others\" : \"Others\",\n",
    "    \"Non-binary\" : \"Others\",\n",
    "    \"My pronouns are she/her.  Beyond that, I'm just me\" : \"Others\", \n",
    "    \"She/They/He\": \"Others\",\n",
    "    \"She/they\" : \"Others\",\n",
    "    \n",
    "}\n",
    "\n",
    "ethnicity_mapping = {\n",
    "\n",
    "    \"N/A\": \"N/A\",\n",
    "    \"Prefer not to say\": \"N/A\",\n",
    "    \n",
    "    \"Latino\": \"Latino\",\n",
    "    \"Hispanic / Latino / Spanish\": \"Latino\",\n",
    "    \"Latino / Hispanic\": \"Latino\",\n",
    "    \n",
    "    \"Black\": \"Black\",\n",
    "    \"Black / African American\": \"Black\",\n",
    "    \"Black / African / Caribbean\": \"Black\",\n",
    "    \"Black / African / Caribbean / Black British\": \"Black\",\n",
    "    \n",
    "    \n",
    "    \"White\": \"White\",\n",
    "    \"White / Caucasian\": \"White\",\n",
    "    \n",
    "    \"Asian\": \"Asian\",\n",
    "    \"South Asian\": \"Asian\",\n",
    "    \"East Asian\": \"Asian\",\n",
    "    \"Asian / Asian British\": \"Asian\",\n",
    "\n",
    "    \"Middle Eastern\": \"Middle Eastern\",\n",
    "    \"Middle Eastern / North African\": \"Middle Eastern\",\n",
    "    \n",
    "    \"Other ethnic group\" : \"Other ethnic group\"\n",
    "}"
   ]
  },
  {
   "cell_type": "code",
   "execution_count": 6,
   "id": "ab62f23f-d4ed-4258-9b80-5315fec16e6a",
   "metadata": {},
   "outputs": [
    {
     "name": "stdout",
     "output_type": "stream",
     "text": [
      "Original number of users: 11518\n",
      "Number of users with no tags ('N/A'): 2964\n",
      "Number of users after filtering (with tags): 8554 -> 74.27%\n"
     ]
    }
   ],
   "source": [
    "import os\n",
    "import json\n",
    "import pandas as pd\n",
    "\n",
    "base_dir = os.path.abspath(\"..\")\n",
    "file_path = os.path.join(base_dir, \"data\", \"scraped_data\", \"general_profiles_data.json\")\n",
    "output_path = os.path.join(base_dir, \"data\", \"data_cleaned\", \"general_profiles_data.json\")\n",
    "\n",
    "# Load JSON file\n",
    "with open(file_path, \"r\") as file:\n",
    "    data = json.load(file)\n",
    "\n",
    "# Filter out users with no tags: \"tags\": [\"N/A\"]]\n",
    "users_with_no_tags = {}\n",
    "filtered_data = {}\n",
    "for user, info in data.items():\n",
    "    if info[\"tags\"] != [\"N/A\"]:\n",
    "        filtered_data[user] = info\n",
    "    else:\n",
    "        users_with_no_tags[user] = info\n",
    "\n",
    "# Gender: define super-categories\n",
    "gender_mapping = {\n",
    "    \"N/A\": \"N/A\",\n",
    "    \"Prefer not to say\": \"N/A\",\n",
    "    \"Female\": \"Female\",\n",
    "    \"Woman\": \"Female\",\n",
    "    \"Male\": \"Male\",\n",
    "    \"Man\": \"Male\",\n",
    "    \"Others\": \"Others\",\n",
    "    \"Non-binary\": \"Others\",\n",
    "    \"My pronouns are she/her.  Beyond that, I'm just me\": \"Others\",\n",
    "    \"She/They/He\": \"Others\",\n",
    "    \"She/they\": \"Others\",\n",
    "}\n",
    "\n",
    "# Ethnicity: define super-categories\n",
    "ethnicity_mapping = {\n",
    "\n",
    "    \"N/A\": \"N/A\",\n",
    "    \"Prefer not to say\": \"N/A\",\n",
    "    \n",
    "    \"Latino\": \"Latino\",\n",
    "    \"Hispanic / Latino / Spanish\": \"Latino\",\n",
    "    \"Latino / Hispanic\": \"Latino\",\n",
    "    \n",
    "    \"Black\": \"Black\",\n",
    "    \"Black / African American\": \"Black\",\n",
    "    \"Black / African / Caribbean\": \"Black\",\n",
    "    \"Black / African / Caribbean / Black British\": \"Black\",\n",
    "    \n",
    "    \n",
    "    \"White\": \"White\",\n",
    "    \"White / Caucasian\": \"White\",\n",
    "    \n",
    "    \"Asian\": \"Asian\",\n",
    "    \"South Asian\": \"Asian\",\n",
    "    \"East Asian\": \"Asian\",\n",
    "    \"Asian / Asian British\": \"Asian\",\n",
    "\n",
    "    \"Middle Eastern\": \"Middle Eastern\",\n",
    "    \"Middle Eastern / North African\": \"Middle Eastern\",\n",
    "    \n",
    "    \"Other ethnic group\" : \"Other ethnic group\"\n",
    "}\n",
    "# Map Gernder and Ethnicity demographics of each user\n",
    "for user_info in filtered_data.values():\n",
    "    gender = user_info[\"demographics\"].get(\"gender\", \"N/A\")\n",
    "    ethnicity = user_info[\"demographics\"].get(\"ethnicity\", \"N/A\")\n",
    "    \n",
    "    user_info[\"demographics\"][\"gender\"] = gender_mapping.get(gender, \"Others\")\n",
    "    user_info[\"demographics\"][\"ethnicity\"] = ethnicity_mapping.get(ethnicity, \"Other ethnic group\")\n",
    "\n",
    "# Save to JSON\n",
    "with open(output_path, \"w\") as outfile:\n",
    "    json.dump(filtered_data, outfile, indent=2)\n",
    "    \n",
    "    \n",
    "percentage_with_tags = (len(filtered_data) / len(data)) * 100\n",
    "\n",
    "print(f\"Original number of users: {len(data)}\")\n",
    "print(f\"Number of users with no tags ('N/A'): {len(users_with_no_tags)}\")\n",
    "print(f\"Number of users after filtering (with tags): {len(filtered_data)} -> {percentage_with_tags:.2f}%\")"
   ]
  },
  {
   "cell_type": "code",
   "execution_count": 5,
   "id": "680a1045-68df-4ab4-9847-70e650a0a875",
   "metadata": {},
   "outputs": [
    {
     "name": "stdout",
     "output_type": "stream",
     "text": [
      "\n",
      "Gender distribution after mapping:\n",
      "gender\n",
      "Female    4440\n",
      "N/A       2076\n",
      "Male      2005\n",
      "Others      33\n",
      "Name: count, dtype: int64\n",
      "\n",
      "Ethnicity distribution after mapping:\n",
      "ethnicity\n",
      "White                 4453\n",
      "N/A                   3524\n",
      "Asian                  190\n",
      "Other ethnic group     143\n",
      "Black                  130\n",
      "Latino                  93\n",
      "Middle Eastern          21\n",
      "Name: count, dtype: int64\n"
     ]
    }
   ],
   "source": [
    "df = pd.DataFrame([\n",
    "    {\n",
    "        \"gender\": info[\"demographics\"].get(\"gender\", \"N/A\"),\n",
    "        \"ethnicity\": info[\"demographics\"].get(\"ethnicity\", \"N/A\")\n",
    "    }\n",
    "    for info in filtered_data.values()\n",
    "])\n",
    "\n",
    "print(\"\\nGender distribution after mapping:\")\n",
    "print(df[\"gender\"].value_counts())\n",
    "\n",
    "print(\"\\nEthnicity distribution after mapping:\")\n",
    "print(df[\"ethnicity\"].value_counts())"
   ]
  },
  {
   "cell_type": "markdown",
   "id": "3de6f3ca-d62e-4a0c-ad3e-efd39bbd6a46",
   "metadata": {
    "jp-MarkdownHeadingCollapsed": true
   },
   "source": [
    "# Community-Specific Patterns"
   ]
  },
  {
   "cell_type": "markdown",
   "id": "3757dd1f-a264-43da-a5ac-ee0fddec209b",
   "metadata": {
    "jp-MarkdownHeadingCollapsed": true
   },
   "source": [
    "## profiles by comm data"
   ]
  },
  {
   "cell_type": "markdown",
   "id": "bfee52cf-7d03-455e-aa4d-0f7732739de6",
   "metadata": {},
   "source": [
    "Data preprocssing / cleaning:\n",
    "\n",
    "Filter out users with no tags: tags: [\"N/A\"]"
   ]
  },
  {
   "cell_type": "code",
   "execution_count": 15,
   "id": "5c651b39-60f9-4db1-b2a8-c37cb2d2b959",
   "metadata": {},
   "outputs": [
    {
     "name": "stdout",
     "output_type": "stream",
     "text": [
      "Original number of users (mentions): 37777\n",
      "Number of users with no tags ('N/A') (unique): 19165\n",
      "Number of UNQIUE users with tags (users may me members in multiple comm): 18612 -> 49.27%\n",
      "\n",
      "*Number of users with tags (mentions): 15757 -> 41.71%\n"
     ]
    }
   ],
   "source": [
    "import os\n",
    "import json\n",
    "import pandas as pd\n",
    "\n",
    "base_dir = os.path.abspath(\"..\")\n",
    "file_path = os.path.join(base_dir, \"data\", \"scraped_data\", \"profiles_by_comm_data.json\")\n",
    "output_path = os.path.join(base_dir, \"data\", \"data_cleaned\", \"profiles_by_comm_data.json\")\n",
    "\n",
    "# Load JSON file\n",
    "with open(file_path, \"r\") as file:\n",
    "    data = json.load(file)\n",
    "\n",
    "# Filter out users with no tags: \"tags\" = [\"N/A\"]\n",
    "users_total = 0\n",
    "users_with_no_tags_unique = {}\n",
    "users_with_no_tags_duplicate = 0\n",
    "filtered_data = {}\n",
    "for community, users in data.items():\n",
    "    \n",
    "    filtered_users = {}\n",
    "    for user, info in users.items():        \n",
    "        users_total += 1\n",
    "        \n",
    "        if info[\"tags\"] != [\"N/A\"]:\n",
    "            filtered_users[user] = info\n",
    "        else:\n",
    "            users_with_no_tags_unique[user] = info  # unique usernames with no tags\n",
    "            users_with_no_tags_duplicate += 1  # all mentions with no tags\n",
    "        \n",
    "    if filtered_users:\n",
    "        filtered_data[community] = filtered_users\n",
    "\n",
    "# Save JSON file\n",
    "with open(output_path, \"w\") as file:\n",
    "    json.dump(filtered_data, file, indent=2)\n",
    "\n",
    "# Stats\n",
    "unique_users_with_tags = users_total - len(users_with_no_tags_unique)\n",
    "mentions_with_tags = users_total - users_with_no_tags_duplicate\n",
    "\n",
    "unique_tags_percent = (unique_users_with_tags / users_total) * 100\n",
    "mention_tags_percent = (mentions_with_tags / users_total) * 100\n",
    "\n",
    "print(f\"Original number of users (mentions): {users_total}\")\n",
    "print(f\"Number of users with no tags ('N/A') (unique): {len(users_with_no_tags_unique)}\")\n",
    "print(f\"Number of UNQIUE users with tags (users may me members in multiple comm): {unique_users_with_tags} -> {unique_tags_percent:.2f}%\")\n",
    "\n",
    "print(f\"\\n*Number of users with tags (mentions): {mentions_with_tags} -> {mention_tags_percent:.2f}%\")"
   ]
  }
 ],
 "metadata": {
  "kernelspec": {
   "display_name": "Python 3 (ipykernel)",
   "language": "python",
   "name": "python3"
  },
  "language_info": {
   "codemirror_mode": {
    "name": "ipython",
    "version": 3
   },
   "file_extension": ".py",
   "mimetype": "text/x-python",
   "name": "python",
   "nbconvert_exporter": "python",
   "pygments_lexer": "ipython3",
   "version": "3.13.3"
  }
 },
 "nbformat": 4,
 "nbformat_minor": 5
}
