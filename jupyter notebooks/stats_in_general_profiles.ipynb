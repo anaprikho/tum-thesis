{
 "cells": [
  {
   "cell_type": "markdown",
   "id": "dbcdcc54-9f61-4913-92a5-08a8bab81bf2",
   "metadata": {
    "jp-MarkdownHeadingCollapsed": true
   },
   "source": [
    "# Data Overview"
   ]
  },
  {
   "cell_type": "code",
   "execution_count": 1,
   "id": "346d94ac-a1b6-48e4-afec-f43848eccc95",
   "metadata": {},
   "outputs": [
    {
     "name": "stdout",
     "output_type": "stream",
     "text": [
      "Total users: 11518\n",
      "Users with no tags (tags == ['N/A']): 2964\n"
     ]
    }
   ],
   "source": [
    "import json\n",
    "import pandas as pd\n",
    "import numpy as np\n",
    "import os\n",
    "\n",
    "base_dir = os.path.abspath(\"..\")\n",
    "file_path = os.path.join(base_dir, \"data\", \"scraped_data\", \"general_profiles_data.json\")\n",
    "\n",
    "# Load JSON file\n",
    "with open(file_path, \"r\", encoding=\"utf-8\") as file:\n",
    "    data = json.load(file)\n",
    "    \n",
    "# Convert JSON to DataFrame\n",
    "user_profiles = []\n",
    "\n",
    "for username, profile in data.items():\n",
    "    user_profiles.append({\n",
    "        \"username\": username,\n",
    "        \"gender\": profile[\"demographics\"].get(\"gender\", \"N/A\"),\n",
    "        \"country\": profile[\"demographics\"].get(\"country\", \"N/A\"),\n",
    "        \"age\": profile[\"demographics\"].get(\"age\", \"N/A\"),\n",
    "        \"ethnicity\": profile[\"demographics\"].get(\"ethnicity\", \"N/A\"),\n",
    "        \"tags\": profile.get(\"tags\", [\"N/A\"]),\n",
    "    })\n",
    "\n",
    "df = pd.DataFrame(user_profiles)\n",
    "# df.head()\n",
    "\n",
    "users_with_no_tags = df[df[\"tags\"].apply(lambda x: x == [\"N/A\"])]\n",
    "\n",
    "print(f\"Total users: {len(df)}\")\n",
    "print(f\"Users with no tags (tags == ['N/A']): {len(users_with_no_tags)}\")"
   ]
  },
  {
   "cell_type": "markdown",
   "id": "1cf2898f-e3d9-4c6c-98a0-1cba90ac3969",
   "metadata": {
    "jp-MarkdownHeadingCollapsed": true
   },
   "source": [
    "# Remove users with no tags (since cannot use them for analysis)"
   ]
  },
  {
   "cell_type": "code",
   "execution_count": 2,
   "id": "141f499f-c0ff-4028-9a1f-12dfddd3ff1d",
   "metadata": {},
   "outputs": [
    {
     "name": "stdout",
     "output_type": "stream",
     "text": [
      "Remaining users after filtering: 8554\n"
     ]
    }
   ],
   "source": [
    "# Filter out users with [\"N/A\"] tags\n",
    "df = df[df[\"tags\"].apply(lambda x: x != [\"N/A\"])]\n",
    "print(f\"Remaining users after filtering: {len(df)}\")"
   ]
  },
  {
   "cell_type": "markdown",
   "id": "0788b71c-78fb-4e79-bae4-aef3f6d67606",
   "metadata": {
    "jp-MarkdownHeadingCollapsed": true
   },
   "source": [
    "# General Statistics"
   ]
  },
  {
   "cell_type": "code",
   "execution_count": 3,
   "id": "c4834a87-526f-415e-b089-e23bb7a76962",
   "metadata": {},
   "outputs": [
    {
     "data": {
      "text/html": [
       "<div>\n",
       "<style scoped>\n",
       "    .dataframe tbody tr th:only-of-type {\n",
       "        vertical-align: middle;\n",
       "    }\n",
       "\n",
       "    .dataframe tbody tr th {\n",
       "        vertical-align: top;\n",
       "    }\n",
       "\n",
       "    .dataframe thead th {\n",
       "        text-align: right;\n",
       "    }\n",
       "</style>\n",
       "<table border=\"1\" class=\"dataframe\">\n",
       "  <thead>\n",
       "    <tr style=\"text-align: right;\">\n",
       "      <th></th>\n",
       "      <th>Metric</th>\n",
       "      <th>Value</th>\n",
       "    </tr>\n",
       "  </thead>\n",
       "  <tbody>\n",
       "    <tr>\n",
       "      <th>0</th>\n",
       "      <td>Gender Distribution</td>\n",
       "      <td>{'Female': 3334, 'N/A': 2057, 'Male': 1489, 'Woman': 1106, 'Man': 516, 'Other': 24, 'Prefer not to say': 19, 'Non-binary': 6, 'My pronouns are she/her.  Beyond that, I'm just me': 1, 'She/They/He': 1, 'She/they': 1}</td>\n",
       "    </tr>\n",
       "    <tr>\n",
       "      <th>1</th>\n",
       "      <td>Total Users</td>\n",
       "      <td>8554</td>\n",
       "    </tr>\n",
       "    <tr>\n",
       "      <th>2</th>\n",
       "      <td>Demographics Overview</td>\n",
       "      <td>{'gender': {'count': 8554, 'unique': 11, 'top': 'Female', 'freq': 3334}, 'country': {'count': 8554, 'unique': 91, 'top': 'United Kingdom', 'freq': 3584}, 'age': {'count': 8554, 'unique': 76, 'top': 'N/A', 'freq': 4805}, 'ethnicity': {'count': 8554, 'unique': 17, 'top': 'White', 'freq': 3637}}</td>\n",
       "    </tr>\n",
       "    <tr>\n",
       "      <th>3</th>\n",
       "      <td>Total Unique Tags</td>\n",
       "      <td>2140</td>\n",
       "    </tr>\n",
       "    <tr>\n",
       "      <th>4</th>\n",
       "      <td>Users without Tags</td>\n",
       "      <td>0</td>\n",
       "    </tr>\n",
       "    <tr>\n",
       "      <th>5</th>\n",
       "      <td>Average Tags per User</td>\n",
       "      <td>4.610942</td>\n",
       "    </tr>\n",
       "    <tr>\n",
       "      <th>6</th>\n",
       "      <td>Median Tags per User</td>\n",
       "      <td>3.0</td>\n",
       "    </tr>\n",
       "  </tbody>\n",
       "</table>\n",
       "</div>"
      ],
      "text/plain": [
       "                  Metric                                                                                                                                                                                                                                                                                                  Value\n",
       "0    Gender Distribution                                                                                {'Female': 3334, 'N/A': 2057, 'Male': 1489, 'Woman': 1106, 'Man': 516, 'Other': 24, 'Prefer not to say': 19, 'Non-binary': 6, 'My pronouns are she/her.  Beyond that, I'm just me': 1, 'She/They/He': 1, 'She/they': 1}\n",
       "1            Total Users                                                                                                                                                                                                                                                                                                   8554\n",
       "2  Demographics Overview  {'gender': {'count': 8554, 'unique': 11, 'top': 'Female', 'freq': 3334}, 'country': {'count': 8554, 'unique': 91, 'top': 'United Kingdom', 'freq': 3584}, 'age': {'count': 8554, 'unique': 76, 'top': 'N/A', 'freq': 4805}, 'ethnicity': {'count': 8554, 'unique': 17, 'top': 'White', 'freq': 3637}}\n",
       "3      Total Unique Tags                                                                                                                                                                                                                                                                                                   2140\n",
       "4     Users without Tags                                                                                                                                                                                                                                                                                                      0\n",
       "5  Average Tags per User                                                                                                                                                                                                                                                                                               4.610942\n",
       "6   Median Tags per User                                                                                                                                                                                                                                                                                                    3.0"
      ]
     },
     "execution_count": 3,
     "metadata": {},
     "output_type": "execute_result"
    }
   ],
   "source": [
    "# 1. Gender distribution\n",
    "gender_counts = df[\"gender\"].value_counts()\n",
    "\n",
    "# 2. Demographics\n",
    "demographic_stats = df[[\"gender\", \"country\", \"age\", \"ethnicity\"]].describe(include=\"all\")\n",
    "\n",
    "# 3. Unique tags\n",
    "all_tags = [tag for tag_list in df[\"tags\"] for tag in tag_list if tag != 'N/A']\n",
    "unique_tags = set(all_tags)\n",
    "num_unique_tags = len(unique_tags)\n",
    "\n",
    "# 4. Users without any tags\n",
    "users_without_tags = [tags for tags in df[\"tags\"] if tags == ['N/A']]\n",
    "num_users_without_tags = len(users_without_tags)\n",
    "\n",
    "# 5. Average / Median number of tags per user\n",
    "df[\"num_tags\"] = df[\"tags\"].apply(lambda tags: len(tags) if tags != ['N/A'] else 0)\n",
    "avg_tags_per_user = df[\"num_tags\"].mean()\n",
    "median_tags_per_user = df[\"num_tags\"].median()\n",
    "\n",
    "results = {\n",
    "    \"Gender Distribution\": gender_counts.to_dict(),\n",
    "    \"Total Users\": len(df),\n",
    "    \"Demographics Overview\": demographic_stats.to_dict(),\n",
    "    \"Total Unique Tags\": num_unique_tags,\n",
    "    \"Users without Tags\": num_users_without_tags,\n",
    "    \"Average Tags per User\": avg_tags_per_user,\n",
    "    \"Median Tags per User\": median_tags_per_user,\n",
    "}\n",
    "\n",
    "pd.set_option(\"display.max_colwidth\", None)  # Show full content in each column\n",
    "pd.set_option(\"display.max_columns\", None)  # Show all columns\n",
    "pd.set_option(\"display.expand_frame_repr\", False)  # Prevent line wrapping-\n",
    "pd.set_option(\"display.max_rows\", None)  # Show all rows if needed\n",
    "\n",
    "df_results = pd.DataFrame(list(results.items()), columns=[\"Metric\", \"Value\"])\n",
    "\n",
    "df_results"
   ]
  },
  {
   "cell_type": "markdown",
   "id": "20b7e55c-9b4e-43f4-a8a3-089bbc530749",
   "metadata": {
    "jp-MarkdownHeadingCollapsed": true
   },
   "source": [
    "# Demographics"
   ]
  },
  {
   "cell_type": "code",
   "execution_count": 4,
   "id": "94a8aa4a-cbba-45c8-aa18-0613b2ef28eb",
   "metadata": {},
   "outputs": [
    {
     "data": {
      "text/html": [
       "<div>\n",
       "<style scoped>\n",
       "    .dataframe tbody tr th:only-of-type {\n",
       "        vertical-align: middle;\n",
       "    }\n",
       "\n",
       "    .dataframe tbody tr th {\n",
       "        vertical-align: top;\n",
       "    }\n",
       "\n",
       "    .dataframe thead th {\n",
       "        text-align: right;\n",
       "    }\n",
       "</style>\n",
       "<table border=\"1\" class=\"dataframe\">\n",
       "  <thead>\n",
       "    <tr style=\"text-align: right;\">\n",
       "      <th></th>\n",
       "      <th>gender</th>\n",
       "      <th>country</th>\n",
       "      <th>age</th>\n",
       "      <th>ethnicity</th>\n",
       "    </tr>\n",
       "  </thead>\n",
       "  <tbody>\n",
       "    <tr>\n",
       "      <th>0</th>\n",
       "      <td>{'count': 8554, 'unique': 11, 'top': 'Female', 'freq': 3334}</td>\n",
       "      <td>{'count': 8554, 'unique': 91, 'top': 'United Kingdom', 'freq': 3584}</td>\n",
       "      <td>{'count': 8554, 'unique': 76, 'top': 'N/A', 'freq': 4805}</td>\n",
       "      <td>{'count': 8554, 'unique': 17, 'top': 'White', 'freq': 3637}</td>\n",
       "    </tr>\n",
       "  </tbody>\n",
       "</table>\n",
       "</div>"
      ],
      "text/plain": [
       "                                                         gender                                                               country                                                        age                                                    ethnicity\n",
       "0  {'count': 8554, 'unique': 11, 'top': 'Female', 'freq': 3334}  {'count': 8554, 'unique': 91, 'top': 'United Kingdom', 'freq': 3584}  {'count': 8554, 'unique': 76, 'top': 'N/A', 'freq': 4805}  {'count': 8554, 'unique': 17, 'top': 'White', 'freq': 3637}"
      ]
     },
     "execution_count": 4,
     "metadata": {},
     "output_type": "execute_result"
    }
   ],
   "source": [
    "# Extract demographics for better overview\n",
    "demographics_df = pd.DataFrame([df_results[df_results[\"Metric\"] == \"Demographics Overview\"][\"Value\"].values[0]])\n",
    "demographics_df"
   ]
  },
  {
   "cell_type": "markdown",
   "id": "3f781478-044f-42a4-849e-9d30058e51ed",
   "metadata": {
    "jp-MarkdownHeadingCollapsed": true
   },
   "source": [
    "## Country"
   ]
  },
  {
   "cell_type": "code",
   "execution_count": 5,
   "id": "04ad29a4-7ad9-4985-a362-6dca1cca2f68",
   "metadata": {},
   "outputs": [
    {
     "name": "stdout",
     "output_type": "stream",
     "text": [
      "                 Country  Count  Percentage\n",
      "0         United Kingdom   3584   41.898527\n",
      "1                    N/A   2273   26.572364\n",
      "2          United States   1886   22.048165\n",
      "3                 Canada    176    2.057517\n",
      "4              Australia    113    1.321019\n",
      "5                  India     73    0.853402\n",
      "6                Ireland     68    0.794950\n",
      "7            New Zealand     39    0.455927\n",
      "8                 France     31    0.362404\n",
      "9           South Africa     22    0.257190\n",
      "10                 Spain     20    0.233809\n",
      "11               Germany     19    0.222118\n",
      "12               Belgium     13    0.151976\n",
      "13                 Italy     12    0.140285\n",
      "14           Netherlands     11    0.128595\n",
      "15               Nigeria     10    0.116904\n",
      "16  United Arab Emirates      8    0.093523\n",
      "17                Greece      8    0.093523\n",
      "18                Sweden      8    0.093523\n",
      "19                Turkey      7    0.081833\n",
      "20           Switzerland      6    0.070143\n",
      "21              Guernsey      6    0.070143\n",
      "22                Poland      6    0.070143\n",
      "23              Thailand      6    0.070143\n",
      "24                Norway      6    0.070143\n",
      "25               Romania      6    0.070143\n",
      "26              Bulgaria      6    0.070143\n",
      "27              Portugal      5    0.058452\n",
      "28           Isle of Man      5    0.058452\n",
      "29               Austria      5    0.058452\n",
      "30                 Japan      5    0.058452\n",
      "31                Brazil      5    0.058452\n",
      "32               Finland      4    0.046762\n",
      "33              Malaysia      4    0.046762\n",
      "34              Pakistan      4    0.046762\n",
      "35                Israel      4    0.046762\n",
      "36               Denmark      4    0.046762\n",
      "37                Uganda      3    0.035071\n",
      "38                Mexico      3    0.035071\n",
      "39                Taiwan      3    0.035071\n",
      "40                 China      3    0.035071\n",
      "41               Czechia      3    0.035071\n",
      "42             Gibraltar      3    0.035071\n",
      "43                Cyprus      3    0.035071\n",
      "44                Russia      2    0.023381\n",
      "45                  Iran      2    0.023381\n",
      "46             Singapore      2    0.023381\n",
      "47                 Egypt      2    0.023381\n",
      "48              Ethiopia      2    0.023381\n",
      "49                Jersey      2    0.023381\n",
      "50           Afghanistan      2    0.023381\n",
      "51            Bangladesh      2    0.023381\n",
      "52                  Peru      2    0.023381\n",
      "53          Saudi Arabia      2    0.023381\n",
      "54               Albania      2    0.023381\n",
      "55           Puerto Rico      2    0.023381\n",
      "56                 Kenya      2    0.023381\n",
      "57               Croatia      2    0.023381\n",
      "58            Costa Rica      2    0.023381\n",
      "59                Jordan      2    0.023381\n",
      "60               Hungary      2    0.023381\n",
      "61             Indonesia      2    0.023381\n",
      "62             Guatemala      1    0.011690\n",
      "63                Belize      1    0.011690\n",
      "64              Zimbabwe      1    0.011690\n",
      "65           South Korea      1    0.011690\n",
      "66               Réunion      1    0.011690\n",
      "67               Algeria      1    0.011690\n",
      "68              Slovakia      1    0.011690\n",
      "69                Zambia      1    0.011690\n",
      "70         French Guiana      1    0.011690\n",
      "71                  Iraq      1    0.011690\n",
      "72                Panama      1    0.011690\n",
      "73               Myanmar      1    0.011690\n",
      "74    Dominican Republic      1    0.011690\n",
      "75             Venezuela      1    0.011690\n",
      "76            Luxembourg      1    0.011690\n",
      "77                 Malta      1    0.011690\n",
      "78             Hong Kong      1    0.011690\n",
      "79               Ukraine      1    0.011690\n",
      "80             Argentina      1    0.011690\n",
      "81               Bahamas      1    0.011690\n",
      "82                Guyana      1    0.011690\n",
      "83             Lithuania      1    0.011690\n",
      "84                 Sudan      1    0.011690\n",
      "85               Morocco      1    0.011690\n",
      "86                Kosovo      1    0.011690\n",
      "87              Honduras      1    0.011690\n",
      "88                Serbia      1    0.011690\n",
      "89               Tunisia      1    0.011690\n",
      "90                 Nepal      1    0.011690\n"
     ]
    }
   ],
   "source": [
    "# Occurrences of each country\n",
    "country_counts = df[\"country\"].value_counts()\n",
    "\n",
    "# Percentage of each country\n",
    "country_percentage = (country_counts / len(df)) * 100\n",
    "\n",
    "# Filter countries with percentage > 5%\n",
    "# countries_above_5_percent = country_percentage[country_percentage > 5]\n",
    "\n",
    "# Convert to DataFrame\n",
    "country_percentage = pd.DataFrame({\n",
    "    \"Country\": country_percentage.index,\n",
    "    \"Count\": country_counts.loc[country_percentage.index].values,\n",
    "    \"Percentage\": country_percentage.values\n",
    "})\n",
    "\n",
    "print(country_percentage)"
   ]
  },
  {
   "cell_type": "markdown",
   "id": "e80c76e9-0191-45b2-9579-5b77e22a2ba0",
   "metadata": {
    "jp-MarkdownHeadingCollapsed": true
   },
   "source": [
    "## Age"
   ]
  },
  {
   "cell_type": "code",
   "execution_count": 6,
   "id": "565939b5-bd69-44a6-bc0f-1efa4637aa8b",
   "metadata": {},
   "outputs": [
    {
     "name": "stdout",
     "output_type": "stream",
     "text": [
      "  Age Group  Count  Percentage\n",
      "0       nan   4805   56.172551\n",
      "1   Over 70    845    9.878419\n",
      "2     60-70    815    9.527706\n",
      "3     50-60    744    8.697685\n",
      "4     30-40    526    6.149170\n",
      "5     40-50    477    5.576339\n",
      "6     18-30    342    3.998130\n",
      "7  Under 18      0    0.000000\n"
     ]
    }
   ],
   "source": [
    "# Define age groups\n",
    "age_bins = [0, 18, 30, 40, 50, 60, 70, float(\"inf\")]\n",
    "age_labels = [\"Under 18\", \"18-30\", \"30-40\", \"40-50\", \"50-60\", \"60-70\", \"Over 70\"]\n",
    "\n",
    "# Convert age column to numeric, replacing \"N/A\" with NaN\n",
    "df[\"age\"] = pd.to_numeric(df[\"age\"], errors=\"coerce\")\n",
    "\n",
    "# Categorize users into age groups\n",
    "df[\"age_group\"] = pd.cut(df[\"age\"], bins=age_bins, labels=age_labels, right=False)\n",
    "\n",
    "# Count occurrences of each age group\n",
    "age_group_counts = df[\"age_group\"].value_counts(dropna=False)\n",
    "\n",
    "# Calculate percentage of each age group\n",
    "age_group_percentage = (age_group_counts / len(df)) * 100\n",
    "\n",
    "# Count \"N/A\" values and calculate their percentage\n",
    "na_count = df[\"age\"].isna().sum()\n",
    "na_percentage = (na_count / len(df)) * 100\n",
    "\n",
    "age_stats_df = pd.DataFrame({\n",
    "    \"Age Group\": age_group_counts.index.astype(str),\n",
    "    \"Count\": age_group_counts.values,\n",
    "    \"Percentage\": age_group_percentage.values\n",
    "})\n",
    "\n",
    "print(age_stats_df)"
   ]
  },
  {
   "cell_type": "markdown",
   "id": "6a4c4688-0fc2-4148-bdbd-de1e689a8f20",
   "metadata": {
    "jp-MarkdownHeadingCollapsed": true
   },
   "source": [
    "## Gender"
   ]
  },
  {
   "cell_type": "code",
   "execution_count": 7,
   "id": "7253f2c0-1273-4690-9575-e52e2bf4f59d",
   "metadata": {},
   "outputs": [
    {
     "name": "stdout",
     "output_type": "stream",
     "text": [
      "                                                Gender  Count  Percentage\n",
      "0                                               Female   3334   38.975918\n",
      "1                                                  N/A   2057   24.047229\n",
      "2                                                 Male   1489   17.407061\n",
      "3                                                Woman   1106   12.929624\n",
      "4                                                  Man    516    6.032266\n",
      "5                                                Other     24    0.280570\n",
      "6                                    Prefer not to say     19    0.222118\n",
      "7                                           Non-binary      6    0.070143\n",
      "8   My pronouns are she/her.  Beyond that, I'm just me      1    0.011690\n",
      "9                                          She/They/He      1    0.011690\n",
      "10                                            She/they      1    0.011690\n"
     ]
    }
   ],
   "source": [
    "# GENDER DISTRIBUTION (Original Groups)\n",
    "\n",
    "# Occurrences of each gender\n",
    "gender_counts = df[\"gender\"].value_counts()\n",
    "\n",
    "# Percentage of each gender\n",
    "gender_percentage = (gender_counts / len(df)) * 100\n",
    "\n",
    "gender_stats_df = pd.DataFrame({\n",
    "    \"Gender\": gender_counts.index,\n",
    "    \"Count\": gender_counts.values,\n",
    "    \"Percentage\": gender_percentage.values\n",
    "})\n",
    "\n",
    "print(gender_stats_df)"
   ]
  },
  {
   "cell_type": "code",
   "execution_count": 8,
   "id": "debcb994-6c62-4400-b217-9263d89a96ca",
   "metadata": {},
   "outputs": [
    {
     "name": "stdout",
     "output_type": "stream",
     "text": [
      "   Gender  Count  Percentage\n",
      "0  Female   4440   51.905541\n",
      "1     N/A   2076   24.269348\n",
      "2    Male   2005   23.439327\n",
      "3  Others     33    0.385784\n"
     ]
    }
   ],
   "source": [
    "# GENDER DISTRIBUTION (4 Groups: N/A, Others, Male, Female)\n",
    "\n",
    "# Define gender mapping\n",
    "final_gender_mapping = {\n",
    "    \"N/A\": \"N/A\",\n",
    "    \"Prefer not to say\": \"N/A\",\n",
    "    \"Female\": \"Female\",\n",
    "    \"Woman\": \"Female\",\n",
    "    \"Male\": \"Male\",\n",
    "    \"Man\": \"Male\",\n",
    "    \"Others\" : \"Others\",\n",
    "    \"Non-binary\" : \"Others\",\n",
    "    \"My pronouns are she/her.  Beyond that, I'm just me\" : \"Others\", \n",
    "    \"She/They/He\": \"Others\",\n",
    "    \"She/they\" : \"Others\",\n",
    "}\n",
    "\n",
    "# Apply mapping, \"Others\" for any unspecified value\n",
    "df[\"gender\"] = df[\"gender\"].apply(lambda x: final_gender_mapping.get(x, \"Others\"))\n",
    "\n",
    "# Gender distribution\n",
    "final_gender_counts = df[\"gender\"].value_counts()\n",
    "final_gender_percentage = (final_gender_counts / len(df)) * 100\n",
    "\n",
    "final_gender_stats_df = pd.DataFrame({\n",
    "    \"Gender\": final_gender_counts.index,\n",
    "    \"Count\": final_gender_counts.values,\n",
    "    \"Percentage\": final_gender_percentage.values\n",
    "})\n",
    "\n",
    "print(final_gender_stats_df)"
   ]
  },
  {
   "cell_type": "markdown",
   "id": "5df04d91-b710-4268-ac7b-20d3e45a5f2b",
   "metadata": {
    "jp-MarkdownHeadingCollapsed": true
   },
   "source": [
    "## Ethnicity"
   ]
  },
  {
   "cell_type": "code",
   "execution_count": 9,
   "id": "5c4155c1-4dbf-4b01-9e8d-97168adb18a9",
   "metadata": {},
   "outputs": [
    {
     "name": "stdout",
     "output_type": "stream",
     "text": [
      "                                      Ethnicity  Count  Percentage\n",
      "0                                         White   3637   42.518120\n",
      "1                                           N/A   3408   39.841010\n",
      "2                             White / Caucasian    816    9.539397\n",
      "3                                   South Asian    133    1.554828\n",
      "4                             Prefer not to say    116    1.356091\n",
      "5                Mixed / Multiple ethnic groups    100    1.169044\n",
      "6                      Black / African American     66    0.771569\n",
      "7                   Hispanic / Latino / Spanish     63    0.736498\n",
      "8                            Other ethnic group     43    0.502689\n",
      "9                                    East Asian     38    0.444237\n",
      "10                  Black / African / Caribbean     33    0.385784\n",
      "11  Black / African / Caribbean / Black British     31    0.362404\n",
      "12                            Latino / Hispanic     30    0.350713\n",
      "13                               Middle Eastern     17    0.198737\n",
      "14                        Asian / Asian British     13    0.151976\n",
      "15                                        Asian      6    0.070143\n",
      "16               Middle Eastern / North African      4    0.046762\n"
     ]
    }
   ],
   "source": [
    "# Occurrences of each ethnicity\n",
    "ethnicity_counts = df[\"ethnicity\"].value_counts()\n",
    "\n",
    "# Percentage of each ethnicity\n",
    "ethnicity_percentage = (ethnicity_counts / len(df)) * 100\n",
    "\n",
    "ethnicity_percentage = pd.DataFrame({\n",
    "    \"Ethnicity\": ethnicity_counts.index,\n",
    "    \"Count\": ethnicity_counts.values,\n",
    "    \"Percentage\": ethnicity_percentage.values\n",
    "})\n",
    "\n",
    "# Filter ethnicities with percentage above 5%\n",
    "# ethnicities_above_5_percent = ethnicity_stats_df[ethnicity_stats_df[\"Percentage\"] > 5]\n",
    "\n",
    "print(ethnicity_percentage)"
   ]
  },
  {
   "cell_type": "code",
   "execution_count": 13,
   "id": "128f92ad-11fa-424d-80a7-d20060b4d0e3",
   "metadata": {},
   "outputs": [
    {
     "name": "stdout",
     "output_type": "stream",
     "text": [
      "                        Ethnicity  Count  Percentage\n",
      "0                           White   4453   52.057517\n",
      "1                             N/A   3524   41.197101\n",
      "2                           Asian    177    2.069207\n",
      "3                           Black    130    1.519757\n",
      "4  Mixed / Multiple ethnic groups    100    1.169044\n",
      "5                          Latino     93    1.087211\n",
      "6              Other ethnic group     43    0.502689\n",
      "7                  Middle Eastern     21    0.245499\n",
      "8           Asian / Asian British     13    0.151976\n"
     ]
    }
   ],
   "source": [
    "# Define ethnicity mapping\n",
    "ethnicity_mapping = {\n",
    "    \"N/A\": \"N/A\",\n",
    "    \"Prefer not to say\": \"N/A\",\n",
    "    \n",
    "    \"Latino\": \"Latino\",\n",
    "    \"Hispanic / Latino / Spanish\": \"Latino\",\n",
    "    \"Latino / Hispanic\": \"Latino\",\n",
    "    \n",
    "    \"Black\": \"Black\",\n",
    "    \"Black / African American\": \"Black\",\n",
    "    \"Black / African / Caribbean\": \"Black\",\n",
    "    \"Black / African / Caribbean / Black British\": \"Black\",\n",
    "    \n",
    "    \n",
    "    \"White\": \"White\",\n",
    "    \"White / Caucasian\": \"White\",\n",
    "    \n",
    "    \"Asian\": \"Asian\",\n",
    "    \"South Asian\": \"Asian\",\n",
    "    \"East Asian\": \"Asian\",\n",
    "    \"Asian / Asian British\": \"Asian\",\n",
    "\n",
    "    \"Middle Eastern\": \"Middle Eastern\",\n",
    "    \"Middle Eastern / North African\": \"Middle Eastern\",\n",
    "    \n",
    "    \"Other ethnic group\" : \"Other ethnic group\"\n",
    "}\n",
    "\n",
    "# Apply mapping\n",
    "df[\"ethnicity_mapped\"] = df[\"ethnicity\"].apply(lambda x: ethnicity_mapping.get(x, x))\n",
    "\n",
    "# Ethnicity distribution\n",
    "ethnicity_counts = df[\"ethnicity_mapped\"].value_counts()\n",
    "ethnicity_percentage = (ethnicity_counts / len(df)) * 100\n",
    "\n",
    "# Identify groups above 5% significance\n",
    "# significant_ethnicities = ethnicity_percentage[ethnicity_percentage > 5].index.tolist()\n",
    "significant_ethnicities = ethnicity_percentage\n",
    "\n",
    "# Assign all other groups to \"Others\"\n",
    "df[\"ethnicity_final\"] = df[\"ethnicity_mapped\"].apply(lambda x: x if x in significant_ethnicities else \"Others\")\n",
    "\n",
    "# Final ethnicity distribution\n",
    "final_ethnicity_counts = df[\"ethnicity_final\"].value_counts()\n",
    "final_ethnicity_percentage = (final_ethnicity_counts / len(df)) * 100\n",
    "\n",
    "final_ethnicity_stats_df = pd.DataFrame({\n",
    "    \"Ethnicity\": final_ethnicity_counts.index,\n",
    "    \"Count\": final_ethnicity_counts.values,\n",
    "    \"Percentage\": final_ethnicity_percentage.values\n",
    "})\n",
    "\n",
    "print(final_ethnicity_stats_df)"
   ]
  }
 ],
 "metadata": {
  "kernelspec": {
   "display_name": "Python 3 (ipykernel)",
   "language": "python",
   "name": "python3"
  },
  "language_info": {
   "codemirror_mode": {
    "name": "ipython",
    "version": 3
   },
   "file_extension": ".py",
   "mimetype": "text/x-python",
   "name": "python",
   "nbconvert_exporter": "python",
   "pygments_lexer": "ipython3",
   "version": "3.11.6"
  }
 },
 "nbformat": 4,
 "nbformat_minor": 5
}
