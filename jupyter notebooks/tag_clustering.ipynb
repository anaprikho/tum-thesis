{
 "cells": [
  {
   "cell_type": "markdown",
   "id": "785496cd-be07-4c3e-bfaa-33999e850099",
   "metadata": {},
   "source": [
    "# Get Tags"
   ]
  },
  {
   "cell_type": "markdown",
   "id": "9c818983-b635-4509-947d-7d5b8cfa8805",
   "metadata": {},
   "source": [
    "## 1. Create a list of all tags {'tag' : frequency}"
   ]
  },
  {
   "cell_type": "markdown",
   "id": "c7f8042a-91b9-4e48-998b-a7e21caa4a8d",
   "metadata": {},
   "source": [
    "Extract tags from profiles data files and create a list of tags and frequencies."
   ]
  },
  {
   "cell_type": "code",
   "execution_count": 1,
   "id": "8cf86d9e-4e60-4a33-aee1-ae31e889300c",
   "metadata": {},
   "outputs": [
    {
     "name": "stdout",
     "output_type": "stream",
     "text": [
      "Total unique tags (excluding 'N/A'): 2965\n",
      "Saved to: C:\\Users\\nastya\\thesis\\tum-thesis\\data\\tag_clustering\\all_tags.json\n"
     ]
    }
   ],
   "source": [
    "import json\n",
    "import os\n",
    "from collections import Counter\n",
    "import matplotlib.pyplot as plt\n",
    "import numpy as np\n",
    "import pandas as pd\n",
    "\n",
    "# Profile data files containing tags\n",
    "base_dir = os.path.abspath(\"..\")  # go one level back to root\n",
    "general_profiles = os.path.join(base_dir, \"data\", \"scraped_data\", \"general_profiles_data.json\")\n",
    "profiles_by_comm = os.path.join(base_dir, \"data\", \"scraped_data\", \"profiles_by_comm_data.json\")\n",
    "output_path = os.path.join(base_dir, \"data\", \"tag_clustering\", \"all_tags.json\")\n",
    "\n",
    "all_tags = []\n",
    "\n",
    "with open(general_profiles, \"r\", encoding=\"utf-8\") as file:\n",
    "    profiles = json.load(file)\n",
    "\n",
    "    for profile in profiles.values():\n",
    "        all_tags.extend(profile.get(\"tags\", []))\n",
    "\n",
    "with open(profiles_by_comm, \"r\", encoding=\"utf-8\") as file:\n",
    "    profiles_by_comm = json.load(file)\n",
    "\n",
    "    for community in profiles_by_comm.values():\n",
    "        for profile in community.values():\n",
    "            all_tags.extend(profile.get(\"tags\", []))\n",
    "\n",
    "# Remove 'N/A' tag values\n",
    "all_tags = [tag for tag in all_tags if tag != \"N/A\"]\n",
    "\n",
    "# Count tag frequencies and save to JSON\n",
    "tag_counts = dict(Counter(all_tags))\n",
    "\n",
    "with open(output_path, \"w\", encoding=\"utf-8\") as out:\n",
    "    json.dump(tag_counts, out, indent=4)\n",
    "\n",
    "print(f\"Total unique tags (excluding 'N/A'): {len(tag_counts)}\")\n",
    "print(f\"Saved to: {output_path}\")"
   ]
  },
  {
   "cell_type": "markdown",
   "id": "f8ce9a22-9ec1-4ea2-8c4b-48b3d5db9ee6",
   "metadata": {},
   "source": [
    "## 2. Filter Tags based on Frequency"
   ]
  },
  {
   "cell_type": "markdown",
   "id": "bf1f66a7-affb-494b-a146-649fcce594e7",
   "metadata": {},
   "source": [
    "### 2.1 Distribtuion of Tag Frequencies"
   ]
  },
  {
   "cell_type": "code",
   "execution_count": 2,
   "id": "1038a909-681e-40db-a447-194a0448008b",
   "metadata": {},
   "outputs": [
    {
     "data": {
      "image/png": "[encoded data removed]",
      "text/plain": [
       "<Figure size 1000x600 with 1 Axes>"
      ]
     },
     "metadata": {},
     "output_type": "display_data"
    }
   ],
   "source": [
    "# Get list of frequencies\n",
    "frequencies = list(tag_counts.values())\n",
    "\n",
    "# Plot histogram\n",
    "plt.figure(figsize=(10, 6))\n",
    "plt.hist(frequencies, bins=50, edgecolor='black', log=True) # log=True (logarithmic scale) if many rare tags\n",
    "plt.title(\"Distribution of Tag Frequencies\")\n",
    "plt.xlabel(\"Frequency\")\n",
    "plt.ylabel(\"Number of Tags (log scale)\")\n",
    "plt.grid(True)\n",
    "plt.show()"
   ]
  },
  {
   "cell_type": "markdown",
   "id": "92d4485b-b61c-4c6b-8613-daf082bc2ff5",
   "metadata": {
    "jp-MarkdownHeadingCollapsed": true
   },
   "source": [
    "### 2.2 Statistics"
   ]
  },
  {
   "cell_type": "code",
   "execution_count": 55,
   "id": "b4b71b6b-d583-4d45-ac6d-29fc3d1ad2e9",
   "metadata": {},
   "outputs": [
    {
     "name": "stdout",
     "output_type": "stream",
     "text": [
      "\n",
      "--- Frequency Statistics ---\n",
      "count    2965.000000\n",
      "mean       41.792243\n",
      "std       251.206527\n",
      "min         1.000000\n",
      "25%         2.000000\n",
      "50%         6.000000\n",
      "75%        19.000000\n",
      "max      6970.000000\n",
      "Name: Frequency, dtype: float64\n",
      "\n",
      "--- Top 30 Tags--- :\n",
      "                                            Tag  Frequency\n",
      "                                  healthyeating       6970\n",
      "                                        fitness       5729\n",
      "                                    Ageing well       5411\n",
      "                                 Women's health       4320\n",
      "                                     weightloss       4031\n",
      "                                  Sleep hygiene       3007\n",
      "                                        Anxiety       2012\n",
      "                                   Men's health       1944\n",
      "           Underactive thyroid (hypothyroidism)       1857\n",
      "                            Clinical depression       1376\n",
      "                                   Fibromyalgia       1269\n",
      "                                Prostate cancer       1215\n",
      "                            Atrial fibrillation        971\n",
      "                                  Levothyroxine        934\n",
      "                                  Endometriosis        882\n",
      "                 Irritable bowel syndrome (IBS)        831\n",
      "                                      parenting        805\n",
      "                           Rheumatoid arthritis        754\n",
      "             High blood pressure (hypertension)        742\n",
      "                                   Osteoporosis        706\n",
      "                                           Pain        704\n",
      "                         Polymyalgia rheumatica        696\n",
      "                                         Asthma        684\n",
      "                                   Prednisolone        674\n",
      "                                 Osteoarthritis        672\n",
      "                         Restless legs syndrome        667\n",
      "Attention deficit hyperactivity disorder (ADHD)        657\n",
      "                                    quitsmoking        646\n",
      "                          Medication monitoring        622\n",
      "                                      Arthritis        595\n",
      "\n",
      "--- Rare Tags ---\n",
      "Tags with ≤ 1 occurrences: 579 (19.53%)\n",
      "Tags with ≤ 2 occurrences: 885 (29.85%)\n",
      "Tags with ≤ 3 occurrences: 1120 (37.77%)\n",
      "Tags with ≤ 4 occurrences: 1286 (43.37%)\n",
      "Tags with ≤ 5 occurrences: 1433 (48.33%)\n",
      "Tags with ≤ 6 occurrences: 1544 (52.07%)\n",
      "Tags with ≤ 7 occurrences: 1640 (55.31%)\n",
      "Tags with ≤ 10 occurrences: 1845 (62.23%)\n",
      "Tags with ≤ 20 occurrences: 2244 (75.68%)\n",
      "Tags with ≤ 30 occurrences: 2426 (81.82%)\n",
      "Tags with ≤ 40 occurrences: 2532 (85.40%)\n",
      "Tags with ≤ 50 occurrences: 2599 (87.66%)\n",
      "Tags with ≤ 60 occurrences: 2651 (89.41%)\n",
      "Tags with ≤ 70 occurrences: 2701 (91.10%)\n"
     ]
    }
   ],
   "source": [
    "# General statistics\n",
    "print(\"\\n--- Frequency Statistics ---\")\n",
    "print(df[\"Frequency\"].describe())\n",
    "\n",
    "# Top-N tags \n",
    "n = 30\n",
    "df = pd.DataFrame(tag_counts.items(), columns=[\"Tag\", \"Frequency\"])\n",
    "top_tags = df.sort_values(by=\"Frequency\", ascending=False).head(n)\n",
    "print(f\"\\n--- Top {n} Tags--- :\")\n",
    "print(top_tags.to_string(index=False))\n",
    "\n",
    "# Rare tags\n",
    "print(\"\\n--- Rare Tags ---\")\n",
    "for threshold in [1, 2, 3, 4, 5, 6, 7, 10, 20, 30, 40, 50, 60, 70]:\n",
    "    percent = (df[\"Frequency\"] <= threshold).mean() * 100\n",
    "    count = (df[\"Frequency\"] <= threshold).sum()\n",
    "    print(f\"Tags with ≤ {threshold} occurrences: {count} ({percent:.2f}%)\")"
   ]
  },
  {
   "cell_type": "markdown",
   "id": "0e209222-6062-495b-aa57-1f8e7f26105c",
   "metadata": {},
   "source": [
    "High variance (std)<br>\n",
    "25% of tags appear 2 times or fewer (1st quartile)<br>\n",
    "50% of tags appear 6 times or fewer (median)<br>\n",
    "75% of tags appear 19 times or fewer (3rd quartile)<br>\n",
    "Most frequent tag appears 6970 times: healthyeating<br>\n",
    "\n",
    "To determine what percentile a cutoff value corresponds to, check what percentage of values fall below this value."
   ]
  },
  {
   "cell_type": "markdown",
   "id": "4ee02176-f04b-4a44-b790-5d18702fd7ac",
   "metadata": {},
   "source": [
    "###  2.3 60th percentile (frequency < 10)"
   ]
  },
  {
   "cell_type": "code",
   "execution_count": 50,
   "id": "6dc51e05-0e62-477f-a8f2-ebc69a475e20",
   "metadata": {},
   "outputs": [
    {
     "name": "stdout",
     "output_type": "stream",
     "text": [
      "--- Frequency by Percentiles ---\n",
      "0.00       1\n",
      "0.05       1\n",
      "0.10       1\n",
      "0.15       1\n",
      "0.20       2\n",
      "0.25       2\n",
      "0.30       3\n",
      "0.35       3\n",
      "0.40       4\n",
      "0.45       5\n",
      "0.50       6\n",
      "0.55       7\n",
      "0.60       9\n",
      "0.65      12\n",
      "0.70      15\n",
      "0.75      19\n",
      "0.80      27\n",
      "0.85      39\n",
      "0.90      64\n",
      "0.95     130\n",
      "1.00    6970\n",
      "dtype: int32\n"
     ]
    }
   ],
   "source": [
    "freq_series = pd.Series(tag_counts)  # convert to Series\n",
    "\n",
    "# Frequency values at every 5th percentile\n",
    "print(\"--- Frequency by Percentiles ---\")\n",
    "print(freq_series.quantile([x / 100 for x in range(0, 101, 5)]).round().astype(int))"
   ]
  },
  {
   "cell_type": "code",
   "execution_count": 59,
   "id": "ecd32b53-f204-49f5-9241-d15ee3501019",
   "metadata": {},
   "outputs": [
    {
     "name": "stdout",
     "output_type": "stream",
     "text": [
      "60th percentile frequency threshold: 9.40\n",
      "Tags remaining after filtering: 1186 out of 2965\n",
      "Saved to C:\\Users\\nastya\\thesis\\tum-thesis\\data\\tag_clustering\\all_tags_filtered.json\n"
     ]
    }
   ],
   "source": [
    "# Get 60th percentile threshold (frequency < 10)\n",
    "threshold = np.percentile(freq_series.values, 60)\n",
    "print(f\"60th percentile frequency threshold: {threshold:.2f}\")\n",
    "\n",
    "# Filter out tags below threshold\n",
    "tag_counts_filtered = {}\n",
    "for tag, count in tag_counts.items():\n",
    "    if count >= threshold:\n",
    "        tag_counts_filtered[tag] = count\n",
    "\n",
    "all_tags_filtered = os.path.join(base_dir, \"data\", \"tag_clustering\", \"all_tags_filtered.json\")\n",
    "with open(all_tags_filtered, \"w\", encoding=\"utf-8\") as out:\n",
    "    json.dump(tag_counts_filtered, out, indent=4)\n",
    "\n",
    "print(f\"Tags remaining after filtering: {len(filtered_tag_counts)} out of {len(tag_counts)}\")\n",
    "print(f\"Saved to {all_tags_filtered}\")"
   ]
  },
  {
   "cell_type": "markdown",
   "id": "acf5dbb5-3e2f-42a6-8fad-45566c8f613e",
   "metadata": {},
   "source": [
    "# Cluster Tags"
   ]
  },
  {
   "cell_type": "code",
   "execution_count": null,
   "id": "a43de1a7-3cd7-4b72-8f1f-418dc1de236b",
   "metadata": {},
   "outputs": [],
   "source": [
    "## 1. "
   ]
  }
 ],
 "metadata": {
  "kernelspec": {
   "display_name": "Python 3.11 (gensim_env)",
   "language": "python",
   "name": "gensim_env"
  },
  "language_info": {
   "codemirror_mode": {
    "name": "ipython",
    "version": 3
   },
   "file_extension": ".py",
   "mimetype": "text/x-python",
   "name": "python",
   "nbconvert_exporter": "python",
   "pygments_lexer": "ipython3",
   "version": "3.11.6"
  }
 },
 "nbformat": 4,
 "nbformat_minor": 5
}
