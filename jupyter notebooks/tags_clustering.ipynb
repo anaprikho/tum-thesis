{
 "cells": [
  {
   "cell_type": "markdown",
   "id": "ad3bb8ef-90b2-42ab-b4e0-e82bf2f48464",
   "metadata": {
    "jp-MarkdownHeadingCollapsed": true
   },
   "source": [
    "# 1. Get Tags & Frequencies"
   ]
  },
  {
   "cell_type": "markdown",
   "id": "e4d6ff08-5ca8-416e-b42a-d2dc15a80734",
   "metadata": {
    "jp-MarkdownHeadingCollapsed": true
   },
   "source": [
    "## 1.1 Create a list of all tags {'tag' : frequency}\n",
    "\n",
    "Extract tags from profiles data files and create a list of tags and frequencies."
   ]
  },
  {
   "cell_type": "code",
   "execution_count": 4,
   "id": "487fde89-ccaa-4a43-a21b-78a89d309be7",
   "metadata": {},
   "outputs": [
    {
     "name": "stdout",
     "output_type": "stream",
     "text": [
      "Total unique tags (excluding 'N/A'): 2965\n",
      "Saved to: C:\\Users\\NASTYA\\code\\tum-thesis\\data\\tag_clustering\\all_tags.json\n"
     ]
    }
   ],
   "source": [
    "import json\n",
    "import os\n",
    "from collections import Counter\n",
    "import matplotlib.pyplot as plt\n",
    "import numpy as np\n",
    "import pandas as pd\n",
    "\n",
    "base_dir = os.path.abspath(\"..\")\n",
    "general_profiles = os.path.join(base_dir, \"data\", \"scraped_data_sensetive\", \"general_profiles_data.json\")\n",
    "profiles_by_comm = os.path.join(base_dir, \"data\", \"scraped_data_sensetive\", \"profiles_by_comm_data.json\")\n",
    "output_path = os.path.join(base_dir, \"data\", \"tag_clustering\", \"all_tags.json\")\n",
    "\n",
    "all_tags = []\n",
    "\n",
    "with open(general_profiles, \"r\", encoding=\"utf-8\") as file:\n",
    "    profiles = json.load(file)\n",
    "\n",
    "    for profile in profiles.values():\n",
    "        all_tags.extend(profile.get(\"tags\", []))\n",
    "\n",
    "with open(profiles_by_comm, \"r\", encoding=\"utf-8\") as file:\n",
    "    profiles_by_comm = json.load(file)\n",
    "\n",
    "    for community in profiles_by_comm.values():\n",
    "        for profile in community.values():\n",
    "            all_tags.extend(profile.get(\"tags\", []))\n",
    "\n",
    "# Remove 'N/A' tag values\n",
    "all_tags = [tag for tag in all_tags if tag != \"N/A\"]\n",
    "\n",
    "# Count tag frequencies and save to JSON\n",
    "tag_counts = dict(Counter(all_tags))\n",
    "\n",
    "# with open(output_path, \"w\", encoding=\"utf-8\") as out:\n",
    "#     json.dump(tag_counts, out, indent=4)\n",
    "\n",
    "print(f\"Total unique tags (excluding 'N/A'): {len(tag_counts)}\")\n",
    "print(f\"Saved to: {output_path}\")"
   ]
  },
  {
   "cell_type": "markdown",
   "id": "3866657c-5829-4267-a32a-bac8821e2271",
   "metadata": {
    "jp-MarkdownHeadingCollapsed": true
   },
   "source": [
    "## 1.2 Filter Tags based on Frequency"
   ]
  },
  {
   "cell_type": "markdown",
   "id": "b01f2e20-b47b-49c5-9239-0dfb9d2a8658",
   "metadata": {
    "jp-MarkdownHeadingCollapsed": true
   },
   "source": [
    "### 1.2.1 Distribtuion of Tag Frequencies"
   ]
  },
  {
   "cell_type": "code",
   "execution_count": 5,
   "id": "85c1477c-1188-4627-be72-cb40a297acd3",
   "metadata": {},
   "outputs": [
    {
     "data": {
      "image/png": "[encoded data removed]",
      "text/plain": [
       "<Figure size 1000x600 with 1 Axes>"
      ]
     },
     "metadata": {},
     "output_type": "display_data"
    }
   ],
   "source": [
    "# Get list of frequencies\n",
    "frequencies = list(tag_counts.values())\n",
    "\n",
    "# Plot histogram\n",
    "plt.figure(figsize=(10, 6))\n",
    "plt.hist(frequencies, bins=50, edgecolor='black', log=True) # log=True (logarithmic scale) if many rare tags\n",
    "plt.title(\"Distribution of Tag Frequencies\")\n",
    "plt.xlabel(\"Frequency\")\n",
    "plt.ylabel(\"Number of Tags (log scale)\")\n",
    "plt.grid(True)\n",
    "plt.show()"
   ]
  },
  {
   "cell_type": "markdown",
   "id": "76246174-ad99-40ff-ad85-14e167b8831e",
   "metadata": {
    "jp-MarkdownHeadingCollapsed": true
   },
   "source": [
    "### 1.2.2 Statistics"
   ]
  },
  {
   "cell_type": "code",
   "execution_count": 26,
   "id": "c3d6315e-5bd6-4408-85a4-89ae25bf0d88",
   "metadata": {},
   "outputs": [
    {
     "name": "stdout",
     "output_type": "stream",
     "text": [
      "\n",
      "--- Frequency Statistics ---\n",
      "count    2965.000000\n",
      "mean       41.792243\n",
      "std       251.206527\n",
      "min         1.000000\n",
      "25%         2.000000\n",
      "50%         6.000000\n",
      "75%        19.000000\n",
      "max      6970.000000\n",
      "Name: Frequency, dtype: float64\n",
      "\n",
      "--- Top 30 Tags--- :\n",
      "                                            Tag  Frequency\n",
      "                                  healthyeating       6970\n",
      "                                        fitness       5729\n",
      "                                    Ageing well       5411\n",
      "                                 Women's health       4320\n",
      "                                     weightloss       4031\n",
      "                                  Sleep hygiene       3007\n",
      "                                        Anxiety       2012\n",
      "                                   Men's health       1944\n",
      "           Underactive thyroid (hypothyroidism)       1857\n",
      "                            Clinical depression       1376\n",
      "                                   Fibromyalgia       1269\n",
      "                                Prostate cancer       1215\n",
      "                            Atrial fibrillation        971\n",
      "                                  Levothyroxine        934\n",
      "                                  Endometriosis        882\n",
      "                 Irritable bowel syndrome (IBS)        831\n",
      "                                      parenting        805\n",
      "                           Rheumatoid arthritis        754\n",
      "             High blood pressure (hypertension)        742\n",
      "                                   Osteoporosis        706\n",
      "                                           Pain        704\n",
      "                         Polymyalgia rheumatica        696\n",
      "                                         Asthma        684\n",
      "                                   Prednisolone        674\n",
      "                                 Osteoarthritis        672\n",
      "                         Restless legs syndrome        667\n",
      "Attention deficit hyperactivity disorder (ADHD)        657\n",
      "                                    quitsmoking        646\n",
      "                          Medication monitoring        622\n",
      "                                      Arthritis        595\n",
      "\n",
      "--- Rare Tags ---\n",
      "Tags with ≤ 1 occurrences: 579 (19.53%)\n",
      "Tags with ≤ 2 occurrences: 885 (29.85%)\n",
      "Tags with ≤ 3 occurrences: 1120 (37.77%)\n",
      "Tags with ≤ 4 occurrences: 1286 (43.37%)\n",
      "Tags with ≤ 5 occurrences: 1433 (48.33%)\n",
      "Tags with ≤ 6 occurrences: 1544 (52.07%)\n",
      "Tags with ≤ 7 occurrences: 1640 (55.31%)\n",
      "Tags with ≤ 10 occurrences: 1845 (62.23%)\n",
      "Tags with ≤ 20 occurrences: 2244 (75.68%)\n",
      "Tags with ≤ 30 occurrences: 2426 (81.82%)\n",
      "Tags with ≤ 40 occurrences: 2532 (85.40%)\n",
      "Tags with ≤ 50 occurrences: 2599 (87.66%)\n",
      "Tags with ≤ 60 occurrences: 2651 (89.41%)\n",
      "Tags with ≤ 70 occurrences: 2701 (91.10%)\n"
     ]
    }
   ],
   "source": [
    "df = pd.DataFrame(tag_counts.items(), columns=[\"Tag\", \"Frequency\"])\n",
    "\n",
    "# General statistics\n",
    "print(\"\\n--- Frequency Statistics ---\")\n",
    "print(df[\"Frequency\"].describe())\n",
    "\n",
    "# Top-N tags \n",
    "n = 30\n",
    "top_tags = df.sort_values(by=\"Frequency\", ascending=False).head(n)\n",
    "print(f\"\\n--- Top {n} Tags--- :\")\n",
    "print(top_tags.to_string(index=False))\n",
    "\n",
    "# Rare tags\n",
    "print(\"\\n--- Rare Tags ---\")\n",
    "for threshold in [1, 2, 3, 4, 5, 6, 7, 10, 20, 30, 40, 50, 60, 70]:\n",
    "    percent = (df[\"Frequency\"] <= threshold).mean() * 100\n",
    "    count = (df[\"Frequency\"] <= threshold).sum()\n",
    "    print(f\"Tags with ≤ {threshold} occurrences: {count} ({percent:.2f}%)\")"
   ]
  },
  {
   "cell_type": "markdown",
   "id": "bf714130-ae30-4272-ad85-59a125b85f37",
   "metadata": {
    "jp-MarkdownHeadingCollapsed": true
   },
   "source": [
    "###  2.3 60th percentile (frequency < 10)"
   ]
  },
  {
   "cell_type": "code",
   "execution_count": 16,
   "id": "c60797bb-0292-4b06-9520-65797cc7c7b7",
   "metadata": {},
   "outputs": [
    {
     "name": "stdout",
     "output_type": "stream",
     "text": [
      "--- Frequency by Percentiles ---\n",
      "0.00       1\n",
      "0.05       1\n",
      "0.10       1\n",
      "0.15       1\n",
      "0.20       2\n",
      "0.25       2\n",
      "0.30       3\n",
      "0.35       3\n",
      "0.40       4\n",
      "0.45       5\n",
      "0.50       6\n",
      "0.55       7\n",
      "0.60       9\n",
      "0.65      12\n",
      "0.70      15\n",
      "0.75      19\n",
      "0.80      27\n",
      "0.85      39\n",
      "0.90      64\n",
      "0.95     130\n",
      "1.00    6970\n",
      "dtype: int64\n"
     ]
    }
   ],
   "source": [
    "freq_series = pd.Series(tag_counts)  # convert to Series\n",
    "\n",
    "# Frequency values at every 5th percentile\n",
    "print(\"--- Frequency by Percentiles ---\")\n",
    "print(freq_series.quantile([x / 100 for x in range(0, 101, 5)]).round().astype(int))"
   ]
  },
  {
   "cell_type": "code",
   "execution_count": 19,
   "id": "d72fbab6-2ce8-4ae1-a4ef-88499b0c3e2c",
   "metadata": {},
   "outputs": [
    {
     "name": "stdout",
     "output_type": "stream",
     "text": [
      "60th percentile frequency threshold: 9.40\n"
     ]
    }
   ],
   "source": [
    "# Get 60th percentile threshold (frequency < 10)\n",
    "threshold = np.percentile(freq_series.values, 60)\n",
    "print(f\"60th percentile frequency threshold: {threshold:.2f}\")\n",
    "\n",
    "# Filter out tags below threshold\n",
    "tag_counts_filtered = {}\n",
    "for tag, count in tag_counts.items():\n",
    "    if count >= threshold:\n",
    "        tag_counts_filtered[tag] = count\n",
    "\n",
    "all_tags_filtered = os.path.join(base_dir, \"data\", \"tag_clustering\", \"all_tags_filtered.json\")\n",
    "with open(all_tags_filtered, \"w\", encoding=\"utf-8\") as out:\n",
    "    json.dump(tag_counts_filtered, out, indent=4)\n",
    "\n",
    "# print(f\"Tags remaining after filtering: {len(filtered_tag_counts)} out of {len(tag_counts)}\")\n",
    "# print(f\"Saved to {all_tags_filtered}\")"
   ]
  },
  {
   "cell_type": "markdown",
   "id": "a266f462-021d-44ae-b20c-1f946f923491",
   "metadata": {},
   "source": [
    "# 2. Word Embeddings & K-Means Clustering:"
   ]
  },
  {
   "cell_type": "markdown",
   "id": "9c2c1c93-7b7a-4805-81d3-cbc9bfcb1b63",
   "metadata": {
    "jp-MarkdownHeadingCollapsed": true
   },
   "source": [
    "## 2.1. Word2Vec + K-Means"
   ]
  },
  {
   "cell_type": "code",
   "execution_count": 1,
   "id": "58f8a23b-ea89-4cfc-8d34-aa3521645711",
   "metadata": {},
   "outputs": [
    {
     "name": "stdout",
     "output_type": "stream",
     "text": [
      "C:\\Users\\nastya\\thesis\\tum-thesis\\gensim_env\\Scripts\\python.exe\n"
     ]
    }
   ],
   "source": [
    "import sys\n",
    "print(sys.executable)"
   ]
  },
  {
   "cell_type": "code",
   "execution_count": 2,
   "id": "23220be9-c95f-41ac-9928-1ebbd6b29611",
   "metadata": {},
   "outputs": [
    {
     "name": "stdout",
     "output_type": "stream",
     "text": [
      "Python 3.11.6\n"
     ]
    }
   ],
   "source": [
    "!python --version"
   ]
  },
  {
   "cell_type": "code",
   "execution_count": 4,
   "id": "014f6a88-1276-4c98-afd9-bbcbd2df430d",
   "metadata": {},
   "outputs": [
    {
     "name": "stdout",
     "output_type": "stream",
     "text": [
      "Gensim is working!\n"
     ]
    }
   ],
   "source": [
    "from gensim.models import Word2Vec\n",
    "print(\"Gensim is working!\")"
   ]
  },
  {
   "cell_type": "code",
   "execution_count": 3,
   "id": "af82b159-3549-401b-8f99-6e04ba080f6b",
   "metadata": {},
   "outputs": [
    {
     "name": "stdout",
     "output_type": "stream",
     "text": [
      "Word2Vec clustering completed. Clusters saved to 'word2vec_clusters.json'\n",
      "Total Word2Vec clusters: 40\n",
      "Cluster 33: ['alexander disease', 'cyclobenzaprine', 'acute leukaemia', 'largactil', 'tuberculosis tb', 'kidney function test', 'celexa', 'buccolam', 'losartan', 'chronic renal failure', 'rifampicin  isoniazid  pyrazinamide', 'androgen deprivation therapy adt', 'eye cancer', 'levoxyl', 'proton therapy', 'chloroquine', 'diverticular disease and diverticulitis', 'metformin  glipizide', 'diarrhoea', 'omentectomy', 'glucose test', 'feeling lonely', 'gold thioglucose', 'sominex', 'primary biliary cholangitis pbc', 'rifampicin  isoniazid', 'diverticulosis', 'rilpivirine', 'avelox', 'edoxaban', 'fleet glycerin suppositories', 'lacosamide', 'sex hormone abnormalities', 'hyoscyamine', 'regaine extra strength', 'amitriptyline', 'diabetes diet', 'cod liver oil', 'diflucan', 'taxotere', 'low sodium diet', 'growth hormone', 'singulair', 'naramig', 'danazol', 'ace inhibitors', 'naturopathy', 'ciclesonide', 'low fat diet', 'plavix', 'dental caries', 'femara', 'aciclovir', 'levodopa  carbidopa  entacapone', 'postural orthostatic tachycardia syndrome pots', 'sprains and strains', 'latanoprost', 'zoloft', 'vabysmo', 'joint pain', 'senna']\n",
      "\n",
      "Cluster 7: ['azilect', 'severe asthma', 'regurin', 'calcipotriol', 'oxycodone', 'atenolol', 'jaypirca', 'hysterectomy', 'pravastatin', 'imbruvica', 'herbal medicines', 'oramorph', 'actos', 'focalin xr', 'pericarditis', 'alanine transaminase test alt', 'chloral hydrate', 'sjogrens syndrome', 'descovy', 'claustrophobia', 'tacrolimus', 'verapamil', 'alphamannosidosis', 'gabapentin', 'sarcoidosis', 'zofran', 'cartilage damage', 'atrial fibrillation', 'cozaar', 'azarga eye drops', 'partial thyroidectomy', 'trifluoperazine', 'amfetamine', 'imfinzi', 'detrol', 'speech therapy', 'aprovel', 'pancreatitis', 'noonan syndrome', 'geltears', 'tazocin', 'galantamine', 'eczema and dermatitis', 'facial paresis', 'imuran', 'sulfadiazine', 'dihydrocodeine', 'prograf', 'colomycin', 'arteritis', 'metabolic conditions', 'flopred', 'kevzara', 'ferinject', 'maxidex', 'nalcrom', 'bedwetting', 'obinutuzumab', 'macrogol', 'cellulitis', 'pain killer', 'slozem', 'osteopenia', 'cancer and tumours', 'dandelion', 'rapaflo', 'theophylline', 'paracentesis', 'capreomycin', 'thealoz duo eye drops', 'mortons neuroma', 'chemoradiotherapy', 'alkaline phosphatase test', 'restless legs syndrome', 'dormicum']\n",
      "\n",
      "Cluster 14: ['lactase', 'pancrelipase', 'nytol', 'azithromycin', 'venlalic xl', 'lacri lube eye drops', 'appendectomy', 'hyaluronic acid', 'humulin', 'repatha', 'factor x deficiency', 'lorazepam', 'breathing exercise', 'trazodone', 'allergic asthma', 'anal cancer', 'bronchitis', 'vitamin k2', 'hypoglycaemia low blood sugar', 'adrenalectomy', 'reglan', 'lenvatinib', 'fostair', 'acne', 'running', 'bromocriptine', 'bupropion', 'citicoline', 'carmil xl', 'dicyclomine', 'appendix cancer', 'capasal therapeutic shampoo', 'persistent posturalperceptual dizziness', 'bicalutamide', 'lung cancer', 'penile cancer', 'anoro ellipta', 'lymphoedema', 'luteinizing hormone releasing hormone lhrh agonist', 'fucidin cream', 'clinical trials', 'hydroxychloroquine', 'bone cancer', 'first aid', 'levofloxacin', 'mezavant', 'otraspray nasal spray', 'docusate', 'pain', 'mumps', 'chronic myeloid leukaemia cml', 'ritalinsr', 'endometrial ablation', 'platelet transfusions', 'mesalazine', 'migraine', 'orthostatic hypotension', 'biofeedback therapy', 'diamine oxidase dao deficiency', 'adizem', 'oesophageal cancer', 'fractures', 'phimosis', 'donepezil', 'relpax', 'acoustic neuroma', 'myfortic', 'anorexia', 'flixonase', 'amfexa', 'ritalin', 'atrovent forte', 'peptic ulcer disease', 'diabetes', 'pollenase antihistamine', 'essential tremor', 'cyclophosphamide', 'paraffin', 'norgalax', 'crisis counseling', 'adrenomyeloneuropathy', 'venesection', 'dermovate', 'darbepoetin alfa']\n",
      "\n",
      "Cluster 26: ['mens health', 'ursofalk', 'vesicare', 'microscopic polyangiitis', 'ebv infections', 'solgar magnesium citrate', 'cardiac resynchronization therapy', 'concerta', 'physiotherapy', 'menstrual problems', 'quinine', 'zocor', 'levemir', 'regular insulin', 'quitsmoking', 'pentasa', 'cosopt eye drops', 'endocarditis', 'pristiq', 'kaletra', 'bumetanide', 'tiopex', 'lomustine', 'hydrotherapy', 'dementia', 'behavioural therapy', 'vagotomy', 'prevacid', 'autosomal dominant polycystic kidney disease adpkd', 'achalasia', 'tonsillitis', 'dichlorobenzyl alcohol', 'dovobet', 'aleve', 'loss of libido', 'jevtana', 'dental treatment', 'eltrombopag', 'polyarteritis nodosa', 'lansoprazole', 'nuedexta', 'ezetimibe', 'spiriva', 'hepatitis', 'uribel', 'hydroxyurea', 'tiotropium', 'pompholyx', 'tildiem', 'intensity modulated radiation therapy imrt', 'tegretol', 'psychotherapy', 'herceptin', 'fsh test', 'melanoma', 'simvastatin  ezetimibe', 'dermatomyositis', 'magnesium sulphate', 'niacin', 'clostridium difficile infections', 'aversion therapy', 'chronic migraine', 'constella', 'duoresp spiromax', 'maxitram']\n",
      "\n",
      "Cluster 25: ['diclofenac', 'systemic mastocytosis', 'antacids', 'fioricet', 'hereditary alpha tryptasemia', 'vitamin c', 'savella', 'toothache', 'urinary tract obstruction', 'lokelma', 'sodium', 'rybelsus', 'dymista', 'serrapeptase', 'ostomy belt', 'macushield', 'blood transfusion', 'perforated eardrum', 'dabigatran', 'labyrinthitis', 'guillainbarre syndrome', 'docefrez', 'haemolytic anaemia', 'prostate disease', 'orlistat', 'beconase', 'goserelin', 'bendroflumethiazide', 'prozac', 'continuous ambulatory peritoneal dialysis', 'mekinist', 'arthrotec', 'myelopathy', 'octasa', 'sodium hyaluronate eye drops', 'clexane', 'furosemide', 'scoliosis', 'magnesium oxide', 'mohs surgery', 'omeprazole', 'tildiem retard', 'cipralex', 'nifedipine', 'circadin', 'febuday', 'adcald3', 'biopsy', 'zytiga', 'xaggitin xl', 'levodopa', 'ketoprofen', 'decitabine', 'dianette', 'pancreatic diseases', 'oxycontin', 'cipro', 'breo ellipta', 'everolimus', 'rifaximin', 'persistent atrial fibrillation', 'ectopic pregnancy', 'cryosurgery', 'narcolepsy', 'pregnancy test', 'bosentan', 'camcolit', 'cycling', 'systane eye drops', 'prolactin test', 'arthroscopy', 'eculizumab', 'diclofenac sodium  misoprostol', 'stings from marine creatures', 'total hysterectomy', 'arrhythmia', 'gorlin syndrome', 'topamax', 'surgery', 'pervasive developmental disorders pdd', 'radical hysterectomy', 'dutasteride', 'flaxseed oil', 'h pylori', 'cyproheptadine', 'mirtazapine', 'ultracet', 'testicle lumps and swellings', 'paralysis']\n",
      "\n",
      "Cluster 31: ['raynauds phenomenon', 'knee replacement', 'amoxicillin  clavulanate', 'chronic leukaemia', 'zopiclone', 'nuvigil', 'polycythaemia', 'ana test', 'angioplasty', 'laminectomy', 'drug or substance abuse', 'ultibro breezhaler', 'domperidone', 'tadalafil', 'glucophage', 'phosphate test', 'venclexta', 'enzyme replacement therapy', 'bronchiectasis', 'latuda', 'indomethacin', 'virus infections', 'acute renal failure', 'overactive thyroid hyperthyroidism', 'butchers broom', 'lymph node removal', 'mst continus', 'bleeding from the bottom rectal bleeding', 'betaine hydrochloride', 'betamethasone  neomycin', 'idiopathic thrombocytopenic purpura itp', 'oedema', 'peptac liquid peppermint', 'urticaria pigmentosa', 'ketoconazole', 'tissue graft', 'nicorette', 'pseudomyxoma peritonei pmp', 'janumet', 'kidney cancer', 'anti tnf', 'ninlaro', 'kyleena', 'ear conditions', 'aldactone', 'fragmin', 'atacand', 'etoposide', 'simbrinza eye drops', 'hizentra', 'fenofibrate', 'iloprost', 'azulfidine', 'pneumonitis', 'handfootandmouth disease', 'light compression bandage', 'knee surgery', 'levbid', 'caelyx', 'metronidazole', 'shingles vaccine', 'penicillamine', 'mitral valve disease', 'sildenafil', 'antid', 'dextroamphetamine', 'heparin', 'menieres disease', 'valsartan', 'dyskinesia', 'kidney failure', 'rebif', 'ehlersdanlos syndromes', 'polyp', 'tamsulosin  dutasteride', 'neupro', 'calcichew', 'sacubitril  valsartan', 'pelvic pain', 'codydramol']\n",
      "\n",
      "Cluster 13: ['zepatier', 'electrocardiogram ecg', 'clinical depression', 'palbociclib', 'luteinizing hormone lh test', 'coronary angioplasty', 'albutrepenonacog alfa', 'seizure', 'myalgic encephalomyelitis', 'spinal muscular atrophy sma', 'vascular conditions', 'librax', 'novorapid', 'weight loss', 'prazosin', 'transcutaneous electrical nerve stimulation tens', 'depoprovera', 'renal failure', 'hepatitis c', 'bion tears', 'skin cancer', 'duoneb', 'xeljanz', 'probanthine', 'aloe vera', 'breast cancer', 'nerve transfer', 'lax pills', 'gentamicin', 'breztri aerosphere', 'radioactive iodine', 'tenex', 'venetoclax', 'betnovate', 'zydelig', 'nonsteroidal antiinflammatory drugs nsaids', 'modopar', 'vitamin b12', 'dimethyl fumarate', 'tea tree oil', 'respiratory failure', 'cavernoma', 'potassium citrate', 'medroxyprogesterone', 'cocodamol', 'symbicort', 'anagrelide', 'zoladex', 'camptosar', 'oxyal eye drops', 'methocarbamol', 'posttraumatic stress disorder ptsd', 'remicade', 'tyrosine', 'joint hypermobility syndrome', 'ondansetron', 'agerelated cataracts', 'developmental coordination disorder dyspraxia', 'sweets syndrome', 'vitamin a', 'influenza vaccine', 'perindopril', 'resolor', 'sukkarto sr', 'picolax', 'carbimazole', 'primary ciliary dyskinesia pcd', 'oxaliplatin', 'fulvestrant', 'viscotears', 'birth defects', 'anafranil', 'olopatadine', 'velcade', 'kalms', 'betahistine', 'iopidine eye drops', 'fedratinib', 'thyrotropin releasing hormone test trh', 'crohns disease', 'agerelated macular degeneration amd', 'irbesartan', 'trospium', 'schizoaffective disorder', 'xtandi', 'lung lobectomy']\n",
      "\n",
      "Cluster 29: ['spinal surgery', 'vertebroplasty', 'triamterene  hydrochlorothiazide', 'promazine', 'intravenous immunoglobulin ivig', 'doxycycline', 'acute myeloid leukaemia aml', 'unisom', 'protonix', 'flu', 'overactive bladder', 'zolpidem', 'caesarean section', 'corticobasal degeneration', 'evra patch', 'estradiol  norethisterone', 'iodine', 'enstilar', 'liothyronine', 'cetraben', 'amiodarone', 'intuniv', 'carvedilol', 'neuritis', 'predsol', 'irritable hip', 'levonorgestrel', 'septrin', 'cephalexin', 'immunodeficiency', 'tuberous sclerosis', 'risperdal', 'nexium', 'leflunomide', 'neurofibromatosis', 'brugada syndrome', 'iridectomy', 'sti test', 'sinemet', 'varicose eczema', 'prostatitis', 'depakote', 'diethylpropion', 'utrogestan', 'plaquenil', 'nabumetone', 'methadone', 'questran', 'takayasu arteritis', 'microgynon', 'paroxetine', 'liver disease', 'bladder conditions', 'forteo', 'fingolimod', 'ubiquinol', 'biomelatonin', 'leukeran']\n",
      "\n",
      "Cluster 38: ['bone health', 'progesterone', 'allopurinol', 'lisinopril  hydrochlorothiazide', 'duaklir genuair', 'antivascular endothelial growth factor antivegf', 'anal fistula', 'florinef', 'indocid', 'norgesic', 'parkinsons disease', 'pelvic adhesions', 'womens health', 'etynodiol', 'clotrimazole', 'zomorph', 'jardiance', 'heart valve diseases', 'blepharitis', 'lantus', 'reishi mushroom', 'sodium aurothiomalate', 'mirena', 'bronchiolitis', 'polycythaemia vera', 'ivabradine', 'aqueous cream', 'corlanor', 'eklira genuair', 'ferrous fumarate', 'nutrition therapy', 'artificial saliva', 'cervical cancer', 'immunotherapy', 'vaginal or vulval thrush', 'valium', 'elocon', 'clarithromycin', 'creatine', 'plasma exchange', 'poliomyelitis', 'postural drainage', 'primary progressive multiple sclerosis', 'ankylosing spondylitis', 'obeticholic acid', 'heart failure', 'addiction', 'general information about condition', 'elleste duet', 'hydrochlorothiazide and lisinopril', 'trintellix', 'viagra', 'bladder catheterisation', 'ferritin blood test', 'lubristil eye drops', 'bulimia']\n",
      "\n",
      "Cluster 5: ['premenstrual syndrome pms', 'haldol', 'sexually transmitted infection sti', 'bowel obstruction', 't4 test', 'xopenex', 'pertuzumab', 'ribavirin', 'esr test', 'heartburn and acid reflux', 'neurofibromatosis type 1', 'doxazosin', 'sereflo', 'calcium  vitamin d3', 'mouth throat and dental infections', 'mobic', 'cleft lip and palate', 'arava', 'colonic polyps', 'cyclosporin', 'ventriculoperitoneal shunt', 'hiatus hernia', 'diltiazem', 'doxepin', 'rhinitis', 'parathyroid hormone pth', 'sclerotherapy', 'low protein diet', 'ventolin', 'probiotics', 'abiraterone', 'oxcarbazepine', 'efudex', 'rilutek', 'restasis eye drops', 'nicotinamide adenine dinucleotide nadh', 'radical mastectomy', 'wellbutrin xl', 'lotronex', 'taxol', 'rigevidon', 'mebendazole', 'bimatoprost  timolol', 'digoxin', 'niaspan', 'movelat', 'lowdensity lipoprotein ldl', 'raloxifene', 'carotid artery disease', 'thyroid abnormalities', 'epanutin', 'sleep aid', 'intal', 'transient ischaemic attack tia', 'counselling', 'sitagliptin  metformin', 'beclometasone', 'type 2 diabetes', 'brittle asthma', 'percocet', 'sleep apnoea', 'rheumatoid arthritis', 'atrovent', 'finding others in a similar experience', 'cholestagel', 'chlorquinaldol  hydrocortisone', 'imageguided radiation therapy igrt', 'total ironbinding capacity tibc test', 'temporal arteritis giant cell arteritis', 'carboplatin', 'fatty liver', 'promethazine', 'rheumatic heart disease', 'colpermin', 'hemithyroidectomy', 'valproic acid', 'gastroscopy', 'miralax', 'hydrocortisone  tretinoin  hydroquinone cream']\n",
      "\n",
      "Cluster 0: ['nerve or brain infections', 'buccastem m', 'sertraline', 'alcohol misuse', 'flexeril', 'zonisamide', 'fiorinal', 'peppermint oil', 'medication monitoring', 'brain death', 'emphysema', 'sulfazine', 'diabetic ketoacidosis dka', 'travoprost', 'gliclazide', 'ergotamine', 'dienogest', 'nicotine patches', 'wockhardt levothyroxine', 'brinzolamide', 'glucosamine  chondroitin with msm', 'low blood pressure hypotension']\n",
      "\n",
      "Cluster 2: ['surgical diathermy', 'pityriasis rosea', 'budenofalk', 'cabazitaxel', 'balneum plus cream', 'asacol', 'cogentin', 'kidney disease', 'eligard', 'e45 cream', 'lavender oil', 'senokot', 'neupogen', 'benserazide', 'nonalcoholic fatty liver disease nafld', 'pain management', 'pine bark extract', 'metoject', 'papaverine', 'castration', 'antidepressants', 'lutein', 'sodium cromoglicate', 'lymphomas', 'gastritis', 'ibuprofen', 'strontium ranelate', 'opdivo', 'acetazolamide', 'yasmin', 'valve replacement', 'postpartum psychosis', 'betamethasone', 'cardiomyopathy', 'epidural anesthesia', 'memantine', 'fluticasone', 'colestyramine', 'truxima', 'citalopram', 'vitapos eye', 'bactrim', 'carcinoma', 'muscle pain', 'discectomy', 'kyphosis', 'skin surgery', 'pamidronate', 'bone graft', 'rexulti', 'oral chemotherapy', 'gralise', 'advair', 'baricitinib', 'tresiba', 'ataxia', 'brachytherapy', 'abdominal aortic aneurysm', 'janumet xr', 'health anxiety', 'xalatan', 'hidradenitis suppurativa', 'evenity', 'doctar', 'vitamin b12  folic acid', 'maxalt melt lyophilisates', 'simply sleep', 'midrid', 'ursodeoxycholic acid', 'stillbirth', 'xolair', 'forceval', 'vitamin d3', 'liver cirrhosis', 'ldh test', 'interferon beta1a', 'aerius', 'glutamine', 'catheterisation', 'ginseng', 'entecavir', 'hyperparathyroidism', 'subutex', 'transtec transdermal patches', 'bromazepam', 'hiv infection and aids', 'levothyroxine', 'rinvoq', 'valaciclovir', 'nonsmallcell lung carcinoma', 'nasal and sinus cancer', 'solifenacin  tamsulosin', 'nicotinamide', 'endometriosis']\n",
      "\n",
      "Cluster 8: ['vaniqa cream', 'rivotril', 'hylocare eye drops', 'ofev', 'electric defibrillation', 'efudix cream', 'upadacitinib', 'zometa', 'metoclopramide', 'imigran', 'cerebral autosomal recessive arteriopathy with subcortical infarcts and leukoencephalopathy carasil', 'shoulder pain', 'bradycardia', 'celluvisc eye drops', 'back pain', 'naltrexone', 'cerebral palsy', 'derma care hydrocortisone cream', 'vitamin d', 'oracea', 'piles haemorrhoids', 'simvastatin', 'stelara', 'natural thyroid', 'phorpain', 'mental disorder', 'ipratropium', 'lacidipine', 'ruxolitinib', 'alopecia', 'craniotomy', 'spinal cord injuries', 'lopressor', 'coronary artery bypass graft cabg', 'cartia', 'cosentyx', 'lactobacillus', 'domestic violence', 'hearing loss', 'juvenile idiopathic arthritis', 'spinal stenosis', 'wellbutrin sr', 'invega', 'psyllium', 'tetrabenazine', 'joint dislocations', 'hypotonia', 'microvascular angina', 'coronavirus infection', 'aphasia', 'clindamycin  benzoyl peroxide', 'namenda', 'calorie restricted diet', 'mefoxin', 'electroconvulsive shock ecs', 'eye injuries', 'bovine thyroid', 'tylenol with codeine 4', 'dimenhydrinate', 'rasagiline', 'humalog', 'codeine', 'periodic limb movement disorder', 'creon', 'ocrelizumab', 'homeopathy', 'medium chain triglyceride mct oil', 'erbitux', 'ventide inhaler', 'epoetin alfa', 'alverine  simeticone', 'body dysmorphic disorder', 'larginine', 'psoriasis', 'tavneos', 'risperidone', 'retina', 'stomach cancer']\n",
      "\n",
      "Cluster 22: ['methylcobalamin', 'interferon', 'hepatocellular carcinoma hcc', 'irinotecan', 'chemotherapy', 'heart bypass', 'alcoholrelated liver disease arld', 'trihexyphenidyl', 'requip', 'flupentixol', 'diamine oxidase', 'corticotropinreleasing hormone test', 'mucinex', 'infliximab', 'calcium citrate', 'depression disorder', 'traxam pain relief', 'reactive arthritis', 'biofreeze', 'triglycerides management', 'fexofenadine', 'procarbazine', 'insulin resistance', 'ginkgo extract', 'epirubicin', 'matrifen transdermal patches', 'urinary incontinence', 'spironolactone  chlorothiazide', 'lorenzos oil', 'ceftriaxone', 'promacta', 'myasthenia gravis', 'lichen sclerosus', 'cognitive impairment', 'erythromelalgia', 'stereotactic radiosurgery', 'romosozumab', 'glaucoma', 'lynch syndrome', 'aproderm', 'transarterial chemoembolization tace', 'necrosis', 'diabetic retinopathy', 'lemtrada', 'brilique', 'suboxone', 'etoricoxib', 'yervoy', 'prucalopride', 'immunoglobulin m test', 'heart health', 'androgen insensitivity syndrome', 'gallstones', 'borderline personality disorder', 'mysoline', 'strattera', 'lenvima', 'procrit', 'adriamycin', 'intensive care', 'itraconazole', 'avonex', 'oncobcg', 'parkinsonism', 'tylex', 'ephedrine', 'haemoglobin', 'solpadol', 'carafate', 'bloodcoagulation factor xiii', 'excessive sweating hyperhidrosis', 'anal and rectal conditions', 'horizant', 'sinemet cr', 'betmiga', 'aortic aneurysm', 'ethambutol', 'hydrocortisone topical', 'mantle cell lymphoma mcl', 'myopathy', 'tizanidine', 'gastroenteritis', 'dioralyte', 'streptokinase']\n",
      "\n",
      "Cluster 19: ['antiviral treatment', 'laxatives', 'cerebral autosomal dominant arteriopathy with subcortical infarcts and leukoencephalopathy cadasil', 'fluoxetine', 'zinc sulfate', 'indapamide', 'hydroxyzine', 'tennis elbow', 'effexor', 'clobetasone', 'primrose oil', 'polyhydramnios', 'arthritis', 'amitriptyline  perphenazine', 'keppra', 'potassium chloride', 'salivix', 'mirapex', 'doxil', 'cataract surgery', 'fatigue', 'stressless herbal tablets', 'cervical spondylosis', 'hibiscrub', 'gallbladder removal', 'methotrexate', 'medrol', 'estradot patches', 'novolog', 'underactive thyroid hypothyroidism', 'lurasidone', 'insulin aspart', 'bells palsy', 'livedo reticularis', 'mavenclad', 'cycloserine', 'thyroidectomy', 'glimepiride', 'breast tumours', 'nebivolol', 'hydroxocobalamin', 'hydrea', 'trigeminal neuralgia', 'peritoneal cancer', 'electroencephalogram eeg', 'estradiol', 'vitamins', 'buprenorphine', 'thrombosis', 'heat exhaustion and heatstroke', 'prasugrel', 'group therapy', 'quinidine', 'head and neck cancer', 'soliris', 'sphenopalatine ganglion block', 'aortic dissection', 'healthy living', 'clenil modulite', 'sotacor', 'ustekinumab', 'hair conditions', 'teva levothyroxine', 'healthy eating', 'eye conditions', 'vraylar', 'bone spur', 'olmesartan', 'colesevelam', 'anusol', 'cardizem', 'alphosyl', 'fluvoxamine', 'glioblastoma', 'luvox', 'carbamazepine', 'vascular dementia', 'sucralfate', 'prednesol', 'zeroaqs', 'taclonex', 'fusidic acid', 'ageing well', 'lexapro', 'neomycin', 'oxybutynin', 'urine test', 'percutaneous coronary intervention pci', 'liraglutide', 'junel121', 'bundle branch block', 'rocephin', 'prostap 3', 'amlodipine', 'cyclopenthiazide', 'pembrolizumab', 'doxylamine', 'stretch marks', 'womb cancer', 'monopost eye drops']\n",
      "\n",
      "Cluster 24: ['wolffparkinsonwhite syndrome wpw', 'predalone 50', 'sage tincture', 'seasonal affective disorder sad', 'multiple sclerosis', 'insulin glulisine', 'fentanyl', 'sleep paralysis', 'thyroid storm', 'acute pancreatitis', 'cushings syndrome', 'mast cell activation syndrome mcas', 'trastuzumab', 'genetic counseling', 'livial', 'neck dissection', 'peak flow test', 'aricept', 'vision loss', 'back injury', 'dilzem', 'ejaculation problems', 'exophthalmos bulging eyes']\n",
      "\n",
      "Cluster 9: ['erectile dysfunction', 'flovent', 'sutent', 'nuvaring', 'circumcision', 'meningitis', 'low carbohydrate diet', 'locoid', 'viibryd', 'auditory stimulation', 'cutaneous mastocytosis', 'factor i test', 'truvada', 'irritable bowel syndrome ibs', 'salazopyrin', 'unaspirin', 'rayos', 'optive eye drops', 'selfharm', 'tristatin', 'decapeptyl sr', 'massage', 'atorvastatin', 'takotsubo cardiomyopathy', 'hyperplasia', 'stereotactic radiotherapy', 'benadryl', 'apixaban', 'seebri', 'venous ulcer compression system', 'urodol', 'spinal fusion', 'solgar gentle iron', 'lupron', 'cosmocol', 'ibrance', 'dapsone', 'campral', 'desiccated thyroid extract', 'club foot', 'prostatespecific antigen psa', 'barium test', 'slophyllin', 'krill oil', 'autologous stem cell transplant', 'alogliptin  metformin', 'porphyria', 'bupramyl', 'colitis', 'chondroitin', 'pegasys', 'gilenya', 'jakafi', 'calcium carbonate', 'faslodex', 'clonazepam', 'depomedrol', 'biotin']\n",
      "\n",
      "Cluster 36: ['calquence', 'pregabalin', 'communicating health information to familyfriends', 'quetiapine', 'levothyroxine  liothyronine', 'fibromyalgia', 'fultiumd3', 'mepolizumab', 'tazobactam', 'temodar', 'carcinoembryonic antigen cea test', 'radium 223', 'sodium picosulfate', 'golimumab', 'topiramate', 'mepacrine', 'collapsed lung', 'ziprasidone', 'joint fusion', 'testosterone', 'fludrocortisone', 'dermol cream', 'aubagio', 'salmeterol', 'aspergillosis', 'kolanticon', 'fasenra', 'jaundice', 'nebido', 'bendamustine', 'bunions', 'topical steroids', 'acute cholecystitis', 'glutenfree diet', 'pioglitazone', 'vedolizumab', 'stress', 'stem cell and bone marrow transplants', 'clorazepate', 'coarctation of the aorta', 'psychosis', 'fish oil', 'st johns wort', 'oesophagectomy', 'talimogene laherparepvec', 'peritoneal dialysis', 'ephedrine  guaifenesin', 'hpv infections', 'chlorambucil', 'video assisted thoracoscopic surgery vats', 'kidney transplant', 'coronary vasospastic disease', 'carnitine', 'peginterferon alfa2b', 'evorel', 'pernicious anaemia', 'dalteparin', 'manganese', 'zyrtec', 'calcium  magnesium', 'septra', 'provigil', 'nubeqa', 'solucortef', 'combivent', 'flomax', 'epipen', 'ferritin test', 'klonopin', 'epoch chemotherapy', 'granupas', 'adrenoleukodystrophy', 'capsicum', 'gilberts syndrome', 'soolantra', 'heart block', 'carer support', 'naproxen', 'parathyroid conditions', 'reboxetine', 'prednisone', 'fibroids', 'spina bifida', 'quercetin', 'topotecan', 'male infertility', 'laser therapy', 'nurtec odt', 'mucodyne', 'endoscopy', 'high compression bandage', 'palliativecare', 'hives', 'dyslexia', 'nadolol', 'phenobarbital', 'social anxiety', 'glutathione', 'extracorporeal membrane oxygenation ecmo', 'geodon', 'sotalol', 'scars']\n",
      "\n",
      "Cluster 11: ['dihydroergotamine', 'valerian', 'phobias', 'cryoablation', 'magnesium deficiency', 'vitamin d deficiency', 'urso', 'deep freeze', 'psoriatic arthritis', 'focalin', 'silent reflux', 'tocilizumab', 'requip xl', 'feverfew', 'dovonex', 'zonegran', 'oilatum', 'carbo taxol', 'surgical decompression', 'ketamine', 'phenergan', 'frozen shoulder', 'enbrel', 'supraventricular tachycardia svt', 'calcium', 'humira', 'vagifem', 'reconstructive surgery', 'nasofan nasal spray', 'healthyeating', 'speech problems', 'oestrogen', 'vulval cancer', 'colon cancer', 'gonadotrophin releasing hormone gnrh', 'bursitis', 'pulmonary hypertension', 'xanax', 'plantar fasciitis', 'disopyramide', 'trileptal', 'fentalis reservoir transdermal patches', 'gingivitis and periodontitis', 'sorafenib', 'benign prostatic hyperplasia', 'fluorometholone', 'empagliflozin  metformin', 'bed rest', 'muscular dystrophy', 'baclofen', 'spinal tap', 'polyp removal', 'cerebral vasculitis', 'feeling anxious', 'bile acid malabsorption', 'malignant melanoma', 'polymyositis', 'salbutamol  beclometasone', 'spasmonal', 'interstitial lung disease ild', 'erleada', 'zovirax', 'clindamycin', 'pudendal neuralgia', 'high fiber food', 'dexmethylphenidate', 'temozolomide', 'laparotomy', 'hydralazine', 'xyzal', 'parathyroidectomy', 'poisoning', 'cambia', 'tickborne encephalitis', 'xgeva', 'strontium89', 'whiplash', 'autism']\n",
      "\n",
      "Cluster 12: ['prochlorperazine', 'tension headaches', 'small intestine bacterial overgrowth sibo', 'rifinah', 'adrenal conditions', 'fibrosis', 'simponi', 'learning disabilities', 'histamine intolerance', 'colostomy', 'lidocaine', 'vasculitis', 'ativan', 'vasodilators', 'sulfasalazine', 'isosorbide mononitrate', 'kidney diseases in childhood', 'hypercalcaemia', 'temporomandibular joint disorder tmj', 'abatacept', 'wounds', 'prediabetes', 'arcoxia', 'ulcerative colitis', 'interferon beta1b', 'marevan', 'paranoia', 'blood ketone test', 'saw palmetto extract', 'rixathon', 'clobetasol', 'prediabetes', 'eluxadoline', 'zemtard', 'ramipril', 'inderal', 'buscopan', 'xarelto', 'venlafaxine', 'postnatal support', 'diabetic nephropathy', 'angina', 'haloperidol', 'hernia', 'boniva', 'meropenem', 'oxycodone  naloxone', 'thyroiditis', 'hepatitis b', 'hidradenitis', 'gaviscon', 'hepatitis b vaccine', 'motion sickness', 'idiopathic pulmonary fibrosis ipf', 'fertility test', 'aminosalicylic acid', 'pulmonary function test', 'diazepam', 'copaxone', 'senna  docusate', 'tecfidera', 'small lymphocytic lymphoma sll', 'antisocial personality disorder', 'armour thyroid', 'potassium hydroxide', 'skyrizi', 'lichen planus', 'naturethroid', 'access to care and support', 'gastroparesis', 'bypass surgery']\n",
      "\n",
      "Cluster 32: ['functional neurological disorder fnd', 'lazy eye', 'malabsorption', 'streptomycin', 'intrauterine device iud', 'laryngitis', 'psychiatric emergency services', 'total knee replacement', 'chronic obstructive pulmonary disease copd', 'avastin', 'addisons disease', 'vaginismus', 'mixtard', 'breast cancer metastatic', 'ivermectin', 'polycystic ovary syndrome pcos', 'celebrex', 'cotrimoxazole', 'potassium gluconate', 'valsartan  hydrochlorothiazide', 'norvasc', 'gastric balloon', 'abilify', 'xofigo', 'tapentadol', 'avamys', 'bacillus calmettegurin bcg vaccine', 'auditory processing disorder apd', 'amyotrophic lateral sclerosis als', 'haemophilia', 'mefenamic acid', 'benazepril', 'levetiracetam', 'salofalk', 'animalassisted therapy', 'conditions and diseases', 'radical prostatectomy', 'coal tar', 'attention deficit hyperactivity disorder adhd', 'ulcers', 'micardis', 'ethosuximide', 'hydrocephalus', 'gm1 gangliosidosis', 'leukaemia', 'remedeine', 'ambien', 'antithyroglobulin antibody test', 'teriparatide', 'enoxaparin', 'fluconazole', 'alfuzosin', 'salagen', 'betaseron', 'splenectomy', 'light therapy', 'cabozantinib', 'viviscal', 'morphine', 'decompressive craniectomy', 'vulvodynia', 'acea gel', 'chest x ray', 'actemra', 'total disc replacement', 'adderall', 'sulphur', 'kelp', 'concerta xl', 'dhc continus', 'haemochromatosis', 'hypopituitarism', 'respiratory distress syndrome', 'estring vaginal ring', 'mometasone', 'silodyx', 'spironolactone', 'chiropractic', 'ovarian cancer', 'ventricular tachycardia', 'anaphylaxis', 'slow sodium', 'double vision', 'bisacodyl', 'tourettes syndrome', 'pericyazine', 'embolisation', 'alp test', 'obliterative bronchiolitis', 'heart valve annuloplasty', 'group b strep', 'colectomy', 'diuretic', 'pancreatin']\n",
      "\n",
      "Cluster 16: ['librium', 'costochondritis', 'anxiety', 'kidney donation', 'adenomyosis', 'besremi', 'lipoedema', 'menopause', 'lovastatin', 'separation anxiety disorder', 'solumedrone', 'bowel cancer', 'systemic sclerosis', 'brukinsa', 'ciloxan eye drops', 'ketotifen', 'inguinal hernia', 'chronic pancreatitis', 'distaclor mr', 'abdominal hysterectomy', 'accidents', 'slipped disc', 'repinex', 'spinal manipulation', 'skin tags', 'ganfort eye drops', 'allergic conjunctivitis', 'inflectra', 'telmisartan  amlodipine', 'eyedrops', 'permanent atrial fibrillation', 'hodgkin lymphoma', 'cogans syndrome', 'hydroxycarbamide', 'imodium ibs relief', 'azelaic acid', 'mirabegron', 'depakine', 'rabeprazole', 'acute respiratory distress syndrome ards', 'plastic surgery', 'vertigo', 'witch hazel', 'hand pain', 'diep flap reconstruction', 'retinol  vitamin d', 'cimzia', 'novomix', 'transrectal highintensity focused ultrasound', 'osteoporosis', 'celevac', 'elleste solo', 'cardiovascular disease cvd', 'cochlear implants', 'in vitro fertilisation ivf', 'cold sores', 'clomid', 'toujeo', 'entocort', 'hay fever', 'tachycardia', 'benzodiazepines', 'etanercept', 'echocardiogram', 'minocycline', 'essential oils', 'azathioprine', 'pelvic inflammatory disease pid', 'urinary retention', 'incruse ellipta', 'alvesco', 'vitamin b2', 'natrilix', 'female infertility', 'calcichewd3', 'dronedarone']\n",
      "\n",
      "Cluster 6: ['maintenance chemotherapy', 'aplastic anaemia', 'tinzaparin', 'miscarriage', 'leucovorin', 'brain tumours', 'burns and scalds', 'dry eye syndrome', 'huntingtons disease', 'glipizide', 'bird flu', 'generalised anxiety disorder gad', 'dalfampridine', 'tryptophan', 'brain tumours lowgrademixed', 'claritin', 'kidney stones', 'zamadol', 'weight loss diet', 'entacapone', 'hemiplegia', 'rituxan', 'lofepramine', 'nerve block', 'blood tests', 'carbidopa  levodopa', 'liver cancer', 'myositis', 'aldomet', 'mood disorder', 'neurontin', 'tramacet', 'acupressure', 'immunosuppressants', 'fosamax', 'letrozole', 'otezla', 'stem cell mobilization', 'brinzolamide  brimonidine', 'selenium', 'palexia', 'watering eye', 'repetitive strain injury rsi', 'amino acids', 'intracytoplasmic sperm injection icsi', 'myocarditis', 'swimming', 'dental abscess', 'haemodialysis', 'lupus', 'augmentin', 'vimpat', 'aminophylline', 'goitre', 'benzoyl peroxide', 'degarelix', 'autoimmune hepatitis aih', 'cholesterol management', 'ichthammol', 'cardiac ablation', 'hydromorphone', 'morphgesic sr', 'fybogel mebeverine', 'gastrooesophageal reflux disease', 'dextrose', 'anakinra', 'cimetidine', 'movement disorder', 'rifampin', 'warfarin', 'endoscopy gastrointestinal', 'lactulose', 'ringworm', 'calcitriol', 'seroxat', 'rape and sexual assault', 'av atrioventricular node ablation', 'emollients', 'tilade', 'naproxen  esomeprazole', 'bisoprolol  hydrochlorothiazide', 'bladder infections', 'sofosbuvir']\n",
      "\n",
      "Cluster 28: ['audavate', 'hearing tests', 'isotretinoin', 'floaters in the eyes', 'prilosec', 'acupuncture', 'melatonin', 'eribulin', 'capecitabine', 'zydol', 'buprenorphine and naloxone', 'dexilant', 'shingles', 'perampanel', 'urticarial vasculitis', 'madopar', 'risedronate', 'atrioventricular av heart block', 'betaprograne', 'bipolar disorder', 'bisoprolol', 'darzalex', 'medikinet', 'alendronic acid  colecalciferol', 'zomig', 'theicald3', 'high cholesterol', 'major depressive disorder mdd', 'long qt syndrome lqts', 'vitrectomy', 'pemetrexed', 'sicklecell anaemia', 'oesophagitis', 'vortioxetine', 'nefopam', 'etodolac', 'sleep hygiene', 'prolapse of the uterus', 'cetuximab', 'nolvadex', 'personality disorder', 'water retention', 'charcotmarietooth disease', 'binge eating', 'methenamine', 'methamphetamine', 'astigmatism', 'tolvaptan', 'coronary heart disease', 'vitamin b9', 'isoniazid', 'movicol', 'pacemaker', 'arrhythmogenic right ventricular cardiomyopathy arvc', 'docetaxel', 'mouth and dental conditions', 'aimovig', 'vensir xl', 'tiotropium  olodaterol', 'salamol', 'tirosint', 'propranolol', 'salvage therapy', 'flexiseq', 'tamsulosin', 'chemydur 60xl', 'multiple system atrophy msa', 'oesophageal conditions', 'formoterol', 'colchicine  probenecid', 'eosinophilic disorders', 'birthmarks', 'retinal detachment', 'colace', 'hyperglycaemia high blood sugar', 'deflazacort', 'antimullerian hormone test amh', 'tetracycline', 'differin', 'lecithin', 'pregnancy', 'voltaren', 'acidophilus', 'iron', 'cellcept', 'colcrys', 'implantable cardioverter defibrillator icd', 'contraception', 'appendicitis', 'prostap sr', 'electroconvulsive therapy ect', 'enalapril  hydrochlorothiazide', 'eating disorders', 'crestor', 'antihistamines']\n",
      "\n",
      "Cluster 35: ['normacol granules', 'lipoic acid', 'adcal', 'lamotrigine', 'escitalopram', 'norflex', 'tricuspid valve disease', 'balsalazide', 'malignant brain tumour', 'multiple myeloma', 'gallbladder and bile duct diseases', 'biostatin', 'dexamfetamine', 'amiloride  furosemide', 'colour vision deficiency', 'vanishing white matter vwm disease', 'dysthymia', 'pelvic organ prolapse', 'atherosclerosis', 'urinary tract stones', 'ciprofloxacin', 'neurodegenerative disease', 'trimbow', 'lasik', 'alteplase', 'elavil', 'tofacitinib', 'kisqali', 'cevimeline', 'lung transplant', 'congenital heart disease', 'photodynamic therapy', 'nasacort', 'tracheostomy', 'progressive supranuclear palsy psp', 'cold therapy', 'play therapy', 'azapropazone', 'lycopene', 'brain aneurysm', 'clonidine', 'restoril', 'immunodeficiencies and defective immune system', 'hysteroscopy', 'synthroid', 'modified radical mastectomy', 'zeposia', 'esomeprazole', 'umeclidinium  vilanterol', 'ip6  inositol', 'mercaptopurine', 'small cell lung cancer', 'adderall xr', 'intrauterine insemination iui', 'trelegy ellipta', 'cluster headaches', 'qelbree', 'anastrozole', 'degenerative disc disease', 'hyoscine butylbromide', 'sandostatin', 'lung disease', 'indoor allergy', 'interferon alfa2b', 'chest surgery', 'sepsis', 'avodart', 'mirapexin', 'pregnancy difficulties', 'partial mastectomy', 'myrbetriq', 'kegel8', 'buspar', 'necrobiosis lipoidica', 'chlamydia', 'theanine', 'firmagon', 'ikervis', 'barretts oesophagus', 'fludarabine', 'doublebase', 'nexavar', 'balanitis', 'lunesta', 'total mastectomy', 'pessary', 'hydrocodone', 'cervical screening', 'aromasin', 'reclast', 'xifaxan', 'voriconazole', 'deep heat', 'amitiza', 'carbidopa', 'pagets disease', 'clinitas eye drops', 'cortisol level test', 'zoledronic acid', 'pulmonary embolism', 'diamox', 'trangina xl']\n",
      "\n",
      "Cluster 20: ['linagliptin  metformin', 'neoral', 'nebulizer', 'constipation', 'agoraphobia', 'food allergy', 'dopamine', 'excessive vomiting in pregnancy', 'wellbutrin', 'sarilumab', 'barium swallow test', 'falls trips and slips', 'brimonidine', 'adrenal cortex extract ace', 'actonel', 'pamsvax xl', 'phlebotomy', 'diprobase', 'connective tissue diseases', 'blood cancer', 'memory loss amnesia', 'acute lymphoblastic leukaemia all', 'thyroidstimulating hormone tsh test', 'pneumonectomy', 'butec transdermal patches', 'calmurid cream', 'loratadine', 'brolene', 'thyroid conditions', 'gastrectomy', 'relvar ellipta', 'duloxetine', 'dilantin', 'neurofeedback', 'prolia', 'epogen', 'tonsillectomy', 'telmisartan', 'nilotinib', 'erythromycin', 'rituximab', 'serc16', 'trigger finger', 'bile duct cancer', 'dilaudid', 'daytrana', 'insulin', 'nitrolingual pumpspray', 'norethisterone', 'serevent', 'debulking surgery', 'clobazam', 'bladder cancer', 'biologic therapy', 'vagus nerve stimulation vns', 'testicular cancer', 'lixiana', 'kesimpta', 'norco', 'hyperthermia therapy', 'glucogel', 'tikosyn', 'relaxation therapy', 'lamictal', 'licorice extract', 'azelastine', 'rupatadine', 'lucentis', 'metastasis', 'urecholine', 'joint replacement', 'pantoprazole', 'preeclampsia', 'sodium bicarbonate', 'delamanid', 'epoetin beta', 'peyronies disease', 'gender dysphoria', 'whooping cough', 'urea cream', 'fungal infections']\n",
      "\n",
      "Cluster 39: ['ofatumumab', 'saline', 'amisulpride', 'briviact', 'gallbladder cancer', 'tetrahydrocannabinol thc', 'creatine kinase test ck', 'kava kava', 'carpal tunnel syndrome', 'entresto', 'noriday', 'iron deficiency anaemia', 'provera', 'gene therapy', 'revlimid', 'frontotemporal dementia', 'insulin glargine', 'nintedanib', 'meclizine', 'vascular surgery', 'levaquin', 'attia', 'pramipexole', 'methimazole', 'home hemodialysis', 'humulin r', 'eltroxin', 'resperal', 'cilazapril', 'cardiac arrest', 'phenytoin', 'sports injuries', 'tylenol', 'computerassisted radiation therapy', 'ponstan', 'antipressan', 'vancomycin', 'parenteral nutrition', 'orabet', 'tremfya', 'allegra', 'multaq', 'plegridy', 'conformal radiotherapy', 'dorzolamide  timolol', 'neurofibromatosis type 2', 'chiari malformation', 'orgovyx', 'myelofibrosis', 'postherpetic neuralgia', 'harvoni', 'hydrochlorothiazide', 'aspirin', 'paxil', 'aortic stenosis', 'theo24', 'uveitis', 'passion flower', 'duodenitis', 'pneumonia', 'flolan', 'nervous breakdown', 'motilium', 'exemestane', 'rosuvastatin', 'peripheral neuropathy', 'estriol', 'arginine  lysine', 'afinitor']\n",
      "\n",
      "Cluster 27: ['coq10', 'arteriovenous malformation avm', 'gout', 'mouth sore', 'invega sustenna', 'coumadin', 'alverine', 'aneurysm', 'becotide', 'obesity', 'hiprex', 'maxalt', 'tendonitis', 'venofer', 'bezafibrate', 'pleurodesis', 'aortic valve disease', 'flucloxacillin', 'belimumab', 'stroke', 'paracetamol', 'gemcitabine', 'aclasta', 'urinary tract conditions', 'colposcopy', 'welchol', 'hoarding disorder', 'neutropenia', 'azopt eye drops', 'ongentys', 'foetal alcohol spectrum disorders fasd', 'alprostadil', 'desogestrel', 'eye enucleation', 'xeloda', 'lysine', 'hydronephrosis', 'perindopril  amlodipine', 'linezolid', 'pituitary problems', 'triamcinolone acetonide', 'castor oil', 'c3 glomerulopathy', 'trimethoprim', 'alprazolam', 'aromatherapy', 'frovatriptan', 'liver transplant', 'music therapy', 'lumpectomy', 'lithotripsy', 'lymphadenopathy', 'vitamin and mineral deficiencies', 'imodium ad', 'saliveze', 'chlorphenamine', 'tolterodine', 'dulera', 'obsessivecompulsive disorder ocd', 'laxido', 'cysteine', 'ovary removal', 'fluticasone  vilanterol', 'hip replacement', 'abasaglar', 'allergies', 'butrans', 'atenolol  bendroflumethiazide', 'ampyra', 'minoxidil', 'peginterferon alfa2a', 'natural desiccated thyroid ndt', 'behcets disease', 'steroid injections', 'dystonia', 'hernia repair', 'total protein test', 'orserdu', 'seroquel']\n",
      "\n",
      "Cluster 4: ['absent periods', 'pancreas transplant', 'seretide', 'tafinlar', 'felodipine', 'red clover', 'penis implant', 'granulomatosis with polyangiitis', 'combination therapy', 'abcesses', 'staphylococcal infections', 'rytary', 'epoetin zeta', 'salbutamol  ipratropium', 'removab', 'interferon alfa2a', 'medroxyprogesterone  oestrogen', 'enzalutamide', 'clioquinol', 'aortic valve replacement', 'casodex', 'dexedrine', 'milk thistle', 'triumeq', 'effexor xr', 'blisters', 'urethritis', 'head injuries', 'cytomegalovirus infection', 'methylprednisolone', 'noninvasive ventilation', 'cisplatin', 'vildagliptin  metformin', 'sinequan', 'propafenone', 'magnesium citrate', 'prednisolone', 'romiplostim', 'urinary tract infections utis', 'dexamethasone', 'trajenta', 'half betaprograne', 'loperamide', 'dorzolamide', 'flixotide', 'graves disease', 'selegiline', 'excedrin', 'chest infection', 'otomize ear spray', 'qvar', 'silymarin', 'osteopathy', 'granuloma', 'acetic acid', 'febuxostat', 'estrogen replacement therapy', 'arthritis pain', 'altitude sickness', 'thyroid cancer', 'lisinopril', 'monomil xl', 'paroxysmal atrial fibrillation', 'sjogrenlarsson syndrome', 'dupixent', 'olumiant', 'chronic pain', 'menopausal and perimenopausal disorders', 'ketoprofen  omeprazole', 'nonalcoholic steatohepatitis nash', 'skin tumours', 'colonoscopy', 'cyclogest', 'pepcid', 'prostate cancer', 'simeticone', 'kapake', 'piroxicam', 'tetanus', 'pizotifen', 'mounjaro', 'bevacizumab', 'ropinirole', 'doxorubicin', 'famotidine', 'acid reflux']\n",
      "\n",
      "Cluster 21: ['ranitidine', 'lung surgery', 'contraceptive injection', 'transurethral resection of the prostate turp', 'impetigo', 'sleep disorders', 'alphagan eye drops', 'rivaroxaban', 'ear infections', 'linaclotide', 'tinnitus', 'noradrenaline', 'carbomer', 'kola nut', 'medical cannabis', 'insulin regular', 'neulasta', 'ziac', 'ibuleve', 'profen', 'premenstrual dysphoric disorder pmdd', 'gasx', 'leg pain', 'orchidectomy', 'midodrine', 'pariet', 'amitriptyline  ketamine', 'c reactive protein test', 'extavia', 'mebeverine', 'hypertrophic cardiomyopathy', 'tenormin', 'duovent', 'low dose naltrexone ldn', 'meditation', 'opioids', 'asthma', 'dapagliflozin', 'nivolumab', 'adenoma', 'mixed connective tissue disease mctd', 'ear acupuncture', 'inhalers', 'crinone progesterone vaginal', 'wixela inhub', 'alendronic acid', 'neuropathies', 'mesothelioma', 'mastectomy', 'noni juice', 'kaolin', 'dosulepin', 'piriton', 'nicotine addiction', 'targeted therapy', 'meningioma', 'methylenetetrahydrofolate reductase mthfr deficiency', 'angioedema', 'amifampridine', 'ventricular fibrillation', 'cysts', 'adizemxl', 'zofran odt', 'pulmonary fibrosis', 'sipuleucelt', 'polyethylene glycol']\n",
      "\n",
      "Cluster 18: ['hyperbaric oxygen therapy', 'feldene', 'visual impairment and blindness', 'fitness', 'fitness', 'asthmanefrin', 'lialda', 'dehydroepiandrosterone dhea', 'butalbital', 'meptazinol', 'pelvic floor dysfunction', 'temazepam', 'neuromyelitis optica', 'questran light', 'halaven', 'lobectomy', 'naratriptan', 'paclitaxel', 'pulmicort', 'cystoscopy', 'botox', 'tobramycin', 'puva therapy psoralen and ultraviolet a', 'tricor', 'somatropin', 'umbilical hernia', 'toprol', 'ultraviolet light therapy', 'orencia', 'clopidogrel', 'brivaracetam', 'support from familyfriends', 'cataflam', 'cytomel', 'monofer', 'oestrogel', 'hydrocodone and acetaminophen', 'pyridostigmine', 'opioid substitution treatment', 'amoxicillin', 'diphenhydramine', 'vitamin b1', 'cortef', 'chronic fatigue syndrome cfs', 'nodular prurigo', 'pirfenidone', 'lithium carbonate', 'botulinum toxin', 'secukinumab', 'alogliptin', 'cardioversion', 'antipsychotics', 'penicillin g', 'elvanse', 'deltacortril', 'thrombectomy', 'spinal cord stimulation', 'insomnia', 'continuous positive airway pressure cpap', 'human papillomavirus hpv', 'colestid', 'complex regional pain syndrome', 'cannabinol cbn', 'amlodipine  valsartan', 'meloxicam']\n",
      "\n",
      "Cluster 10: ['postnatal depression', 'ranolazine', 'syphilis', 'tamoxifen', 'levitra', 'mouth ulcers', 'antifungal medicines', 'cobalinh', 'elidel', 'kadcyla', 'colofac', 'cetirizine', 'rheumatic fever', 'thymectomy', 'skin or nail infections', 'alimta', 'intestinal and stomach conditions', 'fybogel', 'vitamin k', 'eylea', 'iron sucrose', 'interstitial cystitis', 'hypnotherapy', 'cerazette', 'enzyme therapy', 'dialysis', 'benepali', 'downs syndrome', 'megace', 'elbow and arm pain', 'buspirone', 'accrete d3 tablets', 'adrenocorticotropic hormone acth', 'uniphyllin continus', 'nonhodgkin lymphoma', 'rozex', 'flat feet', 'exjade', 'glomerulonephritis', 'armodafinil', 'beckwithwiedemann syndrome', 'coronary angioplasty and stent insertion', 'ritonavir', 'hypromellose', 'sirdupla', 'bentyl', 'brain haemorrhage', 'ipilimumab', 'vitamin b', 'breast cancer in men', 'pregnenolone', 'occupational lung conditions', 'pulvinal salbutamol dry inhaler', 'guanfacine', 'insulin degludec', 'cyramza', 'acute coronary syndrome', 'antiphospholipid syndrome aps', 'transcranial magnetic stimulation tms', 'losec', 'polymyalgia rheumatica', 'pluvicto', 'osteotomy', 'aclidinium', 'nephritis', 'metabolic syndrome', 'optilast eye drops', 'hydrocortisone', 'prothionamide', 'nexplanon', 'rhinoplasty', 'cryotherapy', 'alli']\n",
      "\n",
      "Cluster 34: ['groin pain', 'eviplera', 'mastocytosis', 'lipitor', 'hashimotos disease', 'cabergoline', 'ferrous sulphate', 'amputation', 'cinacalcet', 'parenting', 'denosumab', 'immunoglobulin', 'zerobase', 'myomectomy', 'rickets and osteomalacia', 'nitrofurantoin', 'rotigotine', 'sulfacetamide', 'hives and angioedema', 'retinitis', 'nystatin', 'lactose intolerance', 'chronic kidney disease ckd', 'lithium', 'liver failure', 'head pain', 'facial pain', 'celecoxib', 'multivitamins', 'desmopressin', 'fertility', 'thyroid function test', 'naltrexone  bupropion', 'tums', 'fenbid', 'coreg', 'linagliptin', 'rifater', 'ocrevus', 'transjugular intrahepatic portosystemic shunt tipss', 'imipramine', 'farxiga', 'piriteze', 'cinnarizine', 'quinagolide', 'trelstar', 'omacor', 'salbutamol', 'verzenio', 'ketosis', 'contraceptive implant', 'hormone replacement therapy hrt', 'sigmoidoscopy', 'nicardipine', 'occupational back conditions', 'sleepwalking', 'alomide eye drops', 'road traffic accidents', 'levsin', 'electrotherapy', 'imap', 'cortisone', 'arimidex', 'synarel nasal spray', 'eliquis']\n",
      "\n",
      "Cluster 23: ['vitamin b12 deficiency', 'lumigan', 'rectocele', 'financial concerns', 'targinact', 'diabetes insipidus', 'traction', 'omega3 fatty acids', 'inositol', 'breast reconstruction', 'yoga', 'cerelle', 'neurosurgery', 'lotemax', 'imodium', 'familial mediterranean fever fmf', 'gynecological surgery', 'vardenafil', 'synovitis', 'lercanidipine', 'afatinib', 'priadel', 'kratom', 'eye pain', 'adalimumab', 'fenoterol', 'growth hormone abnormalities', 'glyceryl trinitrate', 'arthropathy', 'amlodipine  olmesartan', 'eye movement desensitization and reprocessing emdr', 'semaglutide', 'vitamin d2', 'gemzar', 'fodmap', 'adenosine', 'forxiga', 'collagen', 'cranberry extract', 'imitrex', 'vitamin e', 'chloramphenicol', 'low mood', 'nasonex', 'phyllocontin', 'linzess', 'ileostomy', 'bereavement', 'mgdrx eyebag', 'soma', 'amantadine', 'bricanyl', 'felodipine  ramipril', 'type 1 diabetes', 'sevredol', 'scleroderma', 'aranesp', 'airomir', 'neocytamen']\n",
      "\n",
      "Cluster 1: ['epaderm cream', 'heart murmur', 'dysmenorrhoea', 'hip pain', 'certolizumab pegol', 'ajovy', 'dyskeratosis congenita', 'trodelvy', 'finasteride', 'chantix', 'nontuberculous mycobacterium', 'latanoprost  timolol', 'epididymitis', 'ialuril', 'vaginal ring', 'essential thrombocythaemia', 'atripla', 'hp acthar gel', 'canabidiol cbd', 'temgesic', 'tibolone', 'shortec', 'isoflavones', 'coversyl', 'azythromycin', 'atopic eczema', 'cramp bark', 'somatuline depot', 'green tea extract', 'cuvitru', 'pilonidal sinus', 'heart attack', 'femoston', 'atovaquone', 'estrogel', 'tidomat eye drops', 'pancreatic cancer', 'tramazoline  dexamethasone', 'cystectomy', 'cyclizine', 'sodium valproate', 'salpingectomy', 'encephalitis', 'tivicay', 'intermittent catheterisation', 'ovestin', 'androcur', 'occupational therapy', 'bonviva', 'anticoagulants', 'eyesight problems', 'oxygen therapy', 'mental health', 'frozen embryo transfer fet', 'erfa thyroid', 'spasticity', 'herpes', 'lustral', 'xyrem', 'pyrazinamide', 'cialis', 'testogel', 'glandular fever', 'atezolizumab', 'canesten', 'adrenaline', 'livalo', 'whey protein', 'arnica', 'respiratory tract infections rtis', 'urinary tract tumours', 'eplerenone', 'rosacea']\n",
      "\n",
      "Cluster 37: ['autosomal recessive polycystic kidney disease arpkd', 'tenofovir  emtricitabine  rilpivirine', 'nortriptyline', 'tensiontype headaches', 'atomoxetine', 'dofetilide', 'chromium', 'fluorouracil', 'mestinon', 'tenofovir  efavirenz  emtricitabine', 'ispaghula husk  mebeverine', 'knee pain', 'defibrillation', 'brintellix', 'emsam', 'phentolamine', 'sonata', 'cystitis', 'antibiotics', 'opicapone', 'alzheimers disease', 'saphris', 'pentoxifylline', 'depomedrone', 'pramoxine', 'flunarizine', 'lyme disease', 'advil', 'labetalol', 'hdl cholesterol', 'guaifenesin', 'hysterectomy vaginal', 'pethidine', 'varicose veins', 'thalidomide', 'montelukast', 'subdural haematoma', 'neurological conditions', 'tysabri', 'excoriation skin picking disorder', 'lyrica', 'ocaliva', 'femodette', 'nifedipress', '5htp', 'nacetylcysteine nac', 'nicorandil', 'subarachnoid haemorrhage', 'aripiprazole', 'synvisc', 'nissen fundoplication', 'losartan  hydrochlorothiazide', 'urostomy', 'provenge', 'biperiden', 'erelzi', 'collagenous colitis', 'carbocisteine', 'betacarotene', 'rheumatoid factor test', 'keytruda', 'steroids', 'tagrisso', 'zyflo', 'actavis levothyroxine', 'genetic test']\n",
      "\n",
      "Cluster 17: ['sirolimus', 'refresh eye drops', 'low carb high fat lchf diet', 'vyvanse', 'ozempic', 'toradol', 'budesonide', 'forsteo', 'digoxin specific antibody', 'mrsa', 'musculoskeletal manipulations', 'lymphocytic leukemia', 'period pain', 'penicillin v', 'incontinence sheaths', 'perjeta', 'nilandron', 'budesonide  formoterol', 'naprosyn', 'hydroxyquinoline', 'urologic surgery', 'cornea transplant', 'gastric bypass', 'heart surgery', 'levalbuterol', 'ceftazidime intravenous infusion', 'discoid eczema', 'sativex', 'tecentriq', 'roactemra', 'imjudo', 'migraleve', 'tubal sterilisation', 'physostigmine', 'zinc', 'gedarel', 'trulicity', 'cerebrovascular disease', 'enema', 'plagiocephaly', 'pleural effusion', 'stoma surgery', 'prostatectomy', 'leukodystrophy', 'weightloss', 'roaccutane', 'cymbalta', 'thyroid peroxidase tpo', 'imatinib', 'coeliac disease', 'cladribine', 'nplate', 'ceftazidime eye drops', 'spironolactone  furosemide', 'craniosynostosis', 'cortizone5', 'flonase', 'ovarian cyst', 'streptococcal infections', 'kidney infection', 'solifenacin', 'sinusitis sinus infection', 'pau darco', 'blood clots', 'zyprexa', 'clomipramine', 'fluanxol', 'metadate', 'vidaza', 'quit smoking', 'headaches', 'phentermine', 'mannitol', 'sumatriptan', 'azyter', 'gnrh agonist', 't3 test', 'coracten', 'confidence in the care being received', 'oral thrush mouth thrush', 'euthyrox', 'investigational treatment', 'turmeric extract', 'magnesium', 'bowel incontinence', 'jakavi', 'angioscopy', 'ureteroscopy', 'lisdexamfetamine', 'thalassaemia', 'acalabrutinib', 'flutamide', 'epilim', 'pulsed radiofrequency treatment']\n",
      "\n",
      "Cluster 30: ['irregular periods', 'bimatoprost', 'radiotherapy', 'nephrectomy', 'coronary artery spasm', 'mollarets meningitis', 'cyanocobalamin', 'benlysta', 'hydroquinone', 'fludarabine cyclophosphamide and rituximab fcr', 'protopic', 'kalydeco', 'osteoarthritis', 'asbestosis', 'taurine', 'oxymorphone', 'ranexa', 'bactrim ds', 'stugeron', 'adalat la', 'red yeast rice', 'leuprolide', 'desvenlafaxine', 'allergy test', 'schizophrenia', 'exlax', 'flutiform', 'zantac', 'azacitidine', 'maviret', 'hepatitis a vaccine', 'ticagrelor', 'salicylic acid', 'atrial flutter', 'trichotillomania hair pulling disorder', 'piqray', 'tezspire', 'quit drinking', 'predone', 'chronic lymphocytic leukemia cll', 'olaparib', 'adenocarcinoma', 'hydralazine  hydrochlorothiazide  reserpine', 'concussion', 'idelalisib', 'fluticasone  salmeterol', 'enalapril', 'deep brain stimulation dbs', 'pulmozyme', 'primidone', 'anaemia', 'empagliflozin', 'methylphenidate', 'deep vein thrombosis dvt', 'postexposure prophylaxis pep', 'urea topical', 'buserelin', 'liver resection', 'chlorpromazine', 'glycopyrronium', 'fetzima', 'lynparza', 'proair hfa', 'endovascular aneurysm repair', 'moviprep', 'kenalog', 'laparoscopy', 'autoimmune diseases', 'pelvic nerve damage', 'dolutegravir', 'colchicine', 'diprosalic', 'paracetamol  domperidone', 'dupuytrens contracture', 'lymecycline', 'hyloforte', 'crizotinib', 'diabetic neuropathy', 'inulin', 'tramadol', 'viridal', 'ibandronic acid', 'epclusa']\n",
      "\n",
      "Cluster 15: ['mycophenolate', 'myeloproliferative neoplasm mpn', 'cilest', 'tranexamic acid', 'metformin', 'ultrasound therapy', 'high blood pressure hypertension', 'clotrimazole  fluconazole', 'bile salts', 'dapagliflozin  metformin', 'vicodin', 'tenofovir', 'atenolol  nifedipine', 'enterectomy', 'cystic fibrosis', 'leg or foot ulcers', 'complex b', 'voltaren gel', 'caverject', 'sst saliva stimulating', 'nizatidine', 'statins', 'epilepsy', 'trimipramine', 'lasix', 'panic disorder and panic attacks', 'securon sr', 'dementia with lewy bodies', 'solumedrol', 'tooth extraction', 'berberine', 'receiving support from familyfriends', 'garlic', 'opiates', 'neck pain', 'nephrotic syndrome', 'skin graft', 'cognitive behavioural therapy cbt', 'pituitary tumour', 'gotu kola', 'revolade', 'hereditary spastic paraplegia hsp', 'vitiligo', 'flurazepam', 'etrivex shampoo', 'ironorm', 'catheter ablation', 'glucosamine', 'vistaril', 'zirtek', 'sitagliptin', 'genital herpes', 'exercise', 'trabeculectomy', 'propylthiouracil', 'weight loss surgery', 'evoxac', 'dilated cardiomyopathy']\n",
      "\n",
      "Cluster 3: ['zapain', 'adapalene', 'metoprolol', 'glatiramer', 'modafinil', 'rizatriptan', 'heart transplant', 'endoxan', 'remsima', 'heavy periods', 'pilocarpine', 'peripheral artery disease', 'fiasp', 'sciatica', 'nizoral', 'ibrutinib', 'atarax', 'olanzapine', 'cytoxan', 'remeron', 'ivacaftor', 'vitamin b6', 'gastrointestinal infections', 'postviral fatigue syndrome', 'esmya', 'pleurisy', 'get active', 'stalevo', 'procardia', 'nebilet', 'neuroendocrine tumours', 'nucala', 'ventolin hfa', 'flecainide', 'neomycin  prednisolone', 'candesartan', 'pradaxa', 'iron dextran', 'enteritis', 'cataracts', 'lovenox', 'zolmitriptan', 'rectal pain', 'humulin i', 'gazyvaro', 'aspergers disorder', 'vaginal cancer', 'apremilast', 'hydrosalpinx', 'richters syndrome', 'mezolar matrix transdermal patches', 'tendon transfer', 'general information about treatments', 'voltarol', 'ginger extract']\n",
      "\n"
     ]
    }
   ],
   "source": [
    "import json\n",
    "import re\n",
    "import numpy as np\n",
    "from gensim.models import Word2Vec\n",
    "from gensim.models import KeyedVectors\n",
    "from sklearn.cluster import KMeans\n",
    "from sklearn.preprocessing import StandardScaler\n",
    "from collections import defaultdict\n",
    "from gensim.downloader import load\n",
    "\n",
    "# Load tags from JSON file\n",
    "with open('all_tags.json', 'r', encoding='utf-8') as file:\n",
    "    tags = json.load(file)\n",
    "\n",
    "# Preprocess tags (clean special characters, lowercase)\n",
    "def preprocess_tag(tag):\n",
    "    tag = re.sub(r'[^a-zA-Z0-9 ]', '', tag)  # Remove special characters\n",
    "    return tag.lower()\n",
    "\n",
    "tags = [preprocess_tag(tag) for tag in tags]\n",
    "\n",
    "# Convert tags into Word2Vec-compatible format (list of lists)\n",
    "tag_sentences = [[tag] for tag in tags]  # Each tag as a single word sentence\n",
    "\n",
    "# Train Word2Vec model\n",
    "w2v_model = Word2Vec(sentences=tag_sentences, vector_size=100, window=5, min_count=1, workers=4)\n",
    "word_vectors = w2v_model.wv\n",
    "\n",
    "# Generate tag embeddings\n",
    "w2v_embeddings = np.array([word_vectors[tag] for tag in tags])\n",
    "\n",
    "# Apply K-Means clustering\n",
    "num_clusters = 40\n",
    "scaler = StandardScaler()\n",
    "w2v_embeddings_scaled = scaler.fit_transform(w2v_embeddings)\n",
    "kmeans = KMeans(n_clusters=num_clusters, random_state=42, n_init=10)\n",
    "kmeans.fit(w2v_embeddings_scaled)\n",
    "labels = kmeans.labels_\n",
    "\n",
    "# Organize clusters\n",
    "w2v_clusters = defaultdict(list)\n",
    "for tag, label in zip(tags, labels):\n",
    "    w2v_clusters[label].append(tag)\n",
    "\n",
    "# Convert dictionary keys to strings \n",
    "w2v_clusters_str_keys = {str(k): v for k, v in w2v_clusters.items()}\n",
    "\n",
    "# Save\n",
    "with open('word2vec_kmeans_clusters.json', 'w', encoding='utf-8') as file:\n",
    "    json.dump(w2v_clusters_str_keys, file, indent=4)\n",
    "\n",
    "print(\"Word2Vec clustering completed. Clusters saved to 'word2vec_clusters.json'\")\n",
    "print(f\"Total Word2Vec clusters: {len(w2v_clusters)}\")\n",
    "\n",
    "for cluster, cluster_tags in w2v_clusters.items():\n",
    "    print(f\"Cluster {cluster}: {cluster_tags}\\n\")"
   ]
  },
  {
   "cell_type": "markdown",
   "id": "b20a2821-2c7a-44d4-a9c5-384c50243eb7",
   "metadata": {
    "jp-MarkdownHeadingCollapsed": true
   },
   "source": [
    "## 2.2. GloVe + K-Means"
   ]
  },
  {
   "cell_type": "code",
   "execution_count": 9,
   "id": "2d9298ab-419b-4675-8f08-f9a04becc540",
   "metadata": {},
   "outputs": [
    {
     "name": "stdout",
     "output_type": "stream",
     "text": [
      "GloVe clustering completed. Clusters saved to 'glove_clusters.json'\n",
      "GloVe Clusters:\n",
      "Cluster 3: ['lactase', 'saline', 'progesterone', 'melatonin', 'seizure', 'dopamine', 'tryptophan', 'noradrenaline', 'immunoglobulin', 'inositol', 'taurine', 'testosterone', 'oestrogen', 'isoflavones', 'lycopene', 'estradiol', 'carnitine', 'insulin', 'methamphetamine', 'garlic', 'lysine', 'tyrosine', 'adenosine', 'collagen', 'creatine', 'kelp', 'kaolin', 'glutamine', 'cysteine', 'dextrose', 'ginseng', 'ephedrine', 'haemoglobin', 'niacin', 'mannitol', 'heparin', 'lecithin', 'glutathione', 'nicotinamide', 'adrenaline', 'steroids', 'biotin']\n",
      "\n",
      "Cluster 0: ['diclofenac', 'antacids', 'haldol', 'laxatives', 'valerian', 'isotretinoin', 'azithromycin', 'fluoxetine', 'doxycycline', 'lovastatin', 'streptomycin', 'sertraline', 'metformin', 'coumadin', 'ativan', 'lorazepam', 'provera', 'finasteride', 'hydroquinone', 'naltrexone', 'temazepam', 'ivermectin', 'ketamine', 'ciprofloxacin', 'castration', 'atorvastatin', 'quinine', 'tenofovir', 'simvastatin', 'orlistat', 'gabapentin', 'methotrexate', 'duloxetine', 'benadryl', 'indomethacin', 'dilantin', 'gentamicin', 'cisplatin', 'chloroquine', 'paracetamol', 'memantine', 'celecoxib', 'olanzapine', 'probiotics', 'multivitamins', 'amiodarone', 'phenytoin', 'erythromycin', 'clopidogrel', 'bupropion', 'prednisolone', 'ceftriaxone', 'dexamethasone', 'clonidine', 'ketoconazole', 'bactrim', 'lasix', 'furosemide', 'buprenorphine', 'digoxin', 'vancomycin', 'venlafaxine', 'dapsone', 'baclofen', 'imatinib', 'isoniazid', 'fluconazole', 'pyridostigmine', 'haloperidol', 'linezolid', 'salbutamol', 'levodopa', 'amoxicillin', 'ritonavir', 'methylphenidate', 'clarithromycin', 'diphenhydramine', 'alprazolam', 'amitriptyline', 'chloramphenicol', 'propranolol', 'chlorpromazine', 'itraconazole', 'adderall', 'glucosamine', 'hydrochlorothiazide', 'luvox', 'carbamazepine', 'antipsychotics', 'anticoagulants', 'cimetidine', 'metronidazole', 'clindamycin', 'prednisone', 'rifampin', 'sildenafil', 'chondroitin', 'minocycline', 'azathioprine', 'tetracycline', 'paroxetine', 'theophylline', 'minoxidil', 'colchicine', 'amantadine', 'phenobarbital', 'hydrocortisone', 'clonazepam', 'cyclophosphamide', 'bevacizumab', 'paraffin', 'risperidone', 'tramadol', 'diuretic', 'doxorubicin', 'senna']\n",
      "\n",
      "Cluster 5: ['pregabalin', 'librium', 'coq10', 'ranitidine', 'quetiapine', 'cryoablation', 'sirolimus', 'nuvaring', 'atenolol', 'urso', 'lamotrigine', 'mycophenolate', 'hydroxyzine', 'zometa', 'escitalopram', 'metoclopramide', 'cabergoline', 'allopurinol', 'zopiclone', 'atomoxetine', 'pravastatin', 'rivaroxaban', 'temodar', 'truvada', 'humulin', 'dofetilide', 'feverfew', 'budesonide', 'vasodilators', 'rayos', 'zolpidem', 'topiramate', 'cyanocobalamin', 'actonel', 'metoprolol', 'trazodone', 'benlysta', 'cetirizine', 'infliximab', 'losartan', 'fluorouracil', 'levaquin', 'attia', 'tadalafil', 'dabigatran', 'ziprasidone', 'pramipexole', 'oxymorphone', 'cyclosporin', 'papaverine', 'alimta', 'lutein', 'concerta', 'salmeterol', 'tacrolimus', 'verapamil', 'nystatin', 'atripla', 'loratadine', 'diltiazem', 'fexofenadine', 'dexedrine', 'elavil', 'leuprolide', 'naprosyn', 'ipratropium', 'acetazolamide', 'pilocarpine', 'apixaban', 'zofran', 'healthyeating', 'immunosuppressants', 'methylprednisolone', 'letrozole', 'betamethasone', 'bumetanide', 'tenex', 'pioglitazone', 'ventolin', 'gemcitabine', 'buspirone', 'fluticasone', 'tricor', 'vardenafil', 'desmopressin', 'sativex', 'bromocriptine', 'ramipril', 'trastuzumab', 'mirena', 'tums', 'levonorgestrel', 'inderal', 'lactobacillus', 'cytoxan', 'cetuximab', 'physostigmine', 'detrol', 'citalopram', 'trileptal', 'dilaudid', 'kratom', 'remeron', 'adalimumab', 'alprostadil', 'medroxyprogesterone', 'sorafenib', 'imipramine', 'mebendazole', 'esomeprazole', 'psyllium', 'niaspan', 'omeprazole', 'berberine', 'galantamine', 'quinidine', 'xeloda', 'nifedipine', 'sominex', 'enoxaparin', 'selegiline', 'dihydrocodeine', 'cladribine', 'guaifenesin', 'suboxone', 'anastrozole', 'enalapril', 'boniva', 'procardia', 'primidone', 'ezetimibe', 'intal', 'hyoscyamine', 'trimethoprim', 'pethidine', 'ondansetron', 'epipen', 'etoposide', 'hydroxyurea', 'levofloxacin', 'ipilimumab', 'strattera', 'klonopin', 'ergotamine', 'norco', 'clomid', 'candesartan', 'adriamycin', 'lisinopril', 'pregnenolone', 'cryosurgery', 'fluvoxamine', 'hydromorphone', 'clomipramine', 'capsicum', 'tegretol', 'perindopril', 'anakinra', 'creon', 'eculizumab', 'theanine', 'subutex', 'spironolactone', 'etanercept', 'quercetin', 'dextroamphetamine', 'oxaliplatin', 'neomycin', 'carboplatin', 'donepezil', 'promethazine', 'pegasys', 'xyrem', 'colace', 'sumatriptan', 'levothyroxine', 'aripiprazole', 'pyrazinamide', 'temozolomide', 'hydralazine', 'pantoprazole', 'lactulose', 'rocephin', 'acidophilus', 'calcitriol', 'kalms', 'ethambutol', 'dutasteride', 'amlodipine', 'femara', 'aciclovir', 'ubiquinol', 'arnica', 'carbidopa', 'exemestane', 'irbesartan', 'inulin', 'doxylamine', 'emollients', 'mirtazapine', 'geodon', 'rosuvastatin', 'diamox', 'estriol', 'alli']\n",
      "\n",
      "Cluster 8: ['vertebroplasty', 'nebulizer', 'colostomy', 'nephrectomy', 'phlebotomy', 'myomectomy', 'lobectomy', 'gastrectomy', 'defibrillation', 'acupressure', 'eyedrops', 'hypnotherapy', 'vitrectomy', 'craniotomy', 'neurofeedback', 'sclerotherapy', 'cystoscopy', 'tonsillectomy', 'hydrotherapy', 'colposcopy', 'tracheostomy', 'thyroidectomy', 'discectomy', 'enema', 'prostatectomy', 'haemodialysis', 'brachytherapy', 'immunotherapy', 'splenectomy', 'sigmoidoscopy', 'lithotripsy', 'sleepwalking', 'electrotherapy', 'cardioversion', 'arthroscopy', 'imap', 'laparoscopy', 'echocardiogram', 'laparotomy', 'endoscopy', 'osteotomy', 'gastroscopy', 'rhinoplasty', 'cryotherapy']\n",
      "\n",
      "Cluster 15: ['interferon', 'prilosec', 'lipitor', 'tamoxifen', 'levitra', 'ribavirin', 'wellbutrin', 'actos', 'claritin', 'avastin', 'arcoxia', 'modafinil', 'enbrel', 'zocor', 'fosamax', 'botox', 'epogen', 'statins', 'taxol', 'raloxifene', 'thalidomide', 'tysabri', 'zyprexa', 'avonex', 'herceptin', 'phentermine', 'warfarin', 'cialis', 'plavix', 'viagra', 'crestor', 'aranesp']\n",
      "\n",
      "Cluster 13: ['phobias', 'anxiety', 'constipation', 'agoraphobia', 'traction', 'fatigue', 'claustrophobia', 'paranoia', 'stress', 'psychosis', 'vertigo', 'pain', 'narcolepsy', 'headaches', 'migraine', 'insomnia', 'addiction', 'dyslexia', 'whiplash']\n",
      "\n",
      "Cluster 11: ['oxycodone', 'lidocaine', 'fentanyl', 'vicodin', 'xanax', 'ambien', 'opioids', 'opiates', 'valium', 'oxycontin', 'morphine', 'percocet', 'codeine', 'benzodiazepines', 'cortisone', 'methadone', 'diazepam', 'ritalin', 'hydrocodone']\n",
      "\n",
      "Cluster 7: ['irinotecan', 'sutent', 'neoral', 'seretide', 'protonix', 'imigran', 'effexor', 'denosumab', 'revlimid', 'neupogen', 'celexa', 'chantix', 'rituxan', 'glucophage', 'neulasta', 'phenergan', 'zomig', 'norvasc', 'abilify', 'paclitaxel', 'humira', 'neurontin', 'yasmin', 'lantus', 'kaletra', 'pulmicort', 'toprol', 'cozaar', 'rituximab', 'carvedilol', 'prevacid', 'coreg', 'zantac', 'rilutek', 'nolvadex', 'lupron', 'synthroid', 'lotronex', 'symbicort', 'prasugrel', 'nicorette', 'risperdal', 'zoladex', 'cymbalta', 'advair', 'zyrtec', 'excedrin', 'provigil', 'docetaxel', 'camptosar', 'serevent', 'allegra', 'augmentin', 'aricept', 'xalatan', 'flonase', 'betaseron', 'gemzar', 'nexium', 'remicade', 'imitrex', 'humalog', 'diflucan', 'cardizem', 'procrit', 'xolair', 'taxotere', 'depakote', 'lamictal', 'buspar', 'singulair', 'nasonex', 'lyrica', 'zovirax', 'nexavar', 'lovenox', 'lexapro', 'lucentis', 'lunesta', 'copaxone', 'erbitux', 'losec', 'pepcid', 'arimidex', 'provenge', 'voltaren', 'velcade', 'topamax', 'seroxat', 'cellcept', 'rebif', 'forteo', 'seroquel', 'streptokinase']\n",
      "\n",
      "Cluster 1: ['malabsorption', 'mastocytosis', 'impetigo', 'vasculitis', 'bradycardia', 'vaginismus', 'hemiplegia', 'arava', 'epididymitis', 'dysthymia', 'prediabetes', 'aspergillosis', 'lymphomas', 'hyperplasia', 'bronchiectasis', 'myositis', 'urethritis', 'bunions', 'sonata', 'prediabetes', 'cystitis', 'synovitis', 'myelopathy', 'neuritis', 'bronchiolitis', 'oedema', 'neutropenia', 'achalasia', 'kyphosis', 'plagiocephaly', 'glomerulonephritis', 'leukodystrophy', 'hypotonia', 'diverticulosis', 'ataxia', 'hydronephrosis', 'arteritis', 'craniosynostosis', 'adenoma', 'granuloma', 'goitre', 'neurofibromatosis', 'ketosis', 'thyroiditis', 'polymyositis', 'neuropathies', 'pneumonitis', 'myelofibrosis', 'lymphadenopathy', 'adrenoleukodystrophy', 'glioblastoma', 'prostatitis', 'bedwetting', 'parkinsonism', 'haemochromatosis', 'porphyria', 'cellulitis', 'enteritis', 'hypopituitarism', 'hyperparathyroidism', 'dermatomyositis', 'osteopenia', 'uveitis', 'birthmarks', 'spasticity', 'meningioma', 'balanitis', 'phimosis', 'angioedema', 'dandelion', 'anaphylaxis', 'soma', 'ringworm', 'cambia', 'dyskinesia', 'myopathy', 'thalassaemia', 'gastroparesis']\n",
      "\n",
      "Cluster 6: ['chemotherapy', 'radiotherapy', 'angioplasty', 'lasik', 'dialysis', 'biopsy', 'lumpectomy', 'mastectomy', 'colonoscopy', 'surgery']\n",
      "\n",
      "Cluster 10: ['fibromyalgia', 'arthritis', 'obesity', 'osteoarthritis', 'acne', 'schizophrenia', 'dementia', 'epilepsy', 'ulcers', 'asthma', 'osteoporosis', 'diabetes', 'psoriasis', 'autism']\n",
      "\n",
      "Cluster 16: ['menopause', 'miscarriage', 'circumcision', 'hysterectomy', 'wounds', 'atherosclerosis', 'stroke', 'fertility', 'thrombosis', 'stillbirth', 'fibroids', 'fractures', 'anorexia', 'pregnancy', 'preeclampsia', 'contraception', 'cysts', 'endometriosis', 'scars', 'bulimia']\n",
      "\n",
      "Cluster 12: ['acupuncture', 'massage', 'physiotherapy', 'neurosurgery', 'osteopathy', 'aromatherapy', 'counselling', 'psychotherapy', 'naturopathy', 'chiropractic', 'homeopathy', 'bereavement']\n",
      "\n",
      "Cluster 19: ['syphilis', 'meningitis', 'flu', 'accidents', 'diarrhoea', 'antibiotics', 'hepatitis', 'encephalitis', 'mumps', 'chlamydia', 'allergies', 'herpes', 'poisoning', 'tetanus', 'pneumonia', 'gastroenteritis']\n",
      "\n",
      "Cluster 18: ['fibrosis', 'shingles', 'tinnitus', 'mrsa', 'asbestosis', 'retinitis', 'jaundice', 'blisters', 'sarcoidosis', 'alopecia', 'rhinitis', 'endocarditis', 'haemophilia', 'carcinoma', 'immunodeficiency', 'leukaemia', 'emphysema', 'glaucoma', 'necrosis', 'adenocarcinoma', 'lupus', 'aphasia', 'anaemia', 'vitiligo', 'sepsis', 'mesothelioma', 'poliomyelitis', 'melanoma', 'cataracts', 'metastasis', 'colitis', 'hives', 'nephritis', 'scleroderma', 'dystonia', 'polyp', 'retina', 'paralysis', 'rosacea']\n",
      "\n",
      "Cluster 2: ['fitness', 'fitness', 'parenting', 'running', 'swimming', 'cycling', 'exercise']\n",
      "\n",
      "Cluster 9: ['appendectomy', 'toothache', 'gout', 'amputation', 'laryngitis', 'aneurysm', 'pericarditis', 'tendonitis', 'bronchitis', 'gastritis', 'sciatica', 'cardiomyopathy', 'bursitis', 'myocarditis', 'tonsillitis', 'scoliosis', 'pancreatitis', 'hydrocephalus', 'astigmatism', 'angina', 'pacemaker', 'concussion', 'pleurisy', 'hernia', 'gallstones', 'tachycardia', 'arrhythmia', 'appendicitis']\n",
      "\n",
      "Cluster 17: ['sodium', 'chromium', 'calcium', 'lithium', 'iodine', 'selenium', 'zinc', 'vitamins', 'manganese', 'sulphur', 'iron', 'magnesium']\n",
      "\n",
      "Cluster 4: ['celebrex', 'antidepressants', 'ibuprofen', 'prozac', 'tylenol', 'aleve', 'advil', 'inhalers', 'cipro', 'aspirin', 'paxil', 'naproxen', 'zoloft', 'antihistamines']\n",
      "\n",
      "Cluster 14: ['yoga', 'meditation']\n",
      "\n"
     ]
    }
   ],
   "source": [
    "import json\n",
    "import re\n",
    "import numpy as np\n",
    "from gensim.models import KeyedVectors\n",
    "from sklearn.cluster import KMeans\n",
    "from sklearn.preprocessing import StandardScaler\n",
    "from collections import defaultdict\n",
    "from gensim.downloader import load\n",
    "\n",
    "# Load tags from JSON file\n",
    "with open('all_tags.json', 'r', encoding='utf-8') as file:\n",
    "    tags = json.load(file)\n",
    "\n",
    "# Preprocess tags (clean special characters, lowercase)\n",
    "def preprocess_tag(tag):\n",
    "    tag = re.sub(r'[^a-zA-Z0-9 ]', '', tag)  # Remove special characters\n",
    "    return tag.lower()\n",
    "\n",
    "tags = [preprocess_tag(tag) for tag in tags]\n",
    "\n",
    "# Load pre-trained GloVe model\n",
    "glove_model = load(\"glove-wiki-gigaword-100\")  # 100-dimensional GloVe vectors\n",
    "\n",
    "# Generate GloVe embeddings\n",
    "glove_embeddings = []\n",
    "valid_tags = []\n",
    "for tag in tags:\n",
    "    if tag in glove_model:\n",
    "        glove_embeddings.append(glove_model[tag])\n",
    "        valid_tags.append(tag)  # Keep only tags that exist in GloVe\n",
    "\n",
    "glove_embeddings = np.array(glove_embeddings)\n",
    "\n",
    "# Apply K-Means clustering to GloVe embeddings\n",
    "num_clusters = 20\n",
    "scaler = StandardScaler()\n",
    "glove_embeddings_scaled = scaler.fit_transform(glove_embeddings)\n",
    "kmeans_glove = KMeans(n_clusters=num_clusters, random_state=42, n_init=10)\n",
    "kmeans_glove.fit(glove_embeddings_scaled)\n",
    "glove_labels = kmeans_glove.labels_\n",
    "\n",
    "# Organize clusters\n",
    "glove_clusters = defaultdict(list)\n",
    "for tag, label in zip(valid_tags, glove_labels):\n",
    "    glove_clusters[label].append(tag)\n",
    "\n",
    "# Convert dictionary keys to strings\n",
    "glove_clusters_str_keys = {str(k): v for k, v in glove_clusters.items()}\n",
    "\n",
    "# Save\n",
    "with open('glove_clusters.json', 'w', encoding='utf-8') as file:\n",
    "    json.dump(glove_clusters_str_keys, file, indent=4)\n",
    "\n",
    "print(\"GloVe clustering completed. Clusters saved to 'glove_clusters.json'\")\n",
    "print(\"GloVe Clusters:\")\n",
    "for cluster, cluster_tags in glove_clusters.items():\n",
    "    print(f\"Cluster {cluster}: {cluster_tags}\\n\")"
   ]
  },
  {
   "cell_type": "markdown",
   "id": "9be0df36-d82d-47ec-8fcc-87d2fa31000e",
   "metadata": {
    "jp-MarkdownHeadingCollapsed": true
   },
   "source": [
    "## SentenceTransformer (BERT) + K-Means"
   ]
  },
  {
   "cell_type": "code",
   "execution_count": 24,
   "id": "669e1f21-2886-4322-99fe-e2a2ec273cef",
   "metadata": {},
   "outputs": [
    {
     "name": "stdout",
     "output_type": "stream",
     "text": [
      "Total BERT clusters: 40\n",
      "\n",
      "Cluster 35: ['lung disease', 'respiratory failure', 'pulmonary embolism', 'asthma', 'severe asthma', 'allergic asthma', 'chronic obstructive pulmonary disease copd', 'bronchiectasis', 'inhalers', 'allergies', 'continuous positive airway pressure cpap', 'emphysema', 'breathing exercise', 'pneumonia', 'acute respiratory distress syndrome ards', 'pulmonary hypertension', 'noninvasive ventilation', 'occupational lung conditions', 'ventide inhaler', 'bronchitis', 'indoor allergy', 'interstitial lung disease ild', 'respiratory tract infections rtis', 'pulmonary fibrosis', 'brittle asthma', 'idiopathic pulmonary fibrosis ipf', 'obliterative bronchiolitis', 'lung surgery', 'whooping cough', 'bronchiolitis', 'anaphylaxis', 'collapsed lung', 'respiratory distress syndrome', 'pulvinal salbutamol dry inhaler', 'lung transplant', 'chest infection']\n",
      "\n",
      "Cluster 39: ['oxygen therapy', 'radiotherapy', 'intensity modulated radiation therapy imrt', 'salvage therapy', 'cognitive behavioural therapy cbt', 'stereotactic radiotherapy', 'investigational treatment', 'cold therapy', 'meditation', 'nutrition therapy', 'brachytherapy', 'imageguided radiation therapy igrt', 'counselling', 'psychotherapy', 'electroconvulsive therapy ect', 'group therapy', 'spinal cord stimulation', 'transcutaneous electrical nerve stimulation tens', 'animalassisted therapy', 'genetic counseling', 'combination therapy', 'computerassisted radiation therapy', 'occupational therapy', 'acupuncture', 'behavioural therapy', 'hydrotherapy', 'light therapy', 'proton therapy', 'biologic therapy', 'ultraviolet light therapy', 'palliativecare', 'deep brain stimulation dbs', 'speech therapy', 'ultrasound therapy', 'transcranial magnetic stimulation tms', 'sleep aid', 'clinical trials', 'laser therapy', 'hypnotherapy', 'biofeedback therapy', 'relaxation therapy', 'music therapy', 'play therapy', 'hyperbaric oxygen therapy', 'enzyme replacement therapy', 'dental treatment', 'targeted therapy', 'gene therapy', 'enzyme therapy', 'pulsed radiofrequency treatment', 'aversion therapy', 'sst saliva stimulating', 'electrotherapy', 'conformal radiotherapy', 'ear acupuncture', 'aromatherapy', 'photodynamic therapy', 'general information about treatments', 'hyperthermia therapy', 'cochlear implants', 'auditory stimulation']\n",
      "\n",
      "Cluster 14: ['vasculitis', 'temporal arteritis giant cell arteritis', 'arthritis', 'polymyalgia rheumatica', 'raynauds phenomenon', 'kidney disease', 'addisons disease', 'lupus', 'nephritis', 'sjogrens syndrome', 'arthritis pain', 'coeliac disease', 'rheumatoid arthritis', 'chronic kidney disease ckd', 'osteoarthritis', 'autoimmune diseases', 'mixed connective tissue disease mctd', 'ankylosing spondylitis', 'conditions and diseases', 'psoriatic arthritis', 'degenerative disc disease', 'joint hypermobility syndrome', 'lyme disease', 'osteopathy', 'nonalcoholic fatty liver disease nafld', 'pelvic inflammatory disease pid', 'blepharitis', 'cervical spondylosis', 'connective tissue diseases', 'arteritis', 'tendonitis', 'lymphadenopathy', 'autosomal dominant polycystic kidney disease adpkd', 'nonalcoholic steatohepatitis nash', 'nephrotic syndrome', 'rheumatic heart disease', 'rheumatic fever', 'juvenile idiopathic arthritis', 'costochondritis', 'reactive arthritis', 'glomerulonephritis', 'fibrosis', 'hydronephrosis', 'systemic sclerosis', 'cystic fibrosis', 'sjogrenlarsson syndrome', 'leukodystrophy', 'takayasu arteritis', 'c3 glomerulopathy', 'handfootandmouth disease', 'glucosamine  chondroitin with msm', 'chronic renal failure', 'autosomal recessive polycystic kidney disease arpkd', 'kidney diseases in childhood', 'arthropathy', 'vanishing white matter vwm disease', 'synovitis', 'urticarial vasculitis']\n",
      "\n",
      "Cluster 6: ['prednisolone', 'nifedipine', 'amoxicillin', 'azithromycin', 'propafenone', 'antibiotics', 'etynodiol', 'indomethacin', 'cisplatin', 'etoposide', 'cetirizine', 'ciclesonide', 'penicillin g', 'neomycin  prednisolone', 'eplerenone', 'claritin', 'probiotics', 'adriamycin', 'tamsulosin', 'inositol', 'cevimeline', 'kegel8', 'cysteine', 'ketotifen', 'glucogel', 'colomycin', 'theophylline', 'indocid', 'meloxicam', 'spironolactone', 'amoxicillin  clavulanate', 'ruxolitinib', 'pregnenolone', 'beclometasone', 'clarithromycin', 'pramoxine', 'azythromycin', 'nitrofurantoin', 'doxorubicin', 'penicillin v', 'colchicine  probenecid', 'welchol', 'becotide', 'pentoxifylline', 'aminophylline', 'erythromycin', 'nissen fundoplication', 'atenolol  nifedipine', 'budesonide', 'betamethasone  neomycin', 'vesicare', 'serrapeptase', 'cephalexin', 'penicillamine', 'adenosine', 'nicardipine', 'clindamycin  benzoyl peroxide', 'dormicum', 'cipro', 'gentamicin', 'tamsulosin  dutasteride', 'neomycin', 'lymecycline', 'citicoline', 'epirubicin', 'ketoprofen', 'mucodyne', 'levofloxacin', 'pancreatin', 'capreomycin', 'cinnarizine', 'streptomycin', 'vancomycin', 'clindamycin', 'lactobacillus', 'capsicum', 'tobramycin']\n",
      "\n",
      "Cluster 0: ['overactive thyroid hyperthyroidism', 'graves disease', 'adrenal conditions', 'armour thyroid', 'underactive thyroid hypothyroidism', 'osteoporosis', 'thyroid cancer', 'natural thyroid', 'thyroid conditions', 'myopathy', 'desiccated thyroid extract', 'natural desiccated thyroid ndt', 'adrenoleukodystrophy', 'thyroidectomy', 'erfa thyroid', 'hormone replacement therapy hrt', 'thyroid abnormalities', 'thyroiditis', 'bovine thyroid', 'partial thyroidectomy', 'excessive sweating hyperhidrosis', 'methylenetetrahydrofolate reductase mthfr deficiency', 'growth hormone abnormalities', 'pituitary problems', 'thyroid peroxidase tpo', 'parathyroid conditions', 'hyperparathyroidism', 'homeopathy', 'hypopituitarism', 'growth hormone', 'dysthymia', 'adrenocorticotropic hormone acth', 'thymectomy', 'parathyroidectomy', 'parathyroid hormone pth', 'thyroid storm', 'peyronies disease']\n",
      "\n",
      "Cluster 16: ['phosphate test', 'cortisol level test', 'blood tests', 'urine test', 'c reactive protein test', 'genetic test', 'ana test', 'rheumatoid factor test', 'allergy test', 'total protein test', 't4 test', 'hearing tests', 'factor i test', 'cervical screening', 't3 test', 'fertility test', 'creatine kinase test ck', 'prolactin test', 'esr test', 'ferritin test', 'antimullerian hormone test amh', 'thyroidstimulating hormone tsh test', 'thyroid function test', 'blood ketone test', 'carcinoembryonic antigen cea test', 'luteinizing hormone lh test', 'barium swallow test', 'kidney function test', 'pulmonary function test', 'pregnancy test', 'thyrotropin releasing hormone test trh', 'peak flow test', 'total ironbinding capacity tibc test', 'ldh test', 'fsh test', 'alp test', 'alanine transaminase test alt', 'barium test', 'ferritin blood test', 'sti test', 'alkaline phosphatase test', 'antithyroglobulin antibody test', 'glucose test', 'immunoglobulin m test', 'corticotropinreleasing hormone test']\n",
      "\n",
      "Cluster 4: ['rivaroxaban', 'clopidogrel', 'diltiazem', 'abiraterone', 'bricanyl', 'clenil modulite', 'clobetasol', 'ocrelizumab', 'lamotrigine', 'clonazepam', 'lamictal', 'abilify', 'duloxetine', 'baclofen', 'ibrutinib', 'rituximab', 'acalabrutinib', 'firmagon', 'clexane', 'viscotears', 'pluvicto', 'mebeverine', 'celecoxib', 'citalopram', 'pepcid', 'brukinsa', 'imbruvica', 'lactulose', 'bupropion', 'chloroquine', 'obinutuzumab', 'tocilizumab', 'etoricoxib', 'bimatoprost', 'atenolol  bendroflumethiazide', 'meclizine', 'symbicort', 'enbrel', 'eltrombopag', 'carbocisteine', 'loperamide', 'brilique', 'macrogol', 'bisacodyl', 'kratom', 'librium', 'oncobcg', 'fingolimod', 'wixela inhub', 'dalfampridine', 'nintedanib', 'epipen', 'quinagolide', 'cabergoline', 'bromocriptine', 'clorazepate', 'aldactone', 'briviact', 'belimumab', 'pulmicort', 'tofacitinib', 'romosozumab', 'brivaracetam', 'myrbetriq', 'abcesses', 'clobazam', 'palbociclib', 'rectocele', 'trastuzumab', 'carbomer', 'hyloforte', 'chloramphenicol', 'ispaghula husk  mebeverine', 'brolene', 'biperiden', 'chlorambucil', 'budenofalk', 'bendamustine', 'vedolizumab', 'qelbree', 'pulmozyme', 'ibuleve', 'breztri aerosphere', 'clomid', 'sipuleucelt', 'plegridy', 'dilzem', 'rifampicin  isoniazid', 'pompholyx', 'bromazepam', 'movicol', 'colesevelam', 'balanitis', 'cetuximab', 'eluxadoline', 'pertuzumab', 'albutrepenonacog alfa', 'butalbital', 'colestid', 'haldol', 'methocarbamol', 'alfuzosin', 'plagiocephaly', 'halaven', 'bupramyl', 'buccolam', 'buccastem m', 'certolizumab pegol', 'clioquinol', 'clobetasone', 'ethambutol', 'isoniazid', 'chromium', 'cabozantinib', 'lenvatinib', 'aleve', 'crizotinib', 'eculizumab', 'bentyl', 'velcade']\n",
      "\n",
      "Cluster 10: ['idiopathic thrombocytopenic purpura itp', 'behcets disease', 'peritoneal dialysis', 'kidney failure', 'dialysis', 'haemodialysis', 'haemochromatosis', 'pernicious anaemia', 'coronavirus infection', 'kidney transplant', 'anaemia', 'polycythaemia vera', 'liver failure', 'liver disease', 'deep vein thrombosis dvt', 'liver cirrhosis', 'alcoholrelated liver disease arld', 'sepsis', 'immunodeficiencies and defective immune system', 'bloodcoagulation factor xiii', 'thrombosis', 'essential thrombocythaemia', 'immunotherapy', 'tuberculosis tb', 'ebv infections', 'cytomegalovirus infection', 'intravenous immunoglobulin ivig', 'myelofibrosis', 'hepatitis c', 'platelet transfusions', 'blood clots', 'hiv infection and aids', 'iron deficiency anaemia', 'postviral fatigue syndrome', 'autoimmune hepatitis aih', 'haemoglobin', 'polycythaemia', 'bacillus calmettegurin bcg vaccine', 'aplastic anaemia', 'blood transfusion', 'myelopathy', 'immunoglobulin', 'liver transplant', 'hepatitis', 'renal failure', 'diamine oxidase dao deficiency', 'hepatitis b vaccine', 'immunodeficiency', 'acute renal failure', 'haemolytic anaemia', 'stem cell and bone marrow transplants', 'human papillomavirus hpv', 'antiviral treatment', 'autologous stem cell transplant', 'plasma exchange', 'necrosis', 'sicklecell anaemia', 'hepatitis b', 'varicose veins', 'haemophilia', 'shingles vaccine', 'kidney infection', 'continuous ambulatory peritoneal dialysis', 'home hemodialysis', 'kidney donation', 'pancreas transplant', 'jaundice', 'hepatitis a vaccine', 'factor x deficiency', 'postexposure prophylaxis pep', 'hpv infections', 'hereditary alpha tryptasemia', 'digoxin specific antibody', 'virus infections']\n",
      "\n",
      "Cluster 20: ['healthyeating', 'weightloss', 'fitness', 'stroke', 'ageing well', 'womens health', 'mens health', 'sleep hygiene', 'bed rest', 'quitsmoking', 'healthy eating', 'bedwetting', 'parenting', 'fatigue', 'bereavement', 'quit smoking', 'yoga', 'water retention', 'alcohol misuse', 'exercise', 'swimming', 'heat exhaustion and heatstroke', 'get active', 'weight loss', 'healthy living', 'running', 'road traffic accidents', 'carer support', 'cycling', 'simply sleep', 'speech problems', 'obesity', 'rape and sexual assault', 'stress', 'testosterone', 'quit drinking', 'domestic violence', 'lipoedema', 'intensive care', 'mumps', 'acupressure', 'first aid', 'poisoning', 'regaine extra strength', 'accidents', 'sleepwalking', 'stem cell mobilization', 'financial concerns', 'confidence in the care being received', 'receiving support from familyfriends', 'communicating health information to familyfriends', 'finding others in a similar experience', 'general information about condition', 'fitness', 'access to care and support', 'support from familyfriends']\n",
      "\n",
      "Cluster 18: ['meningioma', 'ocrevus', 'hashimotos disease', 'oesophagitis', 'atopic eczema', 'dyskinesia', 'lichen sclerosus', 'psoriasis', 'lymphoedema', 'lichen planus', 'biopsy', 'thalassaemia', 'glandular fever', 'myasthenia gravis', 'uveitis', 'skin or nail infections', 'scleroderma', 'fungal infections', 'plantar fasciitis', 'cysts', 'aspergillosis', 'hives', 'excoriation skin picking disorder', 'laryngitis', 'eczema and dermatitis', 'dermovate', 'cellulitis', 'hypercalcaemia', 'eosinophilic disorders', 'prostatitis', 'poliomyelitis', 'dyskeratosis congenita', 'livedo reticularis', 'botulinum toxin', 'granulomatosis with polyangiitis', 'cyclogest', 'mesothelioma', 'hidradenitis suppurativa', 'melanoma', 'hay fever', 'sarcoidosis', 'trospium', 'cavernoma', 'mastocytosis', 'systemic mastocytosis', 'neutropenia', 'neuritis', 'hyperplasia', 'lynch syndrome', 'dermatomyositis', 'hidradenitis', 'microscopic polyangiitis', 'varicose eczema', 'shingles', 'polyarteritis nodosa', 'rickets and osteomalacia', 'phimosis', 'aphasia', 'charcotmarietooth disease', 'discoid eczema', 'malabsorption', 'angioedema', 'kyphosis', 'syphilis', 'stings from marine creatures', 'asbestosis', 'epididymitis', 'granuloma', 'testicle lumps and swellings', 'gm1 gangliosidosis', 'pityriasis rosea', 'vaginismus', 'alphamannosidosis', 'ringworm', 'mollarets meningitis', 'hives and angioedema', 'pleurodesis', 'necrobiosis lipoidica', 'urticaria pigmentosa', 'cutaneous mastocytosis', 'nodular prurigo', 'alexander disease']\n",
      "\n",
      "Cluster 7: ['neurosurgery', 'surgery', 'debulking surgery', 'catheter ablation', 'hiatus hernia', 'hysterectomy', 'vascular surgery', 'lymph node removal', 'gallbladder removal', 'bypass surgery', 'spinal surgery', 'appendectomy', 'transarterial chemoembolization tace', 'laparoscopy', 'lumpectomy', 'endoscopy', 'mastectomy', 'hysteroscopy', 'laminectomy', 'oesophagectomy', 'radical hysterectomy', 'total hysterectomy', 'discectomy', 'surgical decompression', 'craniotomy', 'phlebotomy', 'colonoscopy', 'perforated eardrum', 'skin graft', 'colostomy', 'cleft lip and palate', 'arthroscopy', 'laparotomy', 'polyp removal', 'embolisation', 'transrectal highintensity focused ultrasound', 'penis implant', 'gastric bypass', 'vitrectomy', 'stereotactic radiosurgery', 'trabeculectomy', 'mohs surgery', 'surgical diathermy', 'lobectomy', 'chest surgery', 'nephrectomy', 'adrenalectomy', 'hemithyroidectomy', 'abdominal hysterectomy', 'cystoscopy', 'lung lobectomy', 'iridectomy', 'thrombectomy', 'decompressive craniectomy', 'hernia repair', 'angioscopy', 'colposcopy', 'partial mastectomy', 'diep flap reconstruction', 'liver resection', 'catheterisation', 'myomectomy', 'radical mastectomy', 'umbilical hernia', 'anal and rectal conditions', 'reconstructive surgery', 'salpingectomy', 'cystectomy', 'orchidectomy', 'sigmoidoscopy', 'skin surgery', 'ileostomy', 'gynecological surgery', 'omentectomy', 'video assisted thoracoscopic surgery vats', 'transjugular intrahepatic portosystemic shunt tipss', 'tooth extraction', 'stoma surgery', 'total mastectomy', 'bone graft', 'colectomy', 'extracorporeal membrane oxygenation ecmo', 'neck dissection', 'cryosurgery', 'weight loss surgery', 'tracheostomy', 'splenectomy', 'circumcision', 'tonsillectomy', 'pneumonectomy', 'gastrectomy', 'rhinoplasty', 'tubal sterilisation', 'modified radical mastectomy', 'breast reconstruction', 'ostomy belt', 'enterectomy', 'castration', 'plastic surgery', 'tissue graft']\n",
      "\n",
      "Cluster 19: ['heart attack', 'angina', 'cardiovascular disease cvd', 'atrial fibrillation', 'heart failure', 'echocardiogram', 'postural orthostatic tachycardia syndrome pots', 'coronary heart disease', 'aortic stenosis', 'high blood pressure hypertension', 'aneurysm', 'arrhythmia', 'cardioversion', 'tachycardia', 'abdominal aortic aneurysm', 'aortic valve replacement', 'mitral valve disease', 'aortic aneurysm', 'coronary angioplasty and stent insertion', 'heart surgery', 'paroxysmal atrial fibrillation', 'endocarditis', 'valve replacement', 'cardiac ablation', 'coronary artery bypass graft cabg', 'percutaneous coronary intervention pci', 'cardiac arrest', 'antiphospholipid syndrome aps', 'hypertrophic cardiomyopathy', 'atrioventricular av heart block', 'atrial flutter', 'supraventricular tachycardia svt', 'bradycardia', 'heart bypass', 'cardiomyopathy', 'implantable cardioverter defibrillator icd', 'electrocardiogram ecg', 'microvascular angina', 'heart valve diseases', 'heart transplant', 'dilated cardiomyopathy', 'ventricular tachycardia', 'heart health', 'permanent atrial fibrillation', 'angioplasty', 'persistent atrial fibrillation', 'procardia', 'myocarditis', 'heart block', 'coarctation of the aorta', 'carotid artery disease', 'aortic valve disease', 'coronary vasospastic disease', 'intermittent catheterisation', 'heart murmur', 'vascular conditions', 'endovascular aneurysm repair', 'aortic dissection', 'ventricular fibrillation', 'chest x ray', 'peripheral artery disease', 'atherosclerosis', 'coronary angioplasty', 'acute coronary syndrome', 'congenital heart disease', 'av atrioventricular node ablation', 'coronary artery spasm', 'defibrillation', 'arteriovenous malformation avm', 'tricuspid valve disease', 'ventriculoperitoneal shunt', 'vascular dementia', 'electric defibrillation', 'takotsubo cardiomyopathy', 'arrhythmogenic right ventricular cardiomyopathy arvc', 'heart valve annuloplasty', 'cerebrovascular disease', 'antivascular endothelial growth factor antivegf', 'cardiac resynchronization therapy']\n",
      "\n",
      "Cluster 26: ['transient ischaemic attack tia', 'corticobasal degeneration', 'restless legs syndrome', 'multiple sclerosis', 'ehlersdanlos syndromes', 'parkinsons disease', 'fibromyalgia', 'tinnitus', 'periodic limb movement disorder', 'functional neurological disorder fnd', 'chronic fatigue syndrome cfs', 'neuropathies', 'peripheral neuropathy', 'headaches', 'chronic migraine', 'carpal tunnel syndrome', 'migraine', 'frontotemporal dementia', 'cerebral autosomal recessive arteriopathy with subcortical infarcts and leukoencephalopathy carasil', 'trigeminal neuralgia', 'nerve block', 'brain aneurysm', 'progressive supranuclear palsy psp', 'epilepsy', 'spinal stenosis', 'pudendal neuralgia', 'wolffparkinsonwhite syndrome wpw', 'electroencephalogram eeg', 'primary progressive multiple sclerosis', 'ataxia', 'multiple system atrophy msa', 'encephalitis', 'essential tremor', 'parkinsonism', 'sleep paralysis', 'muscular dystrophy', 'acoustic neuroma', 'huntingtons disease', 'hemiplegia', 'postherpetic neuralgia', 'dystonia', 'seizure', 'ear conditions', 'narcolepsy', 'adrenomyeloneuropathy', 'pilonidal sinus', 'mortons neuroma', 'spasticity', 'chiari malformation', 'subarachnoid haemorrhage', 'labyrinthitis', 'achalasia', 'concussion', 'brain haemorrhage', 'tourettes syndrome', 'neurological conditions', 'long qt syndrome lqts', 'complex regional pain syndrome', 'hearing loss', 'beckwithwiedemann syndrome', 'myalgic encephalomyelitis', 'developmental coordination disorder dyspraxia', 'menieres disease', 'cerebral vasculitis', 'gilberts syndrome', 'temporomandibular joint disorder tmj', 'mast cell activation syndrome mcas', 'neurodegenerative disease', 'cogans syndrome', 'motion sickness', 'cluster headaches', 'erythromelalgia', 'bells palsy', 'richters syndrome', 'neurofibromatosis', 'orthostatic hypotension', 'tensiontype headaches', 'cushings syndrome', 'vertigo', 'paracentesis', 'persistent posturalperceptual dizziness', 'head pain', 'nerve or brain infections', 'neurofibromatosis type 2', 'naturopathy', 'facial pain', 'facial paresis', 'dementia with lewy bodies', 'tension headaches', 'primary ciliary dyskinesia pcd', 'cerebral palsy', 'guillainbarre syndrome', 'downs syndrome', 'brain death', 'hereditary spastic paraplegia hsp', 'subdural haematoma', 'hydrocephalus', 'paralysis', 'amyotrophic lateral sclerosis als', 'vagus nerve stimulation vns', 'electroconvulsive shock ecs', 'spinal muscular atrophy sma', 'sclerotherapy', 'brugada syndrome', 'neurofeedback', 'tuberous sclerosis', 'trichotillomania hair pulling disorder', 'craniosynostosis', 'altitude sickness', 'gorlin syndrome', 'tickborne encephalitis', 'cerebral autosomal dominant arteriopathy with subcortical infarcts and leukoencephalopathy cadasil', 'pagets disease', 'neurofibromatosis type 1', 'sphenopalatine ganglion block', 'nerve transfer', 'noonan syndrome']\n",
      "\n",
      "Cluster 17: ['isosorbide mononitrate', 'linaclotide', 'lansoprazole', 'acid reflux', 'ursodeoxycholic acid', 'tetrahydrocannabinol thc', 'tiotropium  olodaterol', 'berberine', 'valproic acid', 'mycophenolate', 'omega3 fatty acids', 'amantadine', 'alverine', 'alendronic acid', 'glyceryl trinitrate', 'mefenamic acid', 'radioactive iodine', 'voltaren gel', 'tranexamic acid', 'interferon alfa2a', 'lipitor', 'imodium', 'zoledronic acid', 'lipoic acid', 'alendronic acid  colecalciferol', 'acetic acid', 'noni juice', 'alphosyl', 'azulfidine', 'nacetylcysteine nac', 'iodine', 'dehydroepiandrosterone dhea', 'ranitidine', 'antacids', 'adrenal cortex extract ace', 'amino acids', 'fusidic acid', 'ace inhibitors', 'polyhydramnios', 'ibandronic acid', 'hp acthar gel', 'evoxac', 'aminosalicylic acid', 'imodium ibs relief', 'tryptophan', 'diamine oxidase', 'acea gel', 'salicylic acid', 'azelaic acid', 'umeclidinium  vilanterol', 'azacitidine', 'aclidinium', 'obeticholic acid', 'acidophilus', 'licorice extract', 'cholestagel']\n",
      "\n",
      "Cluster 22: ['methotrexate', 'enzalutamide', 'fludarabine cyclophosphamide and rituximab fcr', 'carbimazole', 'furosemide', 'carboplatin', 'canabidiol cbd', 'lacosamide', 'bicalutamide', 'diclofenac', 'indapamide', 'cyanocobalamin', 'hydroxycarbamide', 'letrozole', 'ceftazidime intravenous infusion', 'spironolactone  furosemide', 'doxazosin', 'cyclizine', 'leflunomide', 'fluconazole', 'dorzolamide  timolol', 'baricitinib', 'dicyclomine', 'dorzolamide', 'doxycycline', 'nilotinib', 'diclofenac sodium  misoprostol', 'brinzolamide', 'cytoxan', 'chemydur 60xl', 'cytomel', 'itraconazole', 'danazol', 'pizotifen', 'anastrozole', 'beconase', 'methimazole', 'cyclophosphamide', 'antifungal medicines', 'metronidazole', 'cyclosporin', 'rifampicin  isoniazid  pyrazinamide', 'nicotinamide adenine dinucleotide nadh', 'pembrolizumab', 'hypromellose', 'tazobactam', 'atezolizumab', 'disopyramide', 'brinzolamide  brimonidine', 'hyoscine butylbromide', 'clotrimazole  fluconazole', 'tetracycline', 'tazocin', 'amiloride  furosemide', 'ketoconazole', 'tetrabenazine', 'nizoral', 'temozolomide', 'minocycline', 'acetazolamide', 'voriconazole', 'cimetidine', 'mebendazole', 'linezolid', 'prothionamide', 'cycloserine', 'pyrazinamide', 'cyclopenthiazide', 'nicotinamide']\n",
      "\n",
      "Cluster 9: ['omeprazole', 'bisoprolol', 'mesalazine', 'antidepressants', 'sertraline', 'risperidone', 'diazepam', 'olanzapine', 'promethazine', 'lorazepam', 'prozac', 'trazodone', 'paxil', 'quetiapine', 'aripiprazole', 'ketoprofen  omeprazole', 'carbamazepine', 'seroquel', 'esomeprazole', 'azapropazone', 'amlodipine', 'xanax', 'meptazinol', 'ranolazine', 'pantoprazole', 'lisinopril', 'escitalopram', 'lercanidipine', 'cymbalta', 'mirtazapine', 'oxcarbazepine', 'benzodiazepines', 'antipsychotics', 'rizatriptan', 'metoclopramide', 'pioglitazone', 'ziprasidone', 'naproxen  esomeprazole', 'alprazolam', 'lurasidone', 'felodipine', 'gliclazide', 'rabeprazole', 'pilocarpine', 'felodipine  ramipril', 'phentermine', 'perindopril  amlodipine', 'cyclobenzaprine', 'cerazette', 'lacidipine', 'promazine', 'hydralazine  hydrochlorothiazide  reserpine', 'ambien', 'cotrimoxazole', 'cannabinol cbn', 'salazopyrin', 'cilazapril', 'flurazepam', 'tenofovir  efavirenz  emtricitabine', 'clotrimazole', 'phenobarbital', 'antipressan', 'phentolamine', 'procarbazine', 'benazepril', 'amlodipine  valsartan', 'telmisartan  amlodipine', 'prazosin', 'pericyazine']\n",
      "\n",
      "Cluster 34: ['knee pain', 'physiotherapy', 'pain', 'back pain', 'sciatica', 'knee surgery', 'pain management', 'hip replacement', 'occupational back conditions', 'bone health', 'postural drainage', 'massage', 'total knee replacement', 'high compression bandage', 'spinal fusion', 'chronic pain', 'head injuries', 'chiropractic', 'falls trips and slips', 'musculoskeletal manipulations', 'osteopenia', 'joint pain', 'fractures', 'spinal manipulation', 'scoliosis', 'neck pain', 'knee replacement', 'tendon transfer', 'total disc replacement', 'joint replacement', 'back injury', 'slipped disc', 'rectal pain', 'shoulder pain', 'joint fusion', 'spinal cord injuries', 'muscle pain', 'vertebroplasty', 'leg pain', 'frozen shoulder', 'hand pain', 'light compression bandage', 'cartilage damage', 'bone spur', 'spinal tap', 'cramp bark', 'pelvic nerve damage', 'tennis elbow', 'sprains and strains', 'wounds', 'flat feet', 'irritable hip', 'club foot', 'leg or foot ulcers', 'hip pain', 'osteotomy', 'amputation', 'groin pain', 'whiplash', 'repetitive strain injury rsi', 'elbow and arm pain', 'joint dislocations', 'sports injuries']\n",
      "\n",
      "Cluster 24: ['topical steroids', 'herpes', 'urea cream', 'aloe vera', 'turmeric extract', 'whey protein', 'ginger extract', 'castor oil', 'peppermint oil', 'collagen', 'rosacea', 'acne', 'green tea extract', 'scars', 'solgar gentle iron', 'herbal medicines', 'gout', 'hyaluronic acid', 'artificial saliva', 'essential oils', 'fish oil', 'nicotine patches', 'butec transdermal patches', 'hydrocortisone  tretinoin  hydroquinone cream', 'puva therapy psoralen and ultraviolet a', 'urea topical', 'coal tar', 'blisters', 'cod liver oil', 'primrose oil', 'dermol cream', 'efudix cream', 'hydrocortisone topical', 'mezolar matrix transdermal patches', 'red yeast rice', 'cold sores', 'hair conditions', 'vaniqa cream', 'aqueous cream', 'balneum plus cream', 'oilatum', 'alopecia', 'estradot patches', 'lorenzos oil', 'epaderm cream', 'derma care hydrocortisone cream', 'skin tags', 'maxalt melt lyophilisates', 'etrivex shampoo', 'tea tree oil', 'dental caries', 'matrifen transdermal patches', 'pine bark extract', 'capasal therapeutic shampoo', 'genital herpes', 'medium chain triglyceride mct oil', 'lavender oil', 'cranberry extract', 'e45 cream', 'saw palmetto extract', 'burns and scalds', 'birthmarks', 'fentalis reservoir transdermal patches', 'calmurid cream', 'witch hazel', 'sage tincture', 'transtec transdermal patches', 'garlic', 'krill oil', 'polyethylene glycol', 'stretch marks', 'flaxseed oil']\n",
      "\n",
      "Cluster 33: ['low blood pressure hypotension', 'low carb high fat lchf diet', 'diabetes diet', 'glutenfree diet', 'hyperglycaemia high blood sugar', 'low sodium diet', 'prediabetes', 'high cholesterol', 'diabetes', 'low carbohydrate diet', 'cholesterol management', 'type 2 diabetes', 'insulin', 'fatty liver', 'low fat diet', 'weight loss diet', 'high fiber food', 'type 1 diabetes', 'diabetic neuropathy', 'diabetic ketoacidosis dka', 'calorie restricted diet', 'diabetes insipidus', 'pancreatic diseases', 'insulin resistance', 'insulin glargine', 'regular insulin', 'hypoglycaemia low blood sugar', 'diabetic retinopathy', 'insulin aspart', 'sweets syndrome', 'prediabetes', 'hdl cholesterol', 'triglycerides management', 'low protein diet', 'lactose intolerance', 'metabolic conditions', 'pancrelipase', 'diabetic nephropathy', 'lowdensity lipoprotein ldl', 'metabolic syndrome', 'insulin degludec', 'insulin regular', 'insulin glulisine', 'parenteral nutrition']\n",
      "\n",
      "Cluster 31: ['prostate cancer', 'lung cancer', 'ovarian cancer', 'chronic lymphocytic leukemia cll', 'skin cancer', 'adenomyosis', 'chemotherapy', 'breast cancer', 'chronic leukaemia', 'cancer and tumours', 'breast cancer metastatic', 'metastasis', 'glioblastoma', 'chemoradiotherapy', 'appendix cancer', 'oesophageal cancer', 'nonhodgkin lymphoma', 'myeloproliferative neoplasm mpn', 'colon cancer', 'stomach cancer', 'cervical cancer', 'womb cancer', 'small lymphocytic lymphoma sll', 'carcinoma', 'hodgkin lymphoma', 'liver cancer', 'bladder cancer', 'neuroendocrine tumours', 'blood cancer', 'multiple myeloma', 'testicular cancer', 'brain tumours', 'lymphocytic leukemia', 'maintenance chemotherapy', 'breast tumours', 'anal cancer', 'acute myeloid leukaemia aml', 'bone cancer', 'malignant melanoma', 'adenocarcinoma', 'pancreatic cancer', 'lymphomas', 'vulval cancer', 'kidney cancer', 'nonsmallcell lung carcinoma', 'adenoma', 'oral chemotherapy', 'pituitary tumour', 'bowel cancer', 'peritoneal cancer', 'leukaemia', 'nasal and sinus cancer', 'hepatocellular carcinoma hcc', 'small cell lung cancer', 'breast cancer in men', 'acute leukaemia', 'vaginal cancer', 'head and neck cancer', 'chronic myeloid leukaemia cml', 'malignant brain tumour', 'skin tumours', 'bile duct cancer', 'brain tumours lowgrademixed', 'acute lymphoblastic leukaemia all', 'mantle cell lymphoma mcl', 'gallbladder cancer', 'penile cancer', 'epoch chemotherapy', 'ketosis']\n",
      "\n",
      "Cluster 13: ['radical prostatectomy', 'prostatespecific antigen psa', 'bladder conditions', 'overactive bladder', 'prostate disease', 'bowel incontinence', 'oxybutynin', 'prostatectomy', 'urinary incontinence', 'pelvic floor dysfunction', 'urinary tract infections utis', 'pelvic adhesions', 'dupuytrens contracture', 'kidney stones', 'benign prostatic hyperplasia', 'pelvic organ prolapse', 'urinary tract obstruction', 'transurethral resection of the prostate turp', 'bladder catheterisation', 'urinary retention', 'urinary tract conditions', 'bladder infections', 'urethritis', 'urinary tract stones', 'ureteroscopy', 'urostomy', 'incontinence sheaths', 'urinary tract tumours', 'urologic surgery']\n",
      "\n",
      "Cluster 8: ['steroids', 'buprenorphine', 'medication monitoring', 'tramadol', 'medical cannabis', 'nonsteroidal antiinflammatory drugs nsaids', 'prednisone', 'opioids', 'sleep apnoea', 'amitriptyline', 'steroid injections', 'morphine', 'pain killer', 'oxycodone', 'diuretic', 'ibuprofen', 'immunosuppressants', 'epidural anesthesia', 'adderall', 'tamoxifen', 'ritalin', 'depomedrone', 'lax pills', 'adderall xr', 'eltroxin', 'midodrine', 'sildenafil', 'nortriptyline', 'botox', 'drug or substance abuse', 'allopurinol', 'hydrocortisone', 'methadone', 'domperidone', 'tylenol', 'metoprolol', 'naltrexone  bupropion', 'lidocaine', 'inderal', 'synthroid', 'dilaudid', 'fentanyl', 'low dose naltrexone ldn', 'dexilant', 'dexedrine', 'desmopressin', 'carnitine', 'entacapone', 'depomedrol', 'hydromorphone', 'suboxone', 'dextrose', 'opioid substitution treatment', 'duoresp spiromax', 'creatine', 'medroxyprogesterone', 'otomize ear spray', 'gnrh agonist', 'accrete d3 tablets', 'oxycodone  naloxone', 'synarel nasal spray', 'norgesic', 'advil', 'opiates', 'enoxaparin', 'viagra', 'adrenaline', 'traxam pain relief', 'naltrexone', 'predsol', 'ceftriaxone', 'buprenorphine and naloxone', 'morphgesic sr', 'memantine', 'lomustine', 'endoxan', 'methamphetamine', 'stressless herbal tablets', 'oxymorphone', 'vicodin']\n",
      "\n",
      "Cluster 12: ['autism', 'anxiety', 'sleep disorders', 'posttraumatic stress disorder ptsd', 'generalised anxiety disorder gad', 'clinical depression', 'postpartum psychosis', 'bipolar disorder', 'depakote', 'cognitive impairment', 'mental health', 'obsessivecompulsive disorder ocd', 'attention deficit hyperactivity disorder adhd', 'major depressive disorder mdd', 'schizoaffective disorder', 'postnatal depression', 'depression disorder', 'psychosis', 'social anxiety', 'panic disorder and panic attacks', 'paranoia', 'agoraphobia', 'addiction', 'learning disabilities', 'borderline personality disorder', 'psychiatric emergency services', 'aspergers disorder', 'insomnia', 'movement disorder', 'binge eating', 'health anxiety', 'eating disorders', 'mood disorder', 'mental disorder', 'schizophrenia', 'body dysmorphic disorder', 'nervous breakdown', 'crisis counseling', 'separation anxiety disorder', 'hoarding disorder', 'phobias', 'anorexia', 'auditory processing disorder apd', 'low mood', 'gender dysphoria', 'nicotine addiction', 'dopamine', 'dyslexia', 'memory loss amnesia', 'seasonal affective disorder sad', 'claustrophobia', 'alzheimers disease', 'feeling anxious', 'dementia', 'personality disorder', 'antisocial personality disorder', 'feeling lonely', 'pervasive developmental disorders pdd', 'foetal alcohol spectrum disorders fasd', 'hypotonia']\n",
      "\n",
      "Cluster 25: ['fostair', 'influenza vaccine', 'fultiumd3', 'fluoxetine', 'famotidine', 'fulvestrant', 'ferrous fumarate', 'bendroflumethiazide', 'flecainide', 'bird flu', 'fibroids', 'fluvoxamine', 'fybogel', 'fybogel mebeverine', 'fluorometholone', 'fucidin cream', 'fodmap', 'fluanxol', 'fiasp', 'fludrocortisone', 'anti tnf', 'fosamax', 'flupentixol', 'frovatriptan', 'colofac', 'flixotide', 'fluticasone', 'flolan', 'flutamide', 'fludarabine', 'flucloxacillin', 'flixonase', 'trifluoperazine', 'flonase', 'fluticasone  vilanterol', 'florinef', 'flutiform', 'fioricet', 'familial mediterranean fever fmf', 'diflucan', 'feverfew', 'flovent', 'fiorinal', 'fluticasone  salmeterol', 'flunarizine', 'fluorouracil', 'dandelion', 'flu', 'mefoxin']\n",
      "\n",
      "Cluster 36: ['carbidopa  levodopa', 'codeine', 'hydroxychloroquine', 'methylcobalamin', 'levothyroxine', 'venlafaxine', 'ketamine', 'methylprednisolone', 'paracetamol', 'hydroxyzine', 'levetiracetam', 'liothyronine', 'wockhardt levothyroxine', 'antihistamines', 'salbutamol', 'otraspray nasal spray', 'losartan  hydrochlorothiazide', 'pyridostigmine', 'levothyroxine  liothyronine', 'betahistine', 'loratadine', 'ivabradine', 'hydroxyquinoline', 'methylphenidate', 'hydrocodone and acetaminophen', 'prednesol', 'dextroamphetamine', 'lisdexamfetamine', 'brimonidine', 'chlorpromazine', 'dihydrocodeine', 'hydroxocobalamin', 'luteinizing hormone releasing hormone lhrh agonist', 'amitriptyline  ketamine', 'atomoxetine', 'tylenol with codeine 4', 'amfetamine', 'paroxetine', 'hydrochlorothiazide', 'estradiol  norethisterone', 'clonidine', 'vortioxetine', 'teva levothyroxine', 'hydroxyurea', 'lisinopril  hydrochlorothiazide', 'hydrocodone', 'fexofenadine', 'dexmethylphenidate', 'bisoprolol  hydrochlorothiazide', 'chlorphenamine', 'benadryl', 'salbutamol  beclometasone', 'imipramine', 'neocytamen', 'histamine intolerance', 'prochlorperazine', 'mercaptopurine', 'enalapril  hydrochlorothiazide', 'salbutamol  ipratropium', 'glucosamine', 'paracetamol  domperidone', 'amitriptyline  perphenazine', 'actavis levothyroxine', 'deltacortril', 'levodopa  carbidopa  entacapone', 'levoxyl', 'clomipramine', 'quinine', 'lysine', 'cyproheptadine', 'minoxidil', 'lofepramine', 'dexamfetamine', 'glutamine', 'dichlorobenzyl alcohol', 'spironolactone  chlorothiazide', 'valsartan  hydrochlorothiazide', 'hydrochlorothiazide and lisinopril', 'hydroquinone', 'ephedrine', 'nizatidine', 'chlorquinaldol  hydrocortisone', 'triamcinolone acetonide', 'colestyramine', 'ephedrine  guaifenesin', 'methenamine', 'diphenhydramine', 'physostigmine', 'alverine  simeticone', 'noradrenaline', 'trimethoprim', 'betaine hydrochloride', 'hydralazine', 'triamterene  hydrochlorothiazide', 'benzoyl peroxide', 'doxylamine', 'levonorgestrel', 'levalbuterol', 'peptac liquid peppermint', 'trihexyphenidyl', 'propylthiouracil', 'pethidine', 'quinidine', 'tolterodine', 'tramazoline  dexamethasone', 'pollenase antihistamine', 'trimipramine', 'olopatadine', 'dihydroergotamine', 'ergotamine', 'hyoscyamine', 'arginine  lysine', 'tenofovir  emtricitabine  rilpivirine', 'dimethyl fumarate']\n",
      "\n",
      "Cluster 3: ['gabapentin', 'pregabalin', 'oxycontin', 'aspirin', 'statins', 'lupron', 'anticoagulants', 'metformin', 'ciprofloxacin', 'wellbutrin', 'atorvastatin', 'rosuvastatin', 'klonopin', 'dapagliflozin', 'digoxin', 'melatonin', 'ativan', 'wellbutrin xl', 'isotretinoin', 'quercetin', 'warfarin', 'heparin', 'metformin  glipizide', 'linagliptin  metformin', 'wellbutrin sr', 'focalin', 'simvastatin', 'group b strep', 'excedrin', 'alogliptin', 'alogliptin  metformin', 'phenytoin', 'pravastatin', 'dilantin', 'focalin xr', 'yasmin', 'epoetin beta', 'empagliflozin  metformin', 'dapagliflozin  metformin', 'fleet glycerin suppositories', 'sitagliptin  metformin', 'glutathione', 'epoetin zeta', 'budesonide  formoterol', 'chondroitin', 'linagliptin', 'empagliflozin', 'sitagliptin', 'betaprograne', 'glucophage', 'neurontin', 'herceptin', 'nexplanon', 'fragmin', 'ginkgo extract', 'ginseng', 'uniphyllin continus', 'ribavirin', 'diethylpropion', 'vildagliptin  metformin', 'sandostatin', 'half betaprograne', 'phyllocontin', 'solifenacin', 'silymarin', 'solifenacin  tamsulosin', 'biostatin', 'ivermectin', 'niacin', 'dalteparin', 'guaifenesin', 'leucovorin', 'lovastatin', 'simvastatin  ezetimibe', 'cortizone5', 'tinzaparin', 'epoetin alfa', 'septrin', 'somatropin', 'epanutin', 'augmentin', 'phorpain', 'biotin', 'rifampin', 'oxaliplatin', 'asthmanefrin', 'tristatin', 'nystatin', 'cogentin', 'biomelatonin', 'coumadin', 'isoflavones', 'bion tears']\n",
      "\n",
      "Cluster 23: ['ropinirole', 'nebivolol', 'tysabri', 'eligard', 'neupro', 'edoxaban', 'eliquis', 'ramipril', 'atenolol', 'oramorph', 'estrogel', 'norethisterone', 'losartan', 'benepali', 'candesartan', 'vistaril', 'linzess', 'buspar', 'ajovy', 'relvar ellipta', 'neulasta', 'benlysta', 'norco', 'asacol', 'levbid', 'elvanse', 'anoro ellipta', 'ozempic', 'amlodipine  olmesartan', 'rexulti', 'atrovent', 'nebido', 'ritalinsr', 'orserdu', 'ondansetron', 'olmesartan', 'olaparib', 'otezla', 'naprosyn', 'salofalk', 'salamol', 'oestrogel', 'crestor', 'valerian', 'sotacor', 'tikosyn', 'selegiline', 'oedema', 'nurtec odt', 'nefopam', 'goserelin', 'orlistat', 'actonel', 'forteo', 'ongentys', 'benserazide', 'buserelin', 'olumiant', 'butrans', 'ovestin', 'rocephin', 'canesten', 'alvesco', 'atrovent forte', 'androcur', 'attia', 'ikervis', 'soma', 'levemir', 'janumet', 'omacor', 'aranesp', 'estriol', 'saphris', 'elleste duet', 'nebilet', 'adapalene', 'noriday', 'gedarel', 'opdivo', 'coracten', 'ultibro breezhaler', 'levaquin', 'unaspirin', 'ocaliva', 'norgalax', 'aromasin', 'norvasc', 'elocon', 'sonata', 'janumet xr', 'marevan', 'levsin', 'elidel', 'elleste solo', 'nexavar', 'sevredol', 'seebri', 'saliveze', 'oracea', 'adalat la', 'orabet']\n",
      "\n",
      "Cluster 1: ['rotigotine', 'salivix', 'ventolin hfa', 'cryoablation', 'risperdal', 'nebulizer', 'adalimumab', 'carbidopa', 'desvenlafaxine', 'amisulpride', 'denosumab', 'ventolin', 'humulin i', 'guanfacine', 'amiodarone', 'peginterferon alfa2b', 'sulfasalazine', 'secukinumab', 'ipratropium', 'h pylori', 'peginterferon alfa2a', 'sotalol', 'reishi mushroom', 'colchicine', 'psyllium', 'rifaximin', 'seroxat', 'mysoline', 'strattera', 'salagen', 'sulfadiazine', 'nitrolingual pumpspray', 'lecithin', 'sirolimus', 'leuprolide', 'vasodilators', 'perindopril', 'biofreeze', 'nasofan nasal spray', 'prucalopride', 'hibiscrub', 'decapeptyl sr', 'sarilumab', 'predalone 50', 'balsalazide', 'humulin r', 'betamethasone', 'prilosec', 'golimumab', 'tenormin', 'mepolizumab', 'mepacrine', 'bevacizumab', 'milk thistle', 'atovaquone', 'ofatumumab', 'sirdupla', 'opicapone', 'kaolin', 'nexium', 'slophyllin', 'inulin', 'amifampridine', 'humulin', 'pamidronate', 'thalidomide', 'dapsone', 'prevacid', 'ustekinumab', 'ubiquinol', 'taurine', 'passion flower', 'sulfazine', 'gold thioglucose', 'upadacitinib', 'febuxostat', 'lactase', 'porphyria', 'cryotherapy', 'strontium ranelate', 'ursofalk', 'salmeterol', 'diprosalic', 'urodol', 'everolimus', 'eribulin', 'proair hfa', 'ipilimumab', 'neupogen', 'mrsa', 'galantamine', 'normacol granules', 'imodium ad', 'somatuline depot', 'sulfacetamide', 'naturethroid', 'sorafenib', 'motilium', 'sulphur']\n",
      "\n",
      "Cluster 37: ['zoladex', 'azathioprine', 'zovirax', 'zolmitriptan', 'zyprexa', 'azilect', 'zopiclone', 'zoloft', 'zytiga', 'zometa', 'gaviscon', 'zantac', 'verzenio', 'zemtard', 'xeloda', 'zonisamide', 'zomorph', 'zapain', 'zolpidem', 'zomig', 'zydelig', 'zofran odt', 'zirtek', 'zyrtec', 'gazyvaro', 'zepatier', 'zyflo', 'zamadol', 'cyramza', 'azelastine', 'zofran', 'glatiramer', 'xeljanz', 'ziac', 'zydol', 'xyzal', 'zocor', 'azyter', 'zeposia']\n",
      "\n",
      "Cluster 29: ['xolair', 'degarelix', 'pramipexole', 'cabazitaxel', 'xgeva', 'casodex', 'xarelto', 'effexor', 'hiprex', 'venetoclax', 'docetaxel', 'effexor xr', 'celebrex', 'subutex', 'protonix', 'pradaxa', 'naproxen', 'topamax', 'celexa', 'rituxan', 'hydrosalpinx', 'mirapex', 'rixathon', 'ranexa', 'xyrem', 'luvox', 'infliximab', 'avonex', 'faslodex', 'venlalic xl', 'amfexa', 'trintellix', 'brintellix', 'flexeril', 'miralax', 'exlax', 'concerta xl', 'euthyrox', 'silodyx', 'doxepin', 'nolvadex', 'imitrex', 'novomix', 'monomil xl', 'xopenex', 'cosentyx', 'trangina xl', 'requip xl', 'selenium', 'piroxicam', 'gasx', 'polyp', 'arimidex', 'xofigo', 'dupixent', 'paclitaxel', 'doxil', 'adizemxl', 'caelyx', 'cipralex', 'venclexta', 'tylex', 'nasonex', 'vensir xl', 'lovenox', 'flomax', 'librax', 'carmil xl', 'relpax', 'diamox', 'tiopex', 'maxidex', 'xaggitin xl', 'arcoxia', 'dovonex', 'epogen', 'lotronex', 'taclonex', 'natrilix', 'pemetrexed', 'lasix', 'mucinex', 'rozex', 'plavix', 'sativex', 'pamsvax xl', 'sominex', 'atarax', 'erbitux', 'lotemax', 'tenex', 'avelox', 'efudex', 'picolax', 'xifaxan', 'norflex', 'repinex']\n",
      "\n",
      "Cluster 28: ['advair', 'actemra', 'bumetanide', 'lynparza', 'latuda', 'lunesta', 'idelalisib', 'jaypirca', 'concerta', 'femara', 'kisqali', 'lyrica', 'amitiza', 'humalog', 'toujeo', 'erleada', 'jevtana', 'provera', 'buscopan', 'humira', 'aubagio', 'truvada', 'keytruda', 'gilenya', 'laxido', 'kelp', 'cimzia', 'kevzara', 'kesimpta', 'keppra', 'breo ellipta', 'spiriva', 'prasugrel', 'forxiga', 'irbesartan', 'orencia', 'pentasa', 'senna', 'cozaar', 'mounjaro', 'dymista', 'ampyra', 'fetzima', 'vitiligo', 'singulair', 'dulera', 'eylea', 'urso', 'ezetimibe', 'pau darco', 'abasaglar', 'locoid', 'simponi', 'savella', 'roactemra', 'senna  docusate', 'lixiana', 'farxiga', 'lumigan', 'jakafi', 'gemzar', 'tresiba', 'betmiga', 'esmya', 'perjeta', 'ponstan', 'depoprovera', 'mirabegron', 'spina bifida', 'imigran', 'alli', 'epclusa', 'questran', 'promacta', 'septra', 'tilade', 'kava kava', 'niaspan', 'lemtrada', 'kenalog', 'erelzi', 'jakavi', 'bonviva', 'hizentra', 'eklira genuair', 'dabigatran', 'namenda', 'octasa', 'nucala', 'arava', 'cambia', 'kola nut', 'leukeran', 'truxima', 'cartia', 'lokelma', 'kolanticon', 'febuday', 'aclasta', 'duaklir genuair', 'darbepoetin alfa', 'camptosar', 'alimta', 'stelara', 'sereflo', 'skyrizi', 'eviplera', 'kalydeco', 'adizem', 'kapake', 'nuedexta', 'rapaflo', 'cialis', 'invega sustenna', 'fasenra', 'sukkarto sr', 'levitra', 'soolantra', 'soliris', 'kadcyla', 'vidaza', 'reglan', 'allegra', 'rilutek', 'kaletra', 'irinotecan', 'impetigo', 'slozem', 'atripla', 'rifinah', 'delamanid', 'granupas', 'phenergan', 'lenvima', 'imfinzi', 'imjudo', 'repatha', 'invega', 'livalo', 'daytrana', 'gotu kola', 'ninlaro']\n",
      "\n",
      "Cluster 21: ['chronic pancreatitis', 'irritable bowel syndrome ibs', 'diverticular disease and diverticulitis', 'intestinal and stomach conditions', 'laxatives', 'colitis', 'sexually transmitted infection sti', 'mouth ulcers', 'gastritis', 'pleural effusion', 'primary biliary cholangitis pbc', 'crohns disease', 'gastroenteritis', 'mouth and dental conditions', 'mouth throat and dental infections', 'ulcers', 'ulcerative colitis', 'heartburn and acid reflux', 'sinusitis sinus infection', 'gastrooesophageal reflux disease', 'streptococcal infections', 'silent reflux', 'meningitis', 'gallbladder and bile duct diseases', 'bulimia', 'constipation', 'interstitial cystitis', 'gastroparesis', 'peptic ulcer disease', 'mouth sore', 'small intestine bacterial overgrowth sibo', 'myositis', 'enema', 'pancreatitis', 'food allergy', 'gastric balloon', 'piles haemorrhoids', 'endoscopy gastrointestinal', 'bile acid malabsorption', 'gallstones', 'bursitis', 'rhinitis', 'duodenitis', 'oesophageal conditions', 'ear infections', 'colonic polyps', 'barretts oesophagus', 'diverticulosis', 'collagenous colitis', 'bowel obstruction', 'inguinal hernia', 'nontuberculous mycobacterium', 'gastroscopy', 'diarrhoea', 'pseudomyxoma peritonei pmp', 'chlamydia', 'tonsillitis', 'pericarditis', 'clostridium difficile infections', 'dental abscess', 'polymyositis', 'cystitis', 'hernia', 'acute cholecystitis', 'acute pancreatitis', 'pleurisy', 'venous ulcer compression system', 'toothache', 'gastrointestinal infections', 'oral thrush mouth thrush', 'pneumonitis', 'staphylococcal infections', 'gingivitis and periodontitis', 'enteritis', 'anal fistula', 'appendicitis']\n",
      "\n",
      "Cluster 5: ['female infertility', 'androgen deprivation therapy adt', 'endometriosis', 'polycystic ovary syndrome pcos', 'contraception', 'pelvic pain', 'fertility', 'menopausal and perimenopausal disorders', 'estradiol', 'pregnancy', 'caesarean section', 'birth defects', 'premenstrual dysphoric disorder pmdd', 'progesterone', 'menopause', 'ovary removal', 'in vitro fertilisation ivf', 'postnatal support', 'bleeding from the bottom rectal bleeding', 'intrauterine device iud', 'intracytoplasmic sperm injection icsi', 'hysterectomy vaginal', 'gonadotrophin releasing hormone gnrh', 'erectile dysfunction', 'miscarriage', 'prolapse of the uterus', 'premenstrual syndrome pms', 'estrogen replacement therapy', 'sex hormone abnormalities', 'intrauterine insemination iui', 'pregnancy difficulties', 'excessive vomiting in pregnancy', 'heavy periods', 'vaginal ring', 'endometrial ablation', 'oestrogen', 'ovarian cyst', 'male infertility', 'ectopic pregnancy', 'period pain', 'irregular periods', 'contraceptive injection', 'menstrual problems', 'dysmenorrhoea', 'frozen embryo transfer fet', 'stillbirth', 'androgen insensitivity syndrome', 'loss of libido', 'absent periods', 'vaginal or vulval thrush', 'ejaculation problems', 'preeclampsia', 'crinone progesterone vaginal', 'contraceptive implant', 'estring vaginal ring', 'medroxyprogesterone  oestrogen']\n",
      "\n",
      "Cluster 27: ['montelukast', 'cladribine', 'tacrolimus', 'mirapexin', 'propranolol', 'cocodamol', 'lexapro', 'levodopa', 'xtandi', 'apixaban', 'buspirone', 'tirosint', 'vulvodynia', 'etodolac', 'ticagrelor', 'campral', 'haloperidol', 'tegretol', 'risedronate', 'sumatriptan', 'trileptal', 'plaquenil', 'anafranil', 'valaciclovir', 'valium', 'modafinil', 'toprol', 'tizanidine', 'verapamil', 'latanoprost  timolol', 'valsartan', 'elavil', 'enalapril', 'novorapid', 'tibolone', 'pirfenidone', 'liraglutide', 'dexamethasone', 'finasteride', 'bimatoprost  timolol', 'temazepam', 'codydramol', 'carbo taxol', 'semaglutide', 'solumedrone', 'tiotropium', 'lithotripsy', 'glipizide', 'carvedilol', 'calcitriol', 'nicorandil', 'utrogestan', 'calcipotriol', 'nabumetone', 'tapentadol', 'raloxifene', 'fenbid', 'voltaren', 'fenofibrate', 'glimepiride', 'spasmonal', 'latanoprost', 'alteplase', 'mannitol', 'taxol', 'testogel', 'teriparatide', 'nadolol', 'roaccutane', 'medrol', 'migraleve', 'tyrosine', 'solumedrol', 'fedratinib', 'sacubitril  valsartan', 'tadalafil', 'betacarotene', 'voltarol', 'toradol', 'rupatadine', 'larginine', 'ferinject', 'xalatan', 'priadel', 'largactil', 'topotecan', 'labetalol', 'naratriptan', 'vardenafil', 'detrol', 'fenoterol', 'restoril', 'geodon', 'armodafinil', 'feldene', 'solpadol', 'aldomet', 'perampanel', 'formoterol', 'cataflam', 'tafinlar', 'ichthammol', 'neoral', 'nytol', 'rilpivirine', 'tivicay', 'anusol', 'tolvaptan', 'solucortef', 'arthrotec', 'darzalex']\n",
      "\n",
      "Cluster 11: ['cellcept', 'calcichewd3', 'sinemet', 'targinact', 'provenge', 'coversyl', 'dimenhydrinate', 'vraylar', 'mst continus', 'lycopene', 'vyvanse', 'doctar', 'colace', 'prostap 3', 'trulicity', 'taxotere', 'pristiq', 'remedeine', 'prolia', 'iloprost', 'evorel', 'horizant', 'cortisone', 'seretide', 'incruse ellipta', 'securon sr', 'st johns wort', 'venesection', 'docusate', 'cosmocol', 'copaxone', 'tecfidera', 'jardiance', 'palexia', 'cinacalcet', 'provigil', 'reclast', 'trelegy ellipta', 'nicorette', 'betnovate', 'epilim', 'reboxetine', 'serevent', 'exemestane', 'duovent', 'prostap sr', 'lantus', 'mometasone', 'goitre', 'adcald3', 'depakine', '5htp', 'profen', 'vabysmo', 'sinemet cr', 'sutent', 'cardizem', 'probanthine', 'trodelvy', 'combivent', 'protopic', 'vimpat', 'calcichew', 'deflazacort', 'calquence', 'predone', 'piriton', 'boniva', 'theicald3', 'dienogest', 'tagrisso', 'entresto', 'tildiem retard', 'tildiem', 'adcal', 'cerelle', 'viviscal', 'piriteze', 'femodette', 'romiplostim', 'cetraben', 'sucralfate', 'maxalt', 'cilest', 'zonegran', 'gemcitabine', 'pariet', 'trajenta', 'tramacet', 'livial', 'revolade', 'emollients', 'docefrez', 'simeticone', 'pessary', 'cuvitru', 'cortef', 'capecitabine', 'mixtard', 'streptokinase', 'desogestrel', 'donepezil', 'travoprost', 'regurin', 'trelstar', 'tezspire', 'temgesic', 'carafate', 'theanine', 'senokot', 'constella', 'celevac', 'telmisartan', 'enstilar', 'vagotomy', 'forsteo', 'vagifem', 'entocort', 'unisom', 'dianette', 'femoston', 'stugeron', 'dioralyte', 'alprostadil', 'viridal', 'duoneb', 'corlanor', 'extavia', 'camcolit', 'resperal', 'movelat', 'gralise', 'tremfya', 'apremilast', 'tavneos', 'ironorm', 'papaverine', 'paraffin', 'tricor', 'nasacort', 'exjade', 'ethosuximide', 'tetanus', 'talimogene laherparepvec', 'temodar', 'cobalinh', 'triumeq', 'dutasteride', 'sinequan', 'procrit', 'descovy', 'prograf', 'maxitram', 'meropenem', 'ultracet', 'aproderm', 'aprovel', 'primidone', 'urecholine', 'percocet']\n",
      "\n",
      "Cluster 30: ['vitamin b12', 'vitamin b12 deficiency', 'vitamin d deficiency', 'vitamin d', 'vitamin b12  folic acid', 'vitamin and mineral deficiencies', 'vitamin d3', 'vitamin k2', 'vitamins', 'vitamin c', 'vitamin b', 'vitamin b9', 'vitamin b1', 'vitamin e', 'calcium  vitamin d3', 'vitamin b6', 'vitamin a', 'vitamin k', 'multivitamins', 'vitamin b2', 'retinol  vitamin d', 'vitamin d2']\n",
      "\n",
      "Cluster 2: ['orgovyx', 'avodart', 'madopar', 'rebif', 'lustral', 'circadin', 'nubeqa', 'pegasys', 'aerius', 'ibrance', 'piqray', 'atacand', 'complex b', 'pacemaker', 'dronedarone', 'coq10', 'multaq', 'interferon', 'deep heat', 'tums', 'mirena', 'hydrea', 'rytary', 'bosentan', 'interferon beta1a', 'lopressor', 'trimbow', 'metoject', 'selfharm', 'interferon alfa2b', 'dosulepin', 'requip', 'audavate', 'rinvoq', 'interferon beta1b', 'remeron', 'viibryd', 'serc16', 'anagrelide', 'topiramate', 'rivotril', 'resolor', 'bundle branch block', 'chantix', 'intuniv', 'microgynon', 'mezavant', 'stalevo', 'kyleena', 'metadate', 'mavenclad', 'junel121', 'nalcrom', 'abatacept', 'rybelsus', 'bactrim ds', 'rasagiline', 'creon', 'red clover', 'diprobase', 'afinitor', 'strontium89', 'rayos', 'doublebase', 'etanercept', 'ofev', 'betaseron', 'imuran', 'bezafibrate', 'qvar', 'trigger finger', 'besremi', 'uribel', 'bactrim', 'dofetilide', 'evra patch', 'modopar', 'avastin', 'tecentriq', 'nifedipress', 'bunions', 'nilandron', 'remsima', 'coreg', 'flopred', 'nplate', 'naramig', 'avamys', 'zerobase', 'zeroaqs', 'aciclovir', 'lutein', 'removab', 'synvisc', 'airomir', 'harvoni', 'tenofovir', 'entecavir', 'evenity', 'shortec', 'dovobet', 'colpermin', 'ialuril', 'intal', 'aimovig', 'aricept', 'flexiseq', 'remicade', 'colcrys', 'inflectra', 'losec', 'mestinon', 'venofer', 'myfortic', 'questran light', 'arnica', 'kalms', 'emsam', 'rigevidon', 'afatinib', 'nivolumab', 'yervoy', 'micardis', 'differin', 'theo24', 'ivacaftor', 'nuvaring', 'antid', 'lucentis', 'mobic', 'nuvigil', 'forceval', 'medikinet', 'caverject', 'traction', 'radium 223', 'imatinib', 'monofer', 'decitabine', 'novolog', 'mekinist', 'actos', 'geltears', 'revlimid', 'lialda', 'dolutegravir', 'imap', 'rifater', 'dhc continus', 'ip6  inositol', 'megace', 'ritonavir', 'anakinra', 'moviprep', 'deep freeze', 'butchers broom', 'macushield', 'midrid', 'maviret', 'sofosbuvir', 'distaclor mr']\n",
      "\n",
      "Cluster 38: ['dry eye syndrome', 'eyesight problems', 'glaucoma', 'eye movement desensitization and reprocessing emdr', 'agerelated macular degeneration amd', 'vitapos eye', 'lazy eye', 'cataract surgery', 'cataracts', 'retinal detachment', 'astigmatism', 'visual impairment and blindness', 'double vision', 'eyedrops', 'eye conditions', 'allergic conjunctivitis', 'floaters in the eyes', 'agerelated cataracts', 'vision loss', 'retinitis', 'eye pain', 'neuromyelitis optica', 'eye injuries', 'cornea transplant', 'eye enucleation', 'mgdrx eyebag', 'retina', 'lasik', 'exophthalmos bulging eyes', 'eye cancer', 'colour vision deficiency']\n",
      "\n",
      "Cluster 32: ['sodium valproate', 'saline', 'magnesium citrate', 'magnesium', 'iron', 'iron dextran', 'calcium carbonate', 'lithium', 'zinc', 'ferrous sulphate', 'calcium', 'lithium carbonate', 'sodium picosulfate', 'magnesium deficiency', 'calcium  magnesium', 'zinc sulfate', 'calcium citrate', 'sodium cromoglicate', 'potassium hydroxide', 'sodium bicarbonate', 'magnesium oxide', 'manganese', 'potassium gluconate', 'potassium chloride', 'magnesium sulphate', 'glycopyrronium', 'sodium', 'sodium aurothiomalate', 'iron sucrose', 'slow sodium', 'bile salts', 'potassium citrate', 'chloral hydrate', 'solgar magnesium citrate']\n",
      "\n",
      "Cluster 15: ['celluvisc eye drops', 'lacri lube eye drops', 'monopost eye drops', 'cosopt eye drops', 'watering eye', 'iopidine eye drops', 'hylocare eye drops', 'systane eye drops', 'refresh eye drops', 'ganfort eye drops', 'clinitas eye drops', 'restasis eye drops', 'thealoz duo eye drops', 'oxyal eye drops', 'alphagan eye drops', 'simbrinza eye drops', 'optilast eye drops', 'azarga eye drops', 'azopt eye drops', 'tidomat eye drops', 'optive eye drops', 'alomide eye drops', 'ciloxan eye drops', 'lubristil eye drops', 'ceftazidime eye drops', 'sodium hyaluronate eye drops']\n",
      "\n"
     ]
    }
   ],
   "source": [
    "from sentence_transformers import SentenceTransformer\n",
    "from sklearn.cluster import KMeans\n",
    "from sklearn.preprocessing import StandardScaler\n",
    "from collections import defaultdict\n",
    "import numpy as np\n",
    "import json\n",
    "import re\n",
    "\n",
    "base_dir = os.path.abspath(\"..\")\n",
    "input = os.path.join(base_dir, \"data\", \"tag_clustering\", \"all_tags.json\")\n",
    "\n",
    "# Load tags from JSON file\n",
    "with open(input, 'r', encoding='utf-8') as file:\n",
    "    tags = json.load(file)\n",
    "\n",
    "# Preprocess tags (clean and lowercase)\n",
    "def preprocess_tag(tag):\n",
    "    tag = re.sub(r'[^a-zA-Z0-9 ]', '', tag)\n",
    "    return tag.lower()\n",
    "\n",
    "tags = [preprocess_tag(tag) for tag in tags]\n",
    "\n",
    "# Initialize BERT model\n",
    "model = SentenceTransformer('all-MiniLM-L6-v2')\n",
    "\n",
    "# Generate BERT embeddings\n",
    "bert_embeddings = model.encode(tags, convert_to_numpy=True)\n",
    "\n",
    "# Save BERT embeddings\n",
    "# with open('BERT_word_embeddings.json', 'w', encoding='utf-8') as file:\n",
    "#     json.dump(bert_embeddings.tolist(), file, indent=4)\n",
    "\n",
    "# Scale embeddings to compare with Word2Vec\n",
    "scaler = StandardScaler()\n",
    "bert_embeddings_scaled = scaler.fit_transform(bert_embeddings)\n",
    "\n",
    "# Apply K-Means to embeddings\n",
    "num_clusters = 40\n",
    "kmeans = KMeans(n_clusters=num_clusters, random_state=42, n_init=10)\n",
    "kmeans.fit(bert_embeddings_scaled)\n",
    "labels = kmeans.labels_\n",
    "\n",
    "# Organize clustered tags\n",
    "bert_clusters = defaultdict(list)\n",
    "for tag, label in zip(tags, labels):\n",
    "    bert_clusters[label].append(tag)\n",
    "\n",
    "# Convert keys to strings for JSON serialization\n",
    "bert_clusters_keys = {str(k): v for k, v in bert_clusters.items()}\n",
    "\n",
    "# Save\n",
    "# with open('bert_kmeans_clusters.json', 'w', encoding='utf-8') as file:\n",
    "#     json.dump(bert_clusters_keys, file, indent=4)\n",
    "    \n",
    "print(f\"Total BERT clusters: {len(bert_clusters)}\\n\")\n",
    "\n",
    "for cluster, cluster_tags in bert_clusters.items():\n",
    "    print(f\"Cluster {cluster}: {cluster_tags}\\n\")"
   ]
  },
  {
   "cell_type": "markdown",
   "id": "b6a1958d-287a-4543-81a0-e9abc06af6db",
   "metadata": {},
   "source": [
    "## Promt"
   ]
  },
  {
   "cell_type": "markdown",
   "id": "4f7475a3-0960-4642-80aa-6c24343b7119",
   "metadata": {},
   "source": [
    "Cluster the health-related tags. One cluster should be dedicated to a specific health\n",
    "condition or a group of similar health conditions. Here are some predefined clusters:\n",
    "1. Cardiovascular Diseases\n",
    "2. Neurological Disorders\n",
    "3. Autoimmune Diseases\n",
    "4. Mental Health\n",
    "5. Cancer\n",
    "6. Reproductive Health\n",
    "7. Substance Abuse\n",
    "8. Lifestyle\n",
    "Before assigning a tag to a cluster, go through all predefined clusters and decide where\n",
    "it fits best. For tags that do not belong to any of the predefined clusters, perform topic\n",
    "modeling and suggest new clusters.\n",
    "Note: In case of overlaps (e.g., “colon cancer” could belong to both “digestive health” and “cancer”), assign all tags containing “cancer”, “tumor”, etc., to the “Cancer” cluster.\n",
    "Share your progress in chunks – 5 clusters at a time. Ensure that each tag is assigned\n",
    "to only one cluster. At the end, deliver all clusters and their tags in a JSON file."
   ]
  },
  {
   "cell_type": "markdown",
   "id": "270f66fc-e5a2-4fcf-9d59-fae426aaf52a",
   "metadata": {},
   "source": [
    "## Follow-Up Promt"
   ]
  },
  {
   "cell_type": "markdown",
   "id": "538640da-33e4-44e7-9506-941296ae2874",
   "metadata": {},
   "source": [
    "Cluster the unassigned tags."
   ]
  }
 ],
 "metadata": {
  "kernelspec": {
   "display_name": "Python 3 (ipykernel)",
   "language": "python",
   "name": "python3"
  },
  "language_info": {
   "codemirror_mode": {
    "name": "ipython",
    "version": 3
   },
   "file_extension": ".py",
   "mimetype": "text/x-python",
   "name": "python",
   "nbconvert_exporter": "python",
   "pygments_lexer": "ipython3",
   "version": "3.13.3"
  }
 },
 "nbformat": 4,
 "nbformat_minor": 5
}
