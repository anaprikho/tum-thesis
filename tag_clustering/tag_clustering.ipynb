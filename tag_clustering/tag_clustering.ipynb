{
 "cells": [
  {
   "cell_type": "markdown",
   "id": "9c818983-b635-4509-947d-7d5b8cfa8805",
   "metadata": {},
   "source": [
    "# Create a list of all tags {'tag' : frequency}"
   ]
  },
  {
   "cell_type": "markdown",
   "id": "c7f8042a-91b9-4e48-998b-a7e21caa4a8d",
   "metadata": {},
   "source": [
    "Extract tags from profiles data files and create a list of tags and frequencies."
   ]
  },
  {
   "cell_type": "code",
   "execution_count": 8,
   "id": "8cf86d9e-4e60-4a33-aee1-ae31e889300c",
   "metadata": {},
   "outputs": [
    {
     "name": "stdout",
     "output_type": "stream",
     "text": [
      "Total unique tags (excluding 'N/A'): 2965\n",
      "Saved to: C:\\Users\\nastya\\thesis\\tum-thesis\\data\\tag_clustering\\all_tags.json\n"
     ]
    }
   ],
   "source": [
    "import json\n",
    "import os\n",
    "from collections import Counter\n",
    "\n",
    "# Profile data files containing tags\n",
    "base_dir = os.path.abspath(\"..\")  # go one level back to root\n",
    "general_profiles = os.path.join(base_dir, \"data\", \"scraped_data\", \"general_profiles_data.json\")\n",
    "profiles_by_comm = os.path.join(base_dir, \"data\", \"scraped_data\", \"profiles_by_comm_data.json\")\n",
    "output_path = os.path.join(base_dir, \"data\", \"tag_clustering\", \"all_tags.json\")\n",
    "\n",
    "all_tags = []\n",
    "\n",
    "with open(general_profiles, \"r\", encoding=\"utf-8\") as file:\n",
    "    profiles = json.load(file)\n",
    "\n",
    "    for profile in profiles.values():\n",
    "        all_tags.extend(profile.get(\"tags\", []))\n",
    "\n",
    "with open(profiles_by_comm, \"r\", encoding=\"utf-8\") as file:\n",
    "    profiles_by_comm = json.load(file)\n",
    "\n",
    "    for community in profiles_by_comm.values():\n",
    "        for profile in community.values():\n",
    "            all_tags.extend(profile.get(\"tags\", []))\n",
    "\n",
    "# Remove 'N/A' tag values\n",
    "all_tags = [tag for tag in all_tags if tag != \"N/A\"]\n",
    "\n",
    "# Count tag frequencies and save to JSON\n",
    "tag_counts = dict(Counter(all_tags))\n",
    "\n",
    "with open(output_path, \"w\", encoding=\"utf-8\") as out:\n",
    "    json.dump(tag_counts, out, indent=4)\n",
    "\n",
    "print(f\"Total unique tags (excluding 'N/A'): {len(tag_counts)}\")\n",
    "print(f\"Saved to: {output_path}\")"
   ]
  },
  {
   "cell_type": "code",
   "execution_count": null,
   "id": "13f3b691-c828-470c-a6c7-8b0b132c04d4",
   "metadata": {},
   "outputs": [],
   "source": []
  }
 ],
 "metadata": {
  "kernelspec": {
   "display_name": "Python 3.11 (gensim_env)",
   "language": "python",
   "name": "gensim_env"
  },
  "language_info": {
   "codemirror_mode": {
    "name": "ipython",
    "version": 3
   },
   "file_extension": ".py",
   "mimetype": "text/x-python",
   "name": "python",
   "nbconvert_exporter": "python",
   "pygments_lexer": "ipython3",
   "version": "3.11.6"
  }
 },
 "nbformat": 4,
 "nbformat_minor": 5
}
